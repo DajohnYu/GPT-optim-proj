{
 "cells": [
  {
   "attachments": {},
   "cell_type": "markdown",
   "metadata": {},
   "source": [
    "# Enhancing Whisper transcriptions: pre- & post-processing techniques\n",
    "\n",
    "This notebook offers a guide to improve the Whisper's transcriptions. We'll streamline your audio data via trimming and segmentation, enhancing Whisper's transcription quality. After transcriptions, we'll refine the output by adding punctuation, adjusting product terminology (e.g., 'five two nine' to '529'), and mitigating Unicode issues. These strategies will help improve the clarity of your transcriptions, but remember, customization based on your unique use-case may be beneficial.\n",
    "\n"
   ]
  },
  {
   "attachments": {},
   "cell_type": "markdown",
   "metadata": {},
   "source": [
    "## Setup\n",
    "\n",
    "To get started let's import a few different libraries:\n",
    "\n",
    "- [PyDub](http://pydub.com/) is a simple and easy-to-use Python library for audio processing tasks such as slicing, concatenating, and exporting audio files.\n",
    "\n",
    "- The `Audio` class from the `IPython.display` module allows you to create an audio control that can play sound in Jupyter notebooks, providing a straightforward way to play audio data directly in your notebook.\n",
    "\n",
    "- For our audio file, we'll use a fictional earnings call written by ChatGPT and read aloud by the author.This audio file is relatively short, but hopefully provides you with an illustrative idea of how these pre and post processing steps can be applied to any audio file. "
   ]
  },
  {
   "cell_type": "code",
   "execution_count": null,
   "metadata": {},
   "outputs": [],
   "source": [
    "from openai import OpenAI\n",
    "import os\n",
    "import urllib\n",
    "from IPython.display import Audio\n",
    "from pathlib import Path\n",
    "from pydub import AudioSegment\n",
    "import ssl"
   ]
  },
  {
   "cell_type": "code",
   "execution_count": null,
   "metadata": {},
   "outputs": [],
   "source": [
    "client = OpenAI()\n",
    "client.api_key = os.getenv(\"OPENAI_API_KEY\")"
   ]
  },
  {
   "cell_type": "code",
   "execution_count": null,
   "metadata": {},
   "outputs": [],
   "source": [
    "# set download paths\n",
    "earnings_call_remote_filepath = \"https://cdn.openai.com/API/examples/data/EarningsCall.wav\"\n",
    "\n",
    "# set local save locations\n",
    "earnings_call_filepath = \"data/EarningsCall.wav\"\n",
    "\n",
    "# download example audio files and save locally\n",
    "ssl._create_default_https_context = ssl._create_unverified_context\n",
    "urllib.request.urlretrieve(earnings_call_remote_filepath, earnings_call_filepath)"
   ]
  },
  {
   "attachments": {},
   "cell_type": "markdown",
   "metadata": {},
   "source": [
    "At times, files with long silences at the beginning can cause Whisper to transcribe the audio incorrectly. We'll use Pydub to detect and trim the silence. \n",
    "\n",
    "Here, we've set the decibel threshold of 20. You can change this if you would like."
   ]
  },
  {
   "cell_type": "code",
   "execution_count": null,
   "metadata": {},
   "outputs": [],
   "source": [
    "# Function to detect leading silence\n",
    "# Returns the number of milliseconds until the first sound (chunk averaging more than X decibels)\n",
    "def milliseconds_until_sound(sound, silence_threshold_in_decibels=-20.0, chunk_size=10):\n",
    "    trim_ms = 0  # ms\n",
    "\n",
    "    assert chunk_size > 0  # to avoid infinite loop\n",
    "    while sound[trim_ms:trim_ms+chunk_size].dBFS < silence_threshold_in_decibels and trim_ms < len(sound):\n",
    "        trim_ms += chunk_size\n",
    "\n",
    "    return trim_ms\n"
   ]
  },
  {
   "cell_type": "code",
   "execution_count": null,
   "metadata": {},
   "outputs": [],
   "source": [
    "def trim_start(filepath):\n",
    "    path = Path(filepath)\n",
    "    directory = path.parent\n",
    "    filename = path.name\n",
    "    audio = AudioSegment.from_file(filepath, format=\"wav\")\n",
    "    start_trim = milliseconds_until_sound(audio)\n",
    "    trimmed = audio[start_trim:]\n",
    "    new_filename = directory / f\"trimmed_{filename}\"\n",
    "    trimmed.export(new_filename, format=\"wav\")\n",
    "    return trimmed, new_filename\n"
   ]
  },
  {
   "cell_type": "code",
   "execution_count": null,
   "metadata": {},
   "outputs": [],
   "source": [
    "def transcribe_audio(file,output_dir):\n",
    "    audio_path = os.path.join(output_dir, file)\n",
    "    with open(audio_path, 'rb') as audio_data:\n",
    "        transcription = client.audio.transcriptions.create(\n",
    "            model=\"whisper-1\", file=audio_data)\n",
    "        return transcription.text"
   ]
  },
  {
   "attachments": {},
   "cell_type": "markdown",
   "metadata": {},
   "source": [
    "At times, we've seen unicode character injection in transcripts, removing any non-ASCII characters should help mitigate this issue.\n",
    "\n",
    "Keep in mind you should not use this function if you are transcribing in Greek, Cyrillic, Arabic, Chinese, etc"
   ]
  },
  {
   "cell_type": "code",
   "execution_count": null,
   "metadata": {},
   "outputs": [],
   "source": [
    "# Define function to remove non-ascii characters\n",
    "def remove_non_ascii(text):\n",
    "    return ''.join(i for i in text if ord(i)<128)\n"
   ]
  },
  {
   "attachments": {},
   "cell_type": "markdown",
   "metadata": {},
   "source": [
    "This function will add formatting and punctuation to our transcript. Whisper generates a transcript with punctuation but without formatting."
   ]
  },
  {
   "cell_type": "code",
   "execution_count": null,
   "metadata": {},
   "outputs": [],
   "source": [
    "# Define function to add punctuation\n",
    "def punctuation_assistant(ascii_transcript):\n",
    "\n",
    "    system_prompt = \"\"\"You are a helpful assistant that adds punctuation to text.\n",
    "      Preserve the original words and only insert necessary punctuation such as periods,\n",
    "     commas, capialization, symbols like dollar sings or percentage signs, and formatting.\n",
    "     Use only the context provided. If there is no context provided say, 'No context provided'\\n\"\"\"\n",
    "    response = client.chat.completions.create(\n",
    "        model=\"gpt-3.5-turbo\",\n",
    "        temperature=0,\n",
    "        messages=[\n",
    "            {\n",
    "                \"role\": \"system\",\n",
    "                \"content\": system_prompt\n",
    "            },\n",
    "            {\n",
    "                \"role\": \"user\",\n",
    "                \"content\": ascii_transcript\n",
    "            }\n",
    "        ]\n",
    "    )\n",
    "    return response\n"
   ]
  },
  {
   "attachments": {},
   "cell_type": "markdown",
   "metadata": {},
   "source": [
    "Our audio file is a recording from a fake earnings call that includes a lot of financial products. This function can help ensure that if Whisper transcribes these financial product names incorrectly, that they can be corrected. "
   ]
  },
  {
   "cell_type": "code",
   "execution_count": null,
   "metadata": {},
   "outputs": [],
   "source": [
    "# Define function to fix product mispellings\n",
    "def product_assistant(ascii_transcript):\n",
    "    system_prompt = \"\"\"You are an intelligent assistant specializing in financial products;\n",
    "    your task is to process transcripts of earnings calls, ensuring that all references to\n",
    "     financial products and common financial terms are in the correct format. For each\n",
    "     financial product or common term that is typically abbreviated as an acronym, the full term \n",
    "    should be spelled out followed by the acronym in parentheses. For example, '401k' should be\n",
    "     transformed to '401(k) retirement savings plan', 'HSA' should be transformed to 'Health Savings Account (HSA)'\n",
    "    , 'ROA' should be transformed to 'Return on Assets (ROA)', 'VaR' should be transformed to 'Value at Risk (VaR)'\n",
    ", and 'PB' should be transformed to 'Price to Book (PB) ratio'. Similarly, transform spoken numbers representing \n",
    "financial products into their numeric representations, followed by the full name of the product in parentheses. \n",
    "For instance, 'five two nine' to '529 (Education Savings Plan)' and 'four zero one k' to '401(k) (Retirement Savings Plan)'.\n",
    " However, be aware that some acronyms can have different meanings based on the context (e.g., 'LTV' can stand for \n",
    "'Loan to Value' or 'Lifetime Value'). You will need to discern from the context which term is being referred to \n",
    "and apply the appropriate transformation. In cases where numerical figures or metrics are spelled out but do not \n",
    "represent specific financial products (like 'twenty three percent'), these should be left as is. Your role is to\n",
    " analyze and adjust financial product terminology in the text. Once you've done that, produce the adjusted \n",
    " transcript and a list of the words you've changed\"\"\"\n",
    "    response = client.chat.completions.create(\n",
    "        model=\"gpt-4\",\n",
    "        temperature=0,\n",
    "        messages=[\n",
    "            {\n",
    "                \"role\": \"system\",\n",
    "                \"content\": system_prompt\n",
    "            },\n",
    "            {\n",
    "                \"role\": \"user\",\n",
    "                \"content\": ascii_transcript\n",
    "            }\n",
    "        ]\n",
    "    )\n",
    "    return response\n"
   ]
  },
  {
   "attachments": {},
   "cell_type": "markdown",
   "metadata": {},
   "source": [
    "This function will create a new file with 'trimmed' appended to the original file name"
   ]
  },
  {
   "cell_type": "code",
   "execution_count": null,
   "metadata": {},
   "outputs": [],
   "source": [
    "# Trim the start of the original audio file\n",
    "trimmed_audio = trim_start(earnings_call_filepath)\n"
   ]
  },
  {
   "cell_type": "code",
   "execution_count": null,
   "metadata": {},
   "outputs": [],
   "source": [
    "trimmed_audio, trimmed_filename = trim_start(earnings_call_filepath)\n"
   ]
  },
  {
   "attachments": {},
   "cell_type": "markdown",
   "metadata": {},
   "source": [
    "Our fake earnings report audio file is fairly short in length, so we'll adjust the segments accordingly. Keep in mind you can adjust the segment length as you need."
   ]
  },
  {
   "cell_type": "code",
   "execution_count": null,
   "metadata": {},
   "outputs": [],
   "source": [
    "# Segment audio\n",
    "trimmed_audio = AudioSegment.from_wav(trimmed_filename)  # Load the trimmed audio file\n",
    "\n",
    "one_minute = 1 * 60 * 1000  # Duration for each segment (in milliseconds)\n",
    "\n",
    "start_time = 0  # Start time for the first segment\n",
    "\n",
    "i = 0  # Index for naming the segmented files\n",
    "\n",
    "output_dir_trimmed = \"trimmed_earnings_directory\"  # Output directory for the segmented files\n",
    "\n",
    "if not os.path.isdir(output_dir_trimmed):  # Create the output directory if it does not exist\n",
    "    os.makedirs(output_dir_trimmed)\n",
    "\n",
    "while start_time < len(trimmed_audio):  # Loop over the trimmed audio file\n",
    "    segment = trimmed_audio[start_time:start_time + one_minute]  # Extract a segment\n",
    "    segment.export(os.path.join(output_dir_trimmed, f\"trimmed_{i:02d}.wav\"), format=\"wav\")  # Save the segment\n",
    "    start_time += one_minute  # Update the start time for the next segment\n",
    "    i += 1  # Increment the index for naming the next file\n"
   ]
  },
  {
   "cell_type": "code",
   "execution_count": null,
   "metadata": {},
   "outputs": [],
   "source": [
    "# Get list of trimmed and segmented audio files and sort them numerically\n",
    "audio_files = sorted(\n",
    "    (f for f in os.listdir(output_dir_trimmed) if f.endswith(\".wav\")),\n",
    "    key=lambda f: int(''.join(filter(str.isdigit, f)))\n",
    ")\n"
   ]
  },
  {
   "cell_type": "code",
   "execution_count": null,
   "metadata": {},
   "outputs": [],
   "source": [
    "# Use a loop to apply the transcribe function to all audio files\n",
    "transcriptions = [transcribe_audio(file, output_dir_trimmed) for file in audio_files]\n"
   ]
  },
  {
   "cell_type": "code",
   "execution_count": null,
   "metadata": {},
   "outputs": [],
   "source": [
    "# Concatenate the transcriptions\n",
    "full_transcript = ' '.join(transcriptions)"
   ]
  },
  {
   "cell_type": "code",
   "execution_count": null,
   "metadata": {},
   "outputs": [],
   "source": [
    "print(full_transcript)"
   ]
  },
  {
   "cell_type": "code",
   "execution_count": null,
   "metadata": {},
   "outputs": [],
   "source": [
    "# Remove non-ascii characters from the transcript\n",
    "ascii_transcript = remove_non_ascii(full_transcript)"
   ]
  },
  {
   "cell_type": "code",
   "execution_count": null,
   "metadata": {},
   "outputs": [],
   "source": [
    "print(ascii_transcript)"
   ]
  },
  {
   "cell_type": "code",
   "execution_count": null,
   "metadata": {},
   "outputs": [],
   "source": [
    "# Use punctuation assistant function\n",
    "response = punctuation_assistant(ascii_transcript)"
   ]
  },
  {
   "cell_type": "code",
   "execution_count": null,
   "metadata": {},
   "outputs": [],
   "source": [
    "# Extract the punctuated transcript from the model's response\n",
    "punctuated_transcript = response.choices[0].message.content\n"
   ]
  },
  {
   "cell_type": "code",
   "execution_count": null,
   "metadata": {},
   "outputs": [],
   "source": [
    "print(punctuated_transcript)"
   ]
  },
  {
   "cell_type": "code",
   "execution_count": null,
   "metadata": {},
   "outputs": [],
   "source": [
    "# Use product assistant function\n",
    "response = product_assistant(punctuated_transcript)\n"
   ]
  },
  {
   "cell_type": "code",
   "execution_count": null,
   "metadata": {},
   "outputs": [],
   "source": [
    "# Extract the final transcript from the model's response\n",
    "final_transcript = response.choices[0].message.content"
   ]
  },
  {
   "cell_type": "code",
   "execution_count": null,
   "metadata": {},
   "outputs": [],
   "source": [
    "print(final_transcript)"
   ]
  }
 ],
 "metadata": {
  "kernelspec": {
   "display_name": "Python 3",
   "language": "python",
   "name": "python3"
  },
  "language_info": {
   "codemirror_mode": {
    "name": "ipython",
    "version": 3
   },
   "file_extension": ".py",
   "mimetype": "text/x-python",
   "name": "python",
   "nbconvert_exporter": "python",
   "pygments_lexer": "ipython3",
   "version": "3.11.5"
  },
  "orig_nbformat": 4
 },
 "nbformat": 4,
 "nbformat_minor": 2
}
