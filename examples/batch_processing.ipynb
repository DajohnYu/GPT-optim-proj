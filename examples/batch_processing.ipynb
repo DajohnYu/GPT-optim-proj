{
 "cells": [
  {
   "cell_type": "markdown",
   "id": "51c7a1f9",
   "metadata": {},
   "source": [
    "# Batch processing with the Batch API\n",
    "\n",
    "The new Batch API allows to **create async batch jobs for a lower price and with higher rate limits**.\n",
    "\n",
    "Jobs will be completed within 24h, but can be completed faster depending on global usage. \n",
    "\n",
    "This notebook covers how to use the Batch API with a practical example.\n",
    "\n",
    "As an example, we will caption images using the Amazon furniture dataset, using the `gpt-4-vision-preview` model. \n",
    "\n",
    "Please note that multiple models are available through the Batch API, and that you can use several parameters in your batch API calls, as you would with the Chat Completions endpoint."
   ]
  },
  {
   "cell_type": "markdown",
   "id": "85ae3c4e",
   "metadata": {},
   "source": [
    "## Setup"
   ]
  },
  {
   "cell_type": "markdown",
   "id": "0646f81c",
   "metadata": {},
   "source": [
    "### Imports"
   ]
  },
  {
   "cell_type": "code",
   "execution_count": null,
   "id": "02e22580",
   "metadata": {},
   "outputs": [],
   "source": [
    "# Make sure you have the latest version of the SDK available to use the Batch API\n",
    "%pip install openai --upgrade"
   ]
  },
  {
   "cell_type": "code",
   "execution_count": 1,
   "id": "726bacba",
   "metadata": {},
   "outputs": [],
   "source": [
    "import json\n",
    "from openai import OpenAI\n",
    "import pandas as pd\n",
    "from IPython.display import Image, display"
   ]
  },
  {
   "cell_type": "code",
   "execution_count": 2,
   "id": "4ac0c9a7",
   "metadata": {},
   "outputs": [],
   "source": [
    "# Initializing OpenAI client - see https://platform.openai.com/docs/quickstart?context=python\n",
    "client = OpenAI()"
   ]
  },
  {
   "cell_type": "markdown",
   "id": "5d20e638",
   "metadata": {},
   "source": [
    "### Loading data"
   ]
  },
  {
   "cell_type": "code",
   "execution_count": 3,
   "id": "079d21e7",
   "metadata": {},
   "outputs": [],
   "source": [
    "dataset_path = \"data/amazon_furniture_dataset.csv\""
   ]
  },
  {
   "cell_type": "code",
   "execution_count": 4,
   "id": "9c3912b8",
   "metadata": {},
   "outputs": [
    {
     "data": {
      "text/html": [
       "<div>\n",
       "<style scoped>\n",
       "    .dataframe tbody tr th:only-of-type {\n",
       "        vertical-align: middle;\n",
       "    }\n",
       "\n",
       "    .dataframe tbody tr th {\n",
       "        vertical-align: top;\n",
       "    }\n",
       "\n",
       "    .dataframe thead th {\n",
       "        text-align: right;\n",
       "    }\n",
       "</style>\n",
       "<table border=\"1\" class=\"dataframe\">\n",
       "  <thead>\n",
       "    <tr style=\"text-align: right;\">\n",
       "      <th></th>\n",
       "      <th>asin</th>\n",
       "      <th>url</th>\n",
       "      <th>title</th>\n",
       "      <th>brand</th>\n",
       "      <th>price</th>\n",
       "      <th>availability</th>\n",
       "      <th>categories</th>\n",
       "      <th>primary_image</th>\n",
       "      <th>images</th>\n",
       "      <th>upc</th>\n",
       "      <th>...</th>\n",
       "      <th>color</th>\n",
       "      <th>material</th>\n",
       "      <th>style</th>\n",
       "      <th>important_information</th>\n",
       "      <th>product_overview</th>\n",
       "      <th>about_item</th>\n",
       "      <th>description</th>\n",
       "      <th>specifications</th>\n",
       "      <th>uniq_id</th>\n",
       "      <th>scraped_at</th>\n",
       "    </tr>\n",
       "  </thead>\n",
       "  <tbody>\n",
       "    <tr>\n",
       "      <th>0</th>\n",
       "      <td>B0CJHKVG6P</td>\n",
       "      <td>https://www.amazon.com/dp/B0CJHKVG6P</td>\n",
       "      <td>GOYMFK 1pc Free Standing Shoe Rack, Multi-laye...</td>\n",
       "      <td>GOYMFK</td>\n",
       "      <td>$24.99</td>\n",
       "      <td>Only 13 left in stock - order soon.</td>\n",
       "      <td>['Home &amp; Kitchen', 'Storage &amp; Organization', '...</td>\n",
       "      <td>https://m.media-amazon.com/images/I/416WaLx10j...</td>\n",
       "      <td>['https://m.media-amazon.com/images/I/416WaLx1...</td>\n",
       "      <td>NaN</td>\n",
       "      <td>...</td>\n",
       "      <td>White</td>\n",
       "      <td>Metal</td>\n",
       "      <td>Modern</td>\n",
       "      <td>[]</td>\n",
       "      <td>[{'Brand': ' GOYMFK '}, {'Color': ' White '}, ...</td>\n",
       "      <td>['Multiple layers: Provides ample storage spac...</td>\n",
       "      <td>multiple shoes, coats, hats, and other items E...</td>\n",
       "      <td>['Brand: GOYMFK', 'Color: White', 'Material: M...</td>\n",
       "      <td>02593e81-5c09-5069-8516-b0b29f439ded</td>\n",
       "      <td>2024-02-02 15:15:08</td>\n",
       "    </tr>\n",
       "    <tr>\n",
       "      <th>1</th>\n",
       "      <td>B0B66QHB23</td>\n",
       "      <td>https://www.amazon.com/dp/B0B66QHB23</td>\n",
       "      <td>subrtex Leather ding Room, Dining Chairs Set o...</td>\n",
       "      <td>subrtex</td>\n",
       "      <td>NaN</td>\n",
       "      <td>NaN</td>\n",
       "      <td>['Home &amp; Kitchen', 'Furniture', 'Dining Room F...</td>\n",
       "      <td>https://m.media-amazon.com/images/I/31SejUEWY7...</td>\n",
       "      <td>['https://m.media-amazon.com/images/I/31SejUEW...</td>\n",
       "      <td>NaN</td>\n",
       "      <td>...</td>\n",
       "      <td>Black</td>\n",
       "      <td>Sponge</td>\n",
       "      <td>Black Rubber Wood</td>\n",
       "      <td>[]</td>\n",
       "      <td>NaN</td>\n",
       "      <td>['【Easy Assembly】: Set of 2 dining room chairs...</td>\n",
       "      <td>subrtex Dining chairs Set of 2</td>\n",
       "      <td>['Brand: subrtex', 'Color: Black', 'Product Di...</td>\n",
       "      <td>5938d217-b8c5-5d3e-b1cf-e28e340f292e</td>\n",
       "      <td>2024-02-02 15:15:09</td>\n",
       "    </tr>\n",
       "    <tr>\n",
       "      <th>2</th>\n",
       "      <td>B0BXRTWLYK</td>\n",
       "      <td>https://www.amazon.com/dp/B0BXRTWLYK</td>\n",
       "      <td>Plant Repotting Mat MUYETOL Waterproof Transpl...</td>\n",
       "      <td>MUYETOL</td>\n",
       "      <td>$5.98</td>\n",
       "      <td>In Stock</td>\n",
       "      <td>['Patio, Lawn &amp; Garden', 'Outdoor Décor', 'Doo...</td>\n",
       "      <td>https://m.media-amazon.com/images/I/41RgefVq70...</td>\n",
       "      <td>['https://m.media-amazon.com/images/I/41RgefVq...</td>\n",
       "      <td>NaN</td>\n",
       "      <td>...</td>\n",
       "      <td>Green</td>\n",
       "      <td>Polyethylene</td>\n",
       "      <td>Modern</td>\n",
       "      <td>[]</td>\n",
       "      <td>[{'Brand': ' MUYETOL '}, {'Size': ' 26.8*26.8 ...</td>\n",
       "      <td>['PLANT REPOTTING MAT SIZE: 26.8\" x 26.8\", squ...</td>\n",
       "      <td>NaN</td>\n",
       "      <td>['Brand: MUYETOL', 'Size: 26.8*26.8', 'Item We...</td>\n",
       "      <td>b2ede786-3f51-5a45-9a5b-bcf856958cd8</td>\n",
       "      <td>2024-02-02 15:15:09</td>\n",
       "    </tr>\n",
       "    <tr>\n",
       "      <th>3</th>\n",
       "      <td>B0C1MRB2M8</td>\n",
       "      <td>https://www.amazon.com/dp/B0C1MRB2M8</td>\n",
       "      <td>Pickleball Doormat, Welcome Doormat Absorbent ...</td>\n",
       "      <td>VEWETOL</td>\n",
       "      <td>$13.99</td>\n",
       "      <td>Only 10 left in stock - order soon.</td>\n",
       "      <td>['Patio, Lawn &amp; Garden', 'Outdoor Décor', 'Doo...</td>\n",
       "      <td>https://m.media-amazon.com/images/I/61vz1Igler...</td>\n",
       "      <td>['https://m.media-amazon.com/images/I/61vz1Igl...</td>\n",
       "      <td>NaN</td>\n",
       "      <td>...</td>\n",
       "      <td>A5589</td>\n",
       "      <td>Rubber</td>\n",
       "      <td>Modern</td>\n",
       "      <td>[]</td>\n",
       "      <td>[{'Brand': ' VEWETOL '}, {'Size': ' 16*24INCH ...</td>\n",
       "      <td>['Specifications: 16x24 Inch ', \" High-Quality...</td>\n",
       "      <td>The decorative doormat features a subtle textu...</td>\n",
       "      <td>['Brand: VEWETOL', 'Size: 16*24INCH', 'Materia...</td>\n",
       "      <td>8fd9377b-cfa6-5f10-835c-6b8eca2816b5</td>\n",
       "      <td>2024-02-02 15:15:10</td>\n",
       "    </tr>\n",
       "    <tr>\n",
       "      <th>4</th>\n",
       "      <td>B0CG1N9QRC</td>\n",
       "      <td>https://www.amazon.com/dp/B0CG1N9QRC</td>\n",
       "      <td>JOIN IRON Foldable TV Trays for Eating Set of ...</td>\n",
       "      <td>JOIN IRON Store</td>\n",
       "      <td>$89.99</td>\n",
       "      <td>Usually ships within 5 to 6 weeks</td>\n",
       "      <td>['Home &amp; Kitchen', 'Furniture', 'Game &amp; Recrea...</td>\n",
       "      <td>https://m.media-amazon.com/images/I/41p4d4VJnN...</td>\n",
       "      <td>['https://m.media-amazon.com/images/I/41p4d4VJ...</td>\n",
       "      <td>NaN</td>\n",
       "      <td>...</td>\n",
       "      <td>Grey Set of 4</td>\n",
       "      <td>Iron</td>\n",
       "      <td>X Classic Style</td>\n",
       "      <td>[]</td>\n",
       "      <td>NaN</td>\n",
       "      <td>['Includes 4 Folding Tv Tray Tables And one Co...</td>\n",
       "      <td>Set of Four Folding Trays With Matching Storag...</td>\n",
       "      <td>['Brand: JOIN IRON', 'Shape: Rectangular', 'In...</td>\n",
       "      <td>bdc9aa30-9439-50dc-8e89-213ea211d66a</td>\n",
       "      <td>2024-02-02 15:15:11</td>\n",
       "    </tr>\n",
       "    <tr>\n",
       "      <th>...</th>\n",
       "      <td>...</td>\n",
       "      <td>...</td>\n",
       "      <td>...</td>\n",
       "      <td>...</td>\n",
       "      <td>...</td>\n",
       "      <td>...</td>\n",
       "      <td>...</td>\n",
       "      <td>...</td>\n",
       "      <td>...</td>\n",
       "      <td>...</td>\n",
       "      <td>...</td>\n",
       "      <td>...</td>\n",
       "      <td>...</td>\n",
       "      <td>...</td>\n",
       "      <td>...</td>\n",
       "      <td>...</td>\n",
       "      <td>...</td>\n",
       "      <td>...</td>\n",
       "      <td>...</td>\n",
       "      <td>...</td>\n",
       "      <td>...</td>\n",
       "    </tr>\n",
       "    <tr>\n",
       "      <th>307</th>\n",
       "      <td>B08SLPBC36</td>\n",
       "      <td>https://www.amazon.com/dp/B08SLPBC36</td>\n",
       "      <td>Lexicon Victoria Saddle Wood Bar Stools (Set o...</td>\n",
       "      <td>Lexicon</td>\n",
       "      <td>$58.99</td>\n",
       "      <td>Only 7 left in stock (more on the way).</td>\n",
       "      <td>['Home &amp; Kitchen', 'Furniture', 'Game &amp; Recrea...</td>\n",
       "      <td>https://m.media-amazon.com/images/I/41CPL03Y-W...</td>\n",
       "      <td>['https://m.media-amazon.com/images/I/41CPL03Y...</td>\n",
       "      <td>NaN</td>\n",
       "      <td>...</td>\n",
       "      <td>Black Sand</td>\n",
       "      <td>Wood</td>\n",
       "      <td>Contemporary</td>\n",
       "      <td>[]</td>\n",
       "      <td>NaN</td>\n",
       "      <td>['Frame Material: Wood ', ' Set includes two (...</td>\n",
       "      <td>With a country flair and a deep black sand fin...</td>\n",
       "      <td>['Product Dimensions: 18\"D x 15.5\"W x 29\"H', '...</td>\n",
       "      <td>d3b681ac-6195-5c9b-8125-98b6425829f4</td>\n",
       "      <td>2024-02-02 18:56:50</td>\n",
       "    </tr>\n",
       "    <tr>\n",
       "      <th>308</th>\n",
       "      <td>B09KN5ZTXC</td>\n",
       "      <td>https://www.amazon.com/dp/B09KN5ZTXC</td>\n",
       "      <td>ANZORG Behind Door Hanging Kids Shoes Organize...</td>\n",
       "      <td>ANZORG Store</td>\n",
       "      <td>$9.99</td>\n",
       "      <td>Only 14 left in stock - order soon.</td>\n",
       "      <td>['Home &amp; Kitchen', 'Storage &amp; Organization', '...</td>\n",
       "      <td>https://m.media-amazon.com/images/I/31qQ2tZPv-...</td>\n",
       "      <td>['https://m.media-amazon.com/images/I/31qQ2tZP...</td>\n",
       "      <td>NaN</td>\n",
       "      <td>...</td>\n",
       "      <td>12 Pockets</td>\n",
       "      <td>Non Woven Fabric</td>\n",
       "      <td>NaN</td>\n",
       "      <td>[]</td>\n",
       "      <td>NaN</td>\n",
       "      <td>['Non Woven Fabric ', \" Hanging organizer with...</td>\n",
       "      <td>NaN</td>\n",
       "      <td>['Specific Uses For Product: 鞋子', 'Material: N...</td>\n",
       "      <td>07e5e60e-953d-5512-aab8-cf83193de252</td>\n",
       "      <td>2024-02-02 18:56:51</td>\n",
       "    </tr>\n",
       "    <tr>\n",
       "      <th>309</th>\n",
       "      <td>B0BN7T57NK</td>\n",
       "      <td>https://www.amazon.com/dp/B0BN7T57NK</td>\n",
       "      <td>Pipishell Full-Motion TV Wall Mount for Most 3...</td>\n",
       "      <td>Pipishell Store</td>\n",
       "      <td>$35.99</td>\n",
       "      <td>In Stock</td>\n",
       "      <td>['Electronics', 'Television &amp; Video', 'Accesso...</td>\n",
       "      <td>https://m.media-amazon.com/images/I/41TkLI3K2-...</td>\n",
       "      <td>['https://m.media-amazon.com/images/I/41TkLI3K...</td>\n",
       "      <td>NaN</td>\n",
       "      <td>...</td>\n",
       "      <td>Black</td>\n",
       "      <td>NaN</td>\n",
       "      <td>NaN</td>\n",
       "      <td>[]</td>\n",
       "      <td>[{'Mounting Type': \" Wall Mount for 16'' Wood ...</td>\n",
       "      <td>['Solid &amp; Stable Support: This swivel wall mou...</td>\n",
       "      <td>NaN</td>\n",
       "      <td>['Brand Name: Pipishell', 'Item Weight: 10.83 ...</td>\n",
       "      <td>cb66eee5-7113-5568-9713-9e08e2b48a26</td>\n",
       "      <td>2024-02-02 18:56:52</td>\n",
       "    </tr>\n",
       "    <tr>\n",
       "      <th>310</th>\n",
       "      <td>B097FC9C27</td>\n",
       "      <td>https://www.amazon.com/dp/B097FC9C27</td>\n",
       "      <td>Noori Rug Home - Lux Collection Modern Ava Rou...</td>\n",
       "      <td>NOORI RUG</td>\n",
       "      <td>$67.60</td>\n",
       "      <td>In Stock</td>\n",
       "      <td>['Home &amp; Kitchen', 'Furniture', 'Living Room F...</td>\n",
       "      <td>https://m.media-amazon.com/images/I/21Uq9uJEE5...</td>\n",
       "      <td>['https://m.media-amazon.com/images/I/21Uq9uJE...</td>\n",
       "      <td>NaN</td>\n",
       "      <td>...</td>\n",
       "      <td>Ivory/Gold Ava</td>\n",
       "      <td>Engineered Wood</td>\n",
       "      <td>Glam</td>\n",
       "      <td>[]</td>\n",
       "      <td>NaN</td>\n",
       "      <td>['Velvet ', ' Both functional and decorative, ...</td>\n",
       "      <td>Both functional and decorative, this storage s...</td>\n",
       "      <td>['Product Dimensions: 13\"D x 13\"W x 15\"H', 'Co...</td>\n",
       "      <td>0a3805a8-8249-55e1-a9de-ccf6c602f167</td>\n",
       "      <td>2024-02-02 18:56:53</td>\n",
       "    </tr>\n",
       "    <tr>\n",
       "      <th>311</th>\n",
       "      <td>B00SMM4H98</td>\n",
       "      <td>https://www.amazon.com/dp/B00SMM4H98</td>\n",
       "      <td>Modway Parcel Upholstered Fabric Parsons Dinin...</td>\n",
       "      <td>Modway Store</td>\n",
       "      <td>NaN</td>\n",
       "      <td>NaN</td>\n",
       "      <td>['Home &amp; Kitchen', 'Furniture', 'Dining Room F...</td>\n",
       "      <td>https://m.media-amazon.com/images/I/41f8WNXejU...</td>\n",
       "      <td>['https://m.media-amazon.com/images/I/41f8WNXe...</td>\n",
       "      <td>NaN</td>\n",
       "      <td>...</td>\n",
       "      <td>Beige</td>\n",
       "      <td>Foam</td>\n",
       "      <td>Modern</td>\n",
       "      <td>[]</td>\n",
       "      <td>NaN</td>\n",
       "      <td>['CHIC DETAIL - Introduce sophistication with ...</td>\n",
       "      <td>Wrap up moments of quality seating with the Pa...</td>\n",
       "      <td>['Brand: Modway', 'Color: Beige', 'Product Dim...</td>\n",
       "      <td>ca0aa529-6ef0-56d0-81a7-042becdefd4d</td>\n",
       "      <td>2024-02-02 18:56:53</td>\n",
       "    </tr>\n",
       "  </tbody>\n",
       "</table>\n",
       "<p>312 rows × 25 columns</p>\n",
       "</div>"
      ],
      "text/plain": [
       "           asin                                   url  \\\n",
       "0    B0CJHKVG6P  https://www.amazon.com/dp/B0CJHKVG6P   \n",
       "1    B0B66QHB23  https://www.amazon.com/dp/B0B66QHB23   \n",
       "2    B0BXRTWLYK  https://www.amazon.com/dp/B0BXRTWLYK   \n",
       "3    B0C1MRB2M8  https://www.amazon.com/dp/B0C1MRB2M8   \n",
       "4    B0CG1N9QRC  https://www.amazon.com/dp/B0CG1N9QRC   \n",
       "..          ...                                   ...   \n",
       "307  B08SLPBC36  https://www.amazon.com/dp/B08SLPBC36   \n",
       "308  B09KN5ZTXC  https://www.amazon.com/dp/B09KN5ZTXC   \n",
       "309  B0BN7T57NK  https://www.amazon.com/dp/B0BN7T57NK   \n",
       "310  B097FC9C27  https://www.amazon.com/dp/B097FC9C27   \n",
       "311  B00SMM4H98  https://www.amazon.com/dp/B00SMM4H98   \n",
       "\n",
       "                                                 title            brand  \\\n",
       "0    GOYMFK 1pc Free Standing Shoe Rack, Multi-laye...           GOYMFK   \n",
       "1    subrtex Leather ding Room, Dining Chairs Set o...          subrtex   \n",
       "2    Plant Repotting Mat MUYETOL Waterproof Transpl...          MUYETOL   \n",
       "3    Pickleball Doormat, Welcome Doormat Absorbent ...          VEWETOL   \n",
       "4    JOIN IRON Foldable TV Trays for Eating Set of ...  JOIN IRON Store   \n",
       "..                                                 ...              ...   \n",
       "307  Lexicon Victoria Saddle Wood Bar Stools (Set o...          Lexicon   \n",
       "308  ANZORG Behind Door Hanging Kids Shoes Organize...     ANZORG Store   \n",
       "309  Pipishell Full-Motion TV Wall Mount for Most 3...  Pipishell Store   \n",
       "310  Noori Rug Home - Lux Collection Modern Ava Rou...        NOORI RUG   \n",
       "311  Modway Parcel Upholstered Fabric Parsons Dinin...     Modway Store   \n",
       "\n",
       "      price                             availability  \\\n",
       "0    $24.99      Only 13 left in stock - order soon.   \n",
       "1       NaN                                      NaN   \n",
       "2     $5.98                                 In Stock   \n",
       "3    $13.99      Only 10 left in stock - order soon.   \n",
       "4    $89.99        Usually ships within 5 to 6 weeks   \n",
       "..      ...                                      ...   \n",
       "307  $58.99  Only 7 left in stock (more on the way).   \n",
       "308   $9.99      Only 14 left in stock - order soon.   \n",
       "309  $35.99                                 In Stock   \n",
       "310  $67.60                                 In Stock   \n",
       "311     NaN                                      NaN   \n",
       "\n",
       "                                            categories  \\\n",
       "0    ['Home & Kitchen', 'Storage & Organization', '...   \n",
       "1    ['Home & Kitchen', 'Furniture', 'Dining Room F...   \n",
       "2    ['Patio, Lawn & Garden', 'Outdoor Décor', 'Doo...   \n",
       "3    ['Patio, Lawn & Garden', 'Outdoor Décor', 'Doo...   \n",
       "4    ['Home & Kitchen', 'Furniture', 'Game & Recrea...   \n",
       "..                                                 ...   \n",
       "307  ['Home & Kitchen', 'Furniture', 'Game & Recrea...   \n",
       "308  ['Home & Kitchen', 'Storage & Organization', '...   \n",
       "309  ['Electronics', 'Television & Video', 'Accesso...   \n",
       "310  ['Home & Kitchen', 'Furniture', 'Living Room F...   \n",
       "311  ['Home & Kitchen', 'Furniture', 'Dining Room F...   \n",
       "\n",
       "                                         primary_image  \\\n",
       "0    https://m.media-amazon.com/images/I/416WaLx10j...   \n",
       "1    https://m.media-amazon.com/images/I/31SejUEWY7...   \n",
       "2    https://m.media-amazon.com/images/I/41RgefVq70...   \n",
       "3    https://m.media-amazon.com/images/I/61vz1Igler...   \n",
       "4    https://m.media-amazon.com/images/I/41p4d4VJnN...   \n",
       "..                                                 ...   \n",
       "307  https://m.media-amazon.com/images/I/41CPL03Y-W...   \n",
       "308  https://m.media-amazon.com/images/I/31qQ2tZPv-...   \n",
       "309  https://m.media-amazon.com/images/I/41TkLI3K2-...   \n",
       "310  https://m.media-amazon.com/images/I/21Uq9uJEE5...   \n",
       "311  https://m.media-amazon.com/images/I/41f8WNXejU...   \n",
       "\n",
       "                                                images  upc  ...  \\\n",
       "0    ['https://m.media-amazon.com/images/I/416WaLx1...  NaN  ...   \n",
       "1    ['https://m.media-amazon.com/images/I/31SejUEW...  NaN  ...   \n",
       "2    ['https://m.media-amazon.com/images/I/41RgefVq...  NaN  ...   \n",
       "3    ['https://m.media-amazon.com/images/I/61vz1Igl...  NaN  ...   \n",
       "4    ['https://m.media-amazon.com/images/I/41p4d4VJ...  NaN  ...   \n",
       "..                                                 ...  ...  ...   \n",
       "307  ['https://m.media-amazon.com/images/I/41CPL03Y...  NaN  ...   \n",
       "308  ['https://m.media-amazon.com/images/I/31qQ2tZP...  NaN  ...   \n",
       "309  ['https://m.media-amazon.com/images/I/41TkLI3K...  NaN  ...   \n",
       "310  ['https://m.media-amazon.com/images/I/21Uq9uJE...  NaN  ...   \n",
       "311  ['https://m.media-amazon.com/images/I/41f8WNXe...  NaN  ...   \n",
       "\n",
       "              color          material              style  \\\n",
       "0             White             Metal             Modern   \n",
       "1             Black            Sponge  Black Rubber Wood   \n",
       "2             Green      Polyethylene             Modern   \n",
       "3             A5589            Rubber             Modern   \n",
       "4     Grey Set of 4              Iron    X Classic Style   \n",
       "..              ...               ...                ...   \n",
       "307      Black Sand              Wood       Contemporary   \n",
       "308      12 Pockets  Non Woven Fabric                NaN   \n",
       "309           Black               NaN                NaN   \n",
       "310  Ivory/Gold Ava   Engineered Wood               Glam   \n",
       "311           Beige              Foam             Modern   \n",
       "\n",
       "    important_information                                   product_overview  \\\n",
       "0                      []  [{'Brand': ' GOYMFK '}, {'Color': ' White '}, ...   \n",
       "1                      []                                                NaN   \n",
       "2                      []  [{'Brand': ' MUYETOL '}, {'Size': ' 26.8*26.8 ...   \n",
       "3                      []  [{'Brand': ' VEWETOL '}, {'Size': ' 16*24INCH ...   \n",
       "4                      []                                                NaN   \n",
       "..                    ...                                                ...   \n",
       "307                    []                                                NaN   \n",
       "308                    []                                                NaN   \n",
       "309                    []  [{'Mounting Type': \" Wall Mount for 16'' Wood ...   \n",
       "310                    []                                                NaN   \n",
       "311                    []                                                NaN   \n",
       "\n",
       "                                            about_item  \\\n",
       "0    ['Multiple layers: Provides ample storage spac...   \n",
       "1    ['【Easy Assembly】: Set of 2 dining room chairs...   \n",
       "2    ['PLANT REPOTTING MAT SIZE: 26.8\" x 26.8\", squ...   \n",
       "3    ['Specifications: 16x24 Inch ', \" High-Quality...   \n",
       "4    ['Includes 4 Folding Tv Tray Tables And one Co...   \n",
       "..                                                 ...   \n",
       "307  ['Frame Material: Wood ', ' Set includes two (...   \n",
       "308  ['Non Woven Fabric ', \" Hanging organizer with...   \n",
       "309  ['Solid & Stable Support: This swivel wall mou...   \n",
       "310  ['Velvet ', ' Both functional and decorative, ...   \n",
       "311  ['CHIC DETAIL - Introduce sophistication with ...   \n",
       "\n",
       "                                           description  \\\n",
       "0    multiple shoes, coats, hats, and other items E...   \n",
       "1                       subrtex Dining chairs Set of 2   \n",
       "2                                                  NaN   \n",
       "3    The decorative doormat features a subtle textu...   \n",
       "4    Set of Four Folding Trays With Matching Storag...   \n",
       "..                                                 ...   \n",
       "307  With a country flair and a deep black sand fin...   \n",
       "308                                                NaN   \n",
       "309                                                NaN   \n",
       "310  Both functional and decorative, this storage s...   \n",
       "311  Wrap up moments of quality seating with the Pa...   \n",
       "\n",
       "                                        specifications  \\\n",
       "0    ['Brand: GOYMFK', 'Color: White', 'Material: M...   \n",
       "1    ['Brand: subrtex', 'Color: Black', 'Product Di...   \n",
       "2    ['Brand: MUYETOL', 'Size: 26.8*26.8', 'Item We...   \n",
       "3    ['Brand: VEWETOL', 'Size: 16*24INCH', 'Materia...   \n",
       "4    ['Brand: JOIN IRON', 'Shape: Rectangular', 'In...   \n",
       "..                                                 ...   \n",
       "307  ['Product Dimensions: 18\"D x 15.5\"W x 29\"H', '...   \n",
       "308  ['Specific Uses For Product: 鞋子', 'Material: N...   \n",
       "309  ['Brand Name: Pipishell', 'Item Weight: 10.83 ...   \n",
       "310  ['Product Dimensions: 13\"D x 13\"W x 15\"H', 'Co...   \n",
       "311  ['Brand: Modway', 'Color: Beige', 'Product Dim...   \n",
       "\n",
       "                                  uniq_id           scraped_at  \n",
       "0    02593e81-5c09-5069-8516-b0b29f439ded  2024-02-02 15:15:08  \n",
       "1    5938d217-b8c5-5d3e-b1cf-e28e340f292e  2024-02-02 15:15:09  \n",
       "2    b2ede786-3f51-5a45-9a5b-bcf856958cd8  2024-02-02 15:15:09  \n",
       "3    8fd9377b-cfa6-5f10-835c-6b8eca2816b5  2024-02-02 15:15:10  \n",
       "4    bdc9aa30-9439-50dc-8e89-213ea211d66a  2024-02-02 15:15:11  \n",
       "..                                    ...                  ...  \n",
       "307  d3b681ac-6195-5c9b-8125-98b6425829f4  2024-02-02 18:56:50  \n",
       "308  07e5e60e-953d-5512-aab8-cf83193de252  2024-02-02 18:56:51  \n",
       "309  cb66eee5-7113-5568-9713-9e08e2b48a26  2024-02-02 18:56:52  \n",
       "310  0a3805a8-8249-55e1-a9de-ccf6c602f167  2024-02-02 18:56:53  \n",
       "311  ca0aa529-6ef0-56d0-81a7-042becdefd4d  2024-02-02 18:56:53  \n",
       "\n",
       "[312 rows x 25 columns]"
      ]
     },
     "execution_count": 4,
     "metadata": {},
     "output_type": "execute_result"
    }
   ],
   "source": [
    "df = pd.read_csv(dataset_path)\n",
    "df"
   ]
  },
  {
   "cell_type": "markdown",
   "id": "f48ba962",
   "metadata": {},
   "source": [
    "### Processing step \n",
    "\n",
    "Here, we will prepare our tasks by first trying them out with the Chat Completions endpoint.\n",
    "\n",
    "Once you're happy with the results you have using regular chat completions, you can move on to creating your batch job files."
   ]
  },
  {
   "cell_type": "code",
   "execution_count": 5,
   "id": "918fd79f",
   "metadata": {},
   "outputs": [],
   "source": [
    "system_prompt = '''\n",
    "Your goal is to generate short, descriptive captions for images of items.\n",
    "You will be provided with an item image and the name of that item and you will output a caption that captures the most important information about the item.\n",
    "If there are multiple items depicted, refer to the name provided to understand which item you should describe.\n",
    "Your generated caption should be short (1 sentence), and include the most relevant information about the item.\n",
    "The most important information could be: the type of item, the style (if mentioned), the material or color if especially relevant and any distinctive features.\n",
    "'''\n",
    "\n",
    "def get_caption(img_url, title):\n",
    "    response = client.chat.completions.create(\n",
    "    model=\"gpt-4-vision-preview\",\n",
    "    temperature=0.2,\n",
    "    messages=[\n",
    "        {\n",
    "            \"role\": \"system\",\n",
    "            \"content\": system_prompt\n",
    "        },\n",
    "        {\n",
    "            \"role\": \"user\",\n",
    "            \"content\": [\n",
    "                {\n",
    "                    \"type\": \"text\",\n",
    "                    \"text\": title\n",
    "                },\n",
    "                {\n",
    "                    \"type\": \"image_url\",\n",
    "                    \"image_url\": img_url,\n",
    "                },\n",
    "            ],\n",
    "        }\n",
    "    ],\n",
    "    max_tokens=300,\n",
    "    )\n",
    "\n",
    "    return response.choices[0].message.content"
   ]
  },
  {
   "cell_type": "code",
   "execution_count": 6,
   "id": "1daac93d",
   "metadata": {},
   "outputs": [
    {
     "data": {
      "text/html": [
       "<img src=\"https://m.media-amazon.com/images/I/416WaLx10jL._SS522_.jpg\"/>"
      ],
      "text/plain": [
       "<IPython.core.display.Image object>"
      ]
     },
     "metadata": {},
     "output_type": "display_data"
    },
    {
     "name": "stdout",
     "output_type": "stream",
     "text": [
      "CAPTION: A white multi-layer metal shoe rack with eight double hooks, featuring shoes and accessories storage, placed against a wall next to a door.\n",
      "\n",
      "\n"
     ]
    },
    {
     "data": {
      "text/html": [
       "<img src=\"https://m.media-amazon.com/images/I/31SejUEWY7L._SS522_.jpg\"/>"
      ],
      "text/plain": [
       "<IPython.core.display.Image object>"
      ]
     },
     "metadata": {},
     "output_type": "display_data"
    },
    {
     "name": "stdout",
     "output_type": "stream",
     "text": [
      "CAPTION: A set of two black leather upholstered dining chairs with a simple, contemporary design.\n",
      "\n",
      "\n"
     ]
    },
    {
     "data": {
      "text/html": [
       "<img src=\"https://m.media-amazon.com/images/I/41RgefVq70L._SS522_.jpg\"/>"
      ],
      "text/plain": [
       "<IPython.core.display.Image object>"
      ]
     },
     "metadata": {},
     "output_type": "display_data"
    },
    {
     "name": "stdout",
     "output_type": "stream",
     "text": [
      "CAPTION: A green, waterproof, square plant repotting mat with raised corners and gardening tools displayed on it.\n",
      "\n",
      "\n"
     ]
    },
    {
     "data": {
      "text/html": [
       "<img src=\"https://m.media-amazon.com/images/I/61vz1IglerL._SS522_.jpg\"/>"
      ],
      "text/plain": [
       "<IPython.core.display.Image object>"
      ]
     },
     "metadata": {},
     "output_type": "display_data"
    },
    {
     "name": "stdout",
     "output_type": "stream",
     "text": [
      "CAPTION: A brown absorbent non-slip doormat with the phrase \"it's a good day to play PICKLEBALL\" and pickleball paddle graphics.\n",
      "\n",
      "\n"
     ]
    },
    {
     "data": {
      "text/html": [
       "<img src=\"https://m.media-amazon.com/images/I/41p4d4VJnNL._SS522_.jpg\"/>"
      ],
      "text/plain": [
       "<IPython.core.display.Image object>"
      ]
     },
     "metadata": {},
     "output_type": "display_data"
    },
    {
     "name": "stdout",
     "output_type": "stream",
     "text": [
      "CAPTION: A set of four grey foldable TV trays with a matching stand, featuring a sleek and space-saving design for convenient snacking or dining.\n",
      "\n",
      "\n"
     ]
    }
   ],
   "source": [
    "# Testing on a few images\n",
    "for _, row in df[:5].iterrows():\n",
    "    img_url = row['primary_image']\n",
    "    caption = get_caption(img_url, row['title'])\n",
    "    img = Image(url=img_url)\n",
    "    display(img)\n",
    "    print(f\"CAPTION: {caption}\\n\\n\")"
   ]
  },
  {
   "cell_type": "markdown",
   "id": "a89a6709",
   "metadata": {},
   "source": [
    "## Creating the batch file\n",
    "\n",
    "The batch file (jsonl) should contain one line per task.\n",
    "Each task is defined as such:\n",
    "\n",
    "```\n",
    "{\n",
    "    \"custom_id\": <TASK_ID>,\n",
    "    \"method\": \"POST\",\n",
    "    \"url\": \"/v1/chat/completions\",\n",
    "    \"body\": {\n",
    "        \"model\": <MODEL>,\n",
    "        \"messages\": <MESSAGES>,\n",
    "        // other parameters\n",
    "    }\n",
    "}\n",
    "```\n",
    "\n",
    "Note: the task ID should be unique per batch job. This is what you can use to match results to the initial input files, are tasks will not be returned in the same order."
   ]
  },
  {
   "cell_type": "code",
   "execution_count": 7,
   "id": "48e59bb1",
   "metadata": {},
   "outputs": [],
   "source": [
    "# Creating an array of json tasks\n",
    "\n",
    "tasks = []\n",
    "\n",
    "for index, row in df.iterrows():\n",
    "    \n",
    "    title = row['title']\n",
    "    img_url = row['primary_image']\n",
    "    \n",
    "    task = {\n",
    "        \"custom_id\": f\"task-{index}\",\n",
    "        \"method\": \"POST\",\n",
    "        \"url\": \"/v1/chat/completions\",\n",
    "        \"body\": {\n",
    "            # This is what you would have in your Chat Completions API call\n",
    "            \"model\": \"gpt-4-vision-preview\",\n",
    "            \"messages\": [\n",
    "                {\n",
    "                    \"role\": \"system\",\n",
    "                    \"content\": system_prompt\n",
    "                },\n",
    "                {\n",
    "                    \"role\": \"user\",\n",
    "                    \"content\": [\n",
    "                        {\n",
    "                            \"type\": \"text\",\n",
    "                            \"text\": title\n",
    "                        },\n",
    "                        {\n",
    "                            \"type\": \"image_url\",\n",
    "                            \"image_url\": img_url,\n",
    "                        },\n",
    "                    ],\n",
    "                }\n",
    "            ],\n",
    "            \"temperature\": 0.2,\n",
    "            \"max_tokens\": 300\n",
    "        }\n",
    "    }\n",
    "    \n",
    "    tasks.append(task)"
   ]
  },
  {
   "cell_type": "code",
   "execution_count": 8,
   "id": "257e2eda",
   "metadata": {},
   "outputs": [],
   "source": [
    "# Creating the file\n",
    "\n",
    "file_name = \"data/batch_tasks.jsonl\"\n",
    "\n",
    "with open(file_name, 'w') as file:\n",
    "    for obj in tasks:\n",
    "        file.write(json.dumps(obj) + '\\n')"
   ]
  },
  {
   "cell_type": "markdown",
   "id": "c6b490cd",
   "metadata": {},
   "source": [
    "### Uploading the file"
   ]
  },
  {
   "cell_type": "code",
   "execution_count": 9,
   "id": "40ea90dd",
   "metadata": {},
   "outputs": [],
   "source": [
    "batch_file = client.files.create(\n",
    "  file=open(file_name, \"rb\"),\n",
    "  purpose=\"batch\"\n",
    ")"
   ]
  },
  {
   "cell_type": "code",
   "execution_count": 10,
   "id": "081f602f",
   "metadata": {},
   "outputs": [
    {
     "name": "stdout",
     "output_type": "stream",
     "text": [
      "FileObject(id='file-kqHmhAcZM1nRcewdvT4V9Htr', bytes=350626, created_at=1713979938, filename='batch_tasks.jsonl', object='file', purpose='batch', status='processed', status_details=None)\n"
     ]
    }
   ],
   "source": [
    "print(batch_file)"
   ]
  },
  {
   "cell_type": "markdown",
   "id": "f8ef8ab5",
   "metadata": {},
   "source": [
    "## Creating the batch job"
   ]
  },
  {
   "cell_type": "code",
   "execution_count": 11,
   "id": "4db403a3",
   "metadata": {},
   "outputs": [],
   "source": [
    "batch_job = client.batches.create(\n",
    "  input_file_id=batch_file.id,\n",
    "  endpoint=\"/v1/chat/completions\",\n",
    "  completion_window=\"24h\"\n",
    ")"
   ]
  },
  {
   "cell_type": "markdown",
   "id": "f7ca66c6",
   "metadata": {},
   "source": [
    "### Checking job status\n",
    "\n",
    "Note: this can take up to 24h, but it will usually be completed faster.\n",
    "\n",
    "You can continue checking until the status is 'completed'."
   ]
  },
  {
   "cell_type": "code",
   "execution_count": 20,
   "id": "53456a08",
   "metadata": {},
   "outputs": [
    {
     "name": "stdout",
     "output_type": "stream",
     "text": [
      "Batch(id='batch_8lRuRwDxKKdXm4A8S1u577zi', completion_window='24h', created_at=1713952714, endpoint='/v1/chat/completions', input_file_id='file-N9FrpHjYftSlW4zC1WkLv81a', object='batch', status='completed', cancelled_at=None, cancelling_at=None, completed_at=1713952907, error_file_id=None, errors=None, expired_at=None, expires_at=1714039114, failed_at=None, finalizing_at=1713952892, in_progress_at=1713952750, metadata=None, output_file_id='file-EuZcIJXoWgMWSnCypOEipVLQ', request_counts=BatchRequestCounts(completed=312, failed=0, total=312))\n"
     ]
    }
   ],
   "source": [
    "batch_job = client.batches.retrieve(batch_job.id)\n",
    "print(batch_job)"
   ]
  },
  {
   "cell_type": "markdown",
   "id": "6988fb64",
   "metadata": {},
   "source": [
    "## Retrieving results"
   ]
  },
  {
   "cell_type": "code",
   "execution_count": 29,
   "id": "682c38d5",
   "metadata": {},
   "outputs": [],
   "source": [
    "result_file_id = batch_job.output_file_id\n",
    "result = client.files.content(result_file_id).content"
   ]
  },
  {
   "cell_type": "code",
   "execution_count": 33,
   "id": "52840df9",
   "metadata": {},
   "outputs": [],
   "source": [
    "result_file_name = \"data/batch_job_results.jsonl\"\n",
    "\n",
    "with open(result_file_name, 'wb') as file:\n",
    "    file.write(result)"
   ]
  },
  {
   "cell_type": "code",
   "execution_count": 39,
   "id": "f11b7d19",
   "metadata": {},
   "outputs": [],
   "source": [
    "# Loading data from saved file\n",
    "results = []\n",
    "with open(result_file_name, 'r') as file:\n",
    "    for line in file:\n",
    "        # Parsing the JSON string into a dict and appending to the list of results\n",
    "        json_object = json.loads(line.strip())\n",
    "        results.append(json_object)"
   ]
  },
  {
   "cell_type": "markdown",
   "id": "a2bafff8",
   "metadata": {},
   "source": [
    "### Reading results\n",
    "Reminder: the results are not in the same order as in the input file.\n",
    "Make sure to check the custom_id to match the results against the input tasks"
   ]
  },
  {
   "cell_type": "code",
   "execution_count": 47,
   "id": "ad54ffee",
   "metadata": {},
   "outputs": [
    {
     "data": {
      "text/html": [
       "<img src=\"https://m.media-amazon.com/images/I/61vz1IglerL._SS522_.jpg\"/>"
      ],
      "text/plain": [
       "<IPython.core.display.Image object>"
      ]
     },
     "metadata": {},
     "output_type": "display_data"
    },
    {
     "name": "stdout",
     "output_type": "stream",
     "text": [
      "CAPTION: A brown absorbent non-slip doormat with the phrase \"it's a good day to play PICKLEBALL\" and pickleball paddle graphics.\n",
      "\n",
      "\n"
     ]
    },
    {
     "data": {
      "text/html": [
       "<img src=\"https://m.media-amazon.com/images/I/41zMuj2wvvL._SS522_.jpg\"/>"
      ],
      "text/plain": [
       "<IPython.core.display.Image object>"
      ]
     },
     "metadata": {},
     "output_type": "display_data"
    },
    {
     "name": "stdout",
     "output_type": "stream",
     "text": [
      "CAPTION: A 30-inch LOVMOR bathroom vanity sink base cabinet with three drawers on the left and a single door, finished in a warm brown wood tone.\n",
      "\n",
      "\n"
     ]
    },
    {
     "data": {
      "text/html": [
       "<img src=\"https://m.media-amazon.com/images/I/41ixgM73DgL._SS522_.jpg\"/>"
      ],
      "text/plain": [
       "<IPython.core.display.Image object>"
      ]
     },
     "metadata": {},
     "output_type": "display_data"
    },
    {
     "name": "stdout",
     "output_type": "stream",
     "text": [
      "CAPTION: A black 4-tier freestanding bathroom organizer with adjustable shelves and baskets, designed to fit over a toilet.\n",
      "\n",
      "\n"
     ]
    },
    {
     "data": {
      "text/html": [
       "<img src=\"https://m.media-amazon.com/images/I/41TkLI3K2-L._SS522_.jpg\"/>"
      ],
      "text/plain": [
       "<IPython.core.display.Image object>"
      ]
     },
     "metadata": {},
     "output_type": "display_data"
    },
    {
     "name": "stdout",
     "output_type": "stream",
     "text": [
      "CAPTION: Black full-motion TV wall mount with dual articulating arms for 37–75 inch TVs, capable of swivel and tilt, supporting up to 100 lbs and fitting 16\" wood studs.\n",
      "\n",
      "\n"
     ]
    },
    {
     "data": {
      "text/html": [
       "<img src=\"https://m.media-amazon.com/images/I/51He1KLeOsL._SS522_.jpg\"/>"
      ],
      "text/plain": [
       "<IPython.core.display.Image object>"
      ]
     },
     "metadata": {},
     "output_type": "display_data"
    },
    {
     "name": "stdout",
     "output_type": "stream",
     "text": [
      "CAPTION: A colorful modular kids play couch set with a galaxy-themed pattern that glows in the dark, designed for creative play and seating in a child's playroom.\n",
      "\n",
      "\n"
     ]
    }
   ],
   "source": [
    "# Reading only the first results\n",
    "for res in results[:5]:\n",
    "    task_id = res['custom_id']\n",
    "    # Getting index from task id\n",
    "    index = task_id.split('-')[-1]\n",
    "    result = res['response']['body']['choices'][0]['message']['content']\n",
    "    item = df.iloc[int(index)]\n",
    "    img_url = item['primary_image']\n",
    "    img = Image(url=img_url)\n",
    "    display(img)\n",
    "    print(f\"CAPTION: {result}\\n\\n\")"
   ]
  }
 ],
 "metadata": {
  "kernelspec": {
   "display_name": "Python 3 (ipykernel)",
   "language": "python",
   "name": "python3"
  },
  "language_info": {
   "codemirror_mode": {
    "name": "ipython",
    "version": 3
   },
   "file_extension": ".py",
   "mimetype": "text/x-python",
   "name": "python",
   "nbconvert_exporter": "python",
   "pygments_lexer": "ipython3",
   "version": "3.11.8"
  }
 },
 "nbformat": 4,
 "nbformat_minor": 5
}
