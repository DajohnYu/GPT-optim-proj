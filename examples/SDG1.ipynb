{
  "cells": [
    {
      "cell_type": "markdown",
      "metadata": {
        "id": "I_IHQTO8xXBn"
      },
      "source": [
        "# Synthetic Data generation (Part 1)"
      ]
    },
    {
      "cell_type": "markdown",
      "metadata": {
        "id": "VBoxtnxVdTWZ"
      },
      "source": [
        "\n",
        "Synthetic data generation using large language models (LLMs) offers a powerful solution to a commonly faced problem: the availability of high-quality, diverse, and privacy-compliant data. This could be used in a number of scenarios such as training a data science  machine learning model (SVMs, decision trees, KNN's), finetuning a different GPT model on the data, as a solution to the coldstart problem, helping build compelling demos/apps with realistic data, scenario testing etc.\n",
        "\n",
        "There are a number of key drivers which may see you wanting to leverage synthetic data. For one, human data may have privacy restrictions and/or identifiable data within it which we do not want to be used. Synthetic data can be much more structured and therefore easier to manipulate than real data. In domains where data is sparse or data of certain categories is sparse we may want to augment the data. When dealing with imbalanced datasets or datasets which lack diversity, we may want to create data to improve the richness of our datasets.\n",
        "\n",
        "Unlike traditional data augmentation or manual data creation methods, using LLMs allows for the generation of rich, nuanced, and contextually relevant datasets that can significantly enhance it's usefulness to enterprises and developers.\n",
        "\n",
        "We split this tutorial into 2 parts. In this cookbook, we delve into the practicalities of generating synthetic data using LLMs, with the following agenda:\n",
        "*   CSV with a structure prompt\n",
        "*   CSV with a Python program\n",
        "*   Multitable CSV with a python program\n",
        "*   Simply creating textual data\n",
        "*   Dealing with imbalanced or non-diverse textual data\n",
        "while in part 2, we will look at prompting strategies for getting better textual data.\n",
        "\n",
        "The last two in particular are useful for creating synthetic data to finetune another GPT model. For example using higher quality data produced by gpt-4 to finetune the cheaper and quicker gpt-3.5 for improved performance while reducing costs.\n"
      ]
    },
    {
      "cell_type": "markdown",
      "metadata": {
        "id": "NE9Rr29zlRsA"
      },
      "source": [
        "### Installations and imports"
      ]
    },
    {
      "cell_type": "code",
      "execution_count": null,
      "metadata": {
        "id": "YGncxYrgQ8eb"
      },
      "outputs": [],
      "source": [
        "!pip install openai"
      ]
    },
    {
      "cell_type": "code",
      "execution_count": 73,
      "metadata": {
        "id": "8pzwvE-YQPtU"
      },
      "outputs": [],
      "source": [
        "from openai import OpenAI\n",
        "import re\n",
        "import numpy as np\n",
        "import pandas as pd\n",
        "from sklearn.cluster import KMeans\n",
        "import matplotlib.pyplot as plt\n",
        "import json\n",
        "import matplotlib"
      ]
    },
    {
      "cell_type": "markdown",
      "metadata": {
        "id": "B8eAx4-JxaZB"
      },
      "source": [
        "### 1. CSV with a structure prompt\n",
        "Here we create data in the simplest way. You can quickly generate data by addressing 3 key points: telling it the format of the data (CSV), the schema, and useful information regarding how columns relate (the LLM will be able to deduce this from the column names but a helping hand will improve performance)."
      ]
    },
    {
      "cell_type": "code",
      "execution_count": 3,
      "metadata": {
        "colab": {
          "base_uri": "https://localhost:8080/"
        },
        "id": "dqbvepd0n4vS",
        "outputId": "8735cacc-baa5-463e-938c-783e6b508b00"
      },
      "outputs": [
        {
          "name": "stdout",
          "output_type": "stream",
          "text": [
            "id,house size (m^2),house price,location,number of bedrooms\n",
            "1,100,300000,New York,2\n",
            "2,120,350000,New York,3\n",
            "3,80,250000,New York,2\n",
            "4,150,400000,Los Angeles,3\n",
            "5,200,500000,Los Angeles,4\n",
            "6,160,320000,Chicago,3\n",
            "7,80,200000,Chicago,2\n",
            "8,200,600000,San Francisco,4\n",
            "9,240,700000,San Francisco,5\n",
            "10,100,270000,Chicago,2\n"
          ]
        }
      ],
      "source": [
        "question = \"\"\"\n",
        "Create a CSV file with 10 rows of housing data.\n",
        "Each row should include the following fields:\n",
        " - id (incrementing integer starting at 1)\n",
        " - house size (m^2)\n",
        " - house price\n",
        " - location\n",
        " - number of bedrooms\n",
        "\n",
        "Make sure that the numbers make sense (i.e. more rooms is usually bigger size, more expensive locations increase price. more size is usually higher price etc. make sure all the numbers make sense). Also only respond with the CSV.\n",
        "\"\"\"\n",
        "\n",
        "response = client.chat.completions.create(\n",
        "  model=\"gpt-4-0125\",\n",
        "  messages=[\n",
        "    {\"role\": \"system\", \"content\": \"You are a helpful assistant designed to generate synthetic data.\"},\n",
        "    {\"role\": \"user\", \"content\": question}\n",
        "  ]\n",
        ")\n",
        "res = response.choices[0].message.content\n",
        "print(res)"
      ]
    },
    {
      "cell_type": "markdown",
      "metadata": {
        "id": "6ym0NiIyxiVj"
      },
      "source": [
        "### 2. CSV with a Python program\n",
        "The issue with generating data directly is we are limited in the amount of data we can generate because of the context. Instead what we can do is ask the LLM to generate a python program to generate the synthetic data. This allows us to scale to much more data while also providing us a view into how the data was generated by inspecting the python program.\n",
        "\n",
        "This would then let us edit the python program as we desire while giving us a good basis to start from.\n"
      ]
    },
    {
      "cell_type": "code",
      "execution_count": 5,
      "metadata": {
        "colab": {
          "base_uri": "https://localhost:8080/"
        },
        "id": "2yDuwB5ZxWS3",
        "outputId": "dcbe1093-90f0-4f60-d9c6-34bf679bb092"
      },
      "outputs": [
        {
          "name": "stdout",
          "output_type": "stream",
          "text": [
            "Here is a simple Python program that generates a pandas DataFrame as you requested. For the generation of values, I'm making the following assumptions:\n",
            "\n",
            "- House size: uniformly distributed between 50 and 500 square meters.\n",
            "- House price: proportional to the house size with random noise, for simplicity.\n",
            "- Location: randomly chosen from 3 imaginary cities.\n",
            "- Number of bedrooms: proportional to the size of the house, plus some random variation.\n",
            "\n",
            "```python\n",
            "import pandas as pd\n",
            "import numpy as np\n",
            "\n",
            "# Set a seed for reproducibility\n",
            "np.random.seed(0)\n",
            "\n",
            "# Define the size of the dataset\n",
            "num_rows = 100\n",
            "\n",
            "# Generate IDs\n",
            "ids = np.arange(1, num_rows + 1)\n",
            "\n",
            "# Generate house sizes uniformly between 50 and 500\n",
            "sizes = np.random.uniform(50, 500, num_rows)\n",
            "\n",
            "# Generate locations randomly among 3 cities\n",
            "locations = np.random.choice(['City A', 'City B', 'City C'], num_rows)\n",
            "\n",
            "# Generate number of bedrooms approximately proportional to house size\n",
            "# + Poisson noise (to allow only integer number of rooms)\n",
            "rooms = np.random.poisson(sizes / 100)\n",
            "\n",
            "# Generate house prices roughly proportional to house size with some noise\n",
            "prices = sizes * 1000 + np.random.normal(loc=0, scale=50000, size=num_rows)\n",
            "prices = np.maximum(prices, 0)  # Make sure no negative prices\n",
            "\n",
            "# Create a pandas DataFrame\n",
            "df = pd.DataFrame({\n",
            "    'id': ids,\n",
            "    'house_size_m2': sizes,\n",
            "    'house_price': prices,\n",
            "    'location': locations,\n",
            "    'number_of_bedrooms': rooms\n",
            "})\n",
            "\n",
            "print(df)\n",
            "```\n",
            "\n",
            "In accordance with the concepts of data generating processes, the real world is more complex than this and you would often use more sophisticated ways to generate synthetic data. This code is just a simple example and might not perfectly reflect the real-world dependencies between these variables.\n"
          ]
        }
      ],
      "source": [
        "question = \"\"\"\n",
        "Create a Python program to generate 100 rows of housing data.\n",
        "I want you to at the end of it output a pandas dataframe with 100 rows of data.\n",
        "Each row should include the following fields:\n",
        " - id (incrementing integer starting at 1)\n",
        " - house size (m^2)\n",
        " - house price\n",
        " - location\n",
        " - number of bedrooms\n",
        "\n",
        "Make sure that the numbers make sense (i.e. more rooms is usually bigger size, more expensive locations increase price. more size is usually higher price etc. make sure all the numbers make sense).\n",
        "\"\"\"\n",
        "\n",
        "response = client.chat.completions.create(\n",
        "  model=\"gpt-4-0125\",\n",
        "  messages=[\n",
        "    {\"role\": \"system\", \"content\": \"You are a helpful assistant designed to generate synthetic data.\"},\n",
        "    {\"role\": \"user\", \"content\": question}\n",
        "  ]\n",
        ")\n",
        "res = response.choices[0].message.content\n",
        "print(res)"
      ]
    },
    {
      "cell_type": "markdown",
      "metadata": {},
      "source": [
        "We need to make sure to parse the output of this appropriately as often there may be surroudning text to the python code. We can also explicitly to ask it to state all assumptions it made about the data it's generating, however in this circumstance it told us that automatically."
      ]
    },
    {
      "cell_type": "markdown",
      "metadata": {
        "id": "HZaJs7q8xm3L"
      },
      "source": [
        "### 3. Multitable CSV with a python program\n",
        "For more complex relationships however we need to make sure to specify a few more characteristics. \n",
        "\n",
        "To create multiple different datasets which relate to each other (for example housing, location, house type), as before we would need to specify the format, schema and useful information. However, the useful information required to get good performance is higher now. It's case-specific but a good amount of things to describe would be how the datasets relate to each other, addressing the size of the datasets in relation to one another, making sure foreign and primary keys are made appropriately and ideally using previously generated datasets to populate new ones so the actual data values match where necessary."
      ]
    },
    {
      "cell_type": "code",
      "execution_count": 4,
      "metadata": {
        "colab": {
          "base_uri": "https://localhost:8080/"
        },
        "id": "3TWAhIYIxnbS",
        "outputId": "8f766838-b2f0-419a-a4fb-543d029afce5"
      },
      "outputs": [
        {
          "name": "stdout",
          "output_type": "stream",
          "text": [
            "Here is a simple python program that meets your specifications. It uses pandas and numpy to generate synthetic data. Note that this only generates random data and doesn't perform complex verifications like prices lining up with locations.\n",
            "\n",
            "```python\n",
            "import numpy as np\n",
            "import pandas as pd\n",
            "\n",
            "#Generates the Location dataframe\n",
            "location_id = np.arange(1,21)\n",
            "country = np.random.choice(['USA', 'UK', 'Canada', 'Australia', 'Germany'],20)\n",
            "city = np.random.choice(['CityA', 'CityB', 'CityC', 'CityD', 'CityE'], 20)\n",
            "population = np.random.randint(10000,10000000,20)\n",
            "area = np.random.randint(1000,100000,20)\n",
            "location_df = pd.DataFrame({\n",
            "    'id': location_id,\n",
            "    'Country': country,\n",
            "    'City': city,\n",
            "    'Population': population,\n",
            "    'Area': area\n",
            "})\n",
            "\n",
            "#Generates the House Types dataframe\n",
            "house_type_id = np.arange(1,11)\n",
            "house_type = np.random.choice(['Detached', 'Semi-Detached', 'Terraced', 'Flat'],10)\n",
            "average_house_type_price = np.random.randint(50000,500000,10)\n",
            "number_of_houses = np.random.randint(10,100,10)\n",
            "house_type_df = pd.DataFrame({\n",
            "    'id': house_type_id,\n",
            "    'House Type': house_type,\n",
            "    'Average House Type Price': average_house_type_price,\n",
            "    'Number of Houses': number_of_houses\n",
            "})\n",
            "\n",
            "#Generates the Housing Data dataframe\n",
            "house_id = np.arange(1,101)\n",
            "house_size_sqm = np.random.normal(100,20,100) # normal distribution, mean=100, stddev=20\n",
            "house_price = house_size_sqm * 10 + np.random.normal(0,10,100) # more size -> more price\n",
            "location = np.random.choice(location_id, 100) # foreign key from location\n",
            "num_bedrooms = np.random.choice([1,2,3,4,5],100)\n",
            "house_type_key = np.random.choice(house_type_id, 100) # foreign key from house_type\n",
            "housing_data_df = pd.DataFrame({\n",
            "    'id': house_id,\n",
            "    'house size': house_size_sqm,\n",
            "    'house price': house_price,\n",
            "    'location id': location,\n",
            "    'number of bedrooms': num_bedrooms,\n",
            "    'house type id': house_type_key\n",
            "})\n",
            "\n",
            "print(housing_data_df)\n",
            "print(location_df)\n",
            "print(house_type_df)\n",
            "```\n",
            "\n",
            "Here, all generated fields are random. Therefore, the architecture does not strictly follow that of a normal real estate market. However, house prices are somewhat proportional to house sizes, complying with the common sense check. The randmly generated IDs are used to correlate data across dataframes to imitate foreign key relationship.\n"
          ]
        }
      ],
      "source": [
        "question = \"\"\"\n",
        "Create a Python program to generate 3 different pandas dataframes.\n",
        "\n",
        "1. Housing data\n",
        "I want 100 rows. Each row should include the following fields:\n",
        " - id (incrementing integer starting at 1)\n",
        " - house size (m^2)\n",
        " - house price\n",
        " - location\n",
        " - number of bedrooms\n",
        " - house type\n",
        " + any relevant foreign keys\n",
        "\n",
        "2. Location\n",
        "Each row should include the following fields:\n",
        " - id (incrementing integer starting at 1)\n",
        " - country\n",
        " - city\n",
        " - population\n",
        " - area (m^2)\n",
        " + any relevant foreign keys\n",
        "\n",
        " 3. House types\n",
        " - id (incrementing integer starting at 1)\n",
        " - house type\n",
        " - average house type price\n",
        " - number of houses\n",
        " + any relevant foreign keys\n",
        "\n",
        "Make sure that the numbers make sense (i.e. more rooms is usually bigger size, more expensive locations increase price. more size is usually higher price etc. make sure all the numbers make sense).\n",
        "Make sure that the dataframe generally follow common sense checks, e.g. the size of the dataframes make sense in comparison with one another.\n",
        "Make sure the foreign keys match up and you can use previously generated dataframes when creating each consecutive dataframes.\n",
        "You can use the previously generated dataframe to generate the next dataframe.\n",
        "\"\"\"\n",
        "\n",
        "response = client.chat.completions.create(\n",
        "  model=\"gpt-4-0125\",\n",
        "  messages=[\n",
        "    {\"role\": \"system\", \"content\": \"You are a helpful assistant designed to generate synthetic data.\"},\n",
        "    {\"role\": \"user\", \"content\": question}\n",
        "  ]\n",
        ")\n",
        "res = response.choices[0].message.content\n",
        "print(res)"
      ]
    },
    {
      "cell_type": "markdown",
      "metadata": {
        "id": "Yv9XlRtauZYZ"
      },
      "source": [
        "### 4. Simply creating textual data\n",
        "Here we take a first look at creating textual data. This can be used to finetune another GPT model for example. In this case we imagine ourselves a retailer trying to streamline the process of creating descriptions for items they are selling. We again need to specify the format of the data, in particular in this case we want one which is easy to parse as an output."
      ]
    },
    {
      "cell_type": "markdown",
      "metadata": {},
      "source": [
        "The example we consider below is one in which we want to create input output training pairs for GPT model to finetune on. We will have the products' name and the category it belongs to as input and the output will be a description. \n",
        "\n",
        "Specifying the structure of the output explicitly and giving commands to not deviate from this help enforce the output structure. You can run this in a loop and append the data to generate more synthetic data. Again, as before we will need to parse the data well so that our code further downstream does not break."
      ]
    },
    {
      "cell_type": "code",
      "execution_count": null,
      "metadata": {
        "id": "2KJVwjV0upby"
      },
      "outputs": [],
      "source": [
        "output_string = \"\"\n",
        "for i in range(3):\n",
        "  question = f\"\"\"\n",
        "  I am creating input output training pairs to fine tune my gpt model. The usecase is a retailer generating a description for a product from a product catalogue. I want the input to be product name and category (to which the product belongs to) and output to be description.\n",
        "  The format should be of the form:\n",
        "  1.\n",
        "  Input: product_name, category\n",
        "  Output: description\n",
        "  2.\n",
        "  Input: product_name, category\n",
        "  Output: description\n",
        "\n",
        "  Do not add any extra characters around that formatting as it will make the output parsing break.\n",
        "  Create as many training pairs as possible.\n",
        "  \"\"\"\n",
        "\n",
        "  response = client.chat.completions.create(\n",
        "    model=\"gpt-4-0125-preview\",\n",
        "    messages=[\n",
        "      {\"role\": \"system\", \"content\": \"You are a helpful assistant designed to generate synthetic data.\"},\n",
        "      {\"role\": \"user\", \"content\": question}\n",
        "    ]\n",
        "  )\n",
        "  res = response.choices[0].message.content\n",
        "  output_string += res + \"\\n\" + \"\\n\"\n",
        "print(output_string)\n"
      ]
    },
    {
      "cell_type": "markdown",
      "metadata": {
        "id": "K5EmKTEa7GlC"
      },
      "source": [
        "And now we can parse it as below to get a list of products, categories and their descriptions. For example, let's take a look at the products it's generated."
      ]
    },
    {
      "cell_type": "code",
      "execution_count": 32,
      "metadata": {
        "colab": {
          "base_uri": "https://localhost:8080/"
        },
        "id": "owvoyJBh0o2n",
        "outputId": "ee48bcc9-fd29-42bf-9beb-ef3800cdbcb2"
      },
      "outputs": [
        {
          "data": {
            "text/plain": [
              "['\"Dell XPS 15',\n",
              " '\"Oral-B Genius 9600',\n",
              " '\"Levi\\'s Men\\'s 501 Original Fit Jeans',\n",
              " '\"McVitie\\'s Digestive Biscuits',\n",
              " '\"Tesla Model S',\n",
              " '\"Adidas Yeezy Boost 350',\n",
              " '\"Sony WH-1000XM4',\n",
              " '\"Philips Sonicare ProtectiveClean 6100',\n",
              " '\"Cadbury Dairy Milk',\n",
              " '\"Ferrari 488 GTB',\n",
              " '\"Oral-B Pro 1000',\n",
              " '\"Ben & Jerry\\'s Chocolate Fudge Brownie',\n",
              " '\"Levi\\'s 501 Original Fit Men\\'s Jeans',\n",
              " '\"Tesla Model 3',\n",
              " '\"Gillette Fusion ProGlide',\n",
              " '\"Lindt Excellence Dark Chocolate 85%',\n",
              " '\"Dell XPS 13']"
            ]
          },
          "execution_count": 32,
          "metadata": {},
          "output_type": "execute_result"
        }
      ],
      "source": [
        "#regex to parse data\n",
        "pattern = re.compile(r'Input:\\s*(.+?),\\s*(.+?)\\nOutput:\\s*(.+?)(?=\\n\\n|\\Z)', re.DOTALL)\n",
        "matches = pattern.findall(output_string)\n",
        "products = []\n",
        "categories = []\n",
        "descriptions = []\n",
        "\n",
        "for match in matches:\n",
        "    product, category, description = match\n",
        "    products.append(product.strip())\n",
        "    categories.append(category.strip())\n",
        "    descriptions.append(description.strip())\n",
        "products"
      ]
    },
    {
      "cell_type": "markdown",
      "metadata": {
        "id": "bO3PgRwpyocn"
      },
      "source": [
        "\n",
        "### 5. Dealing with imbalanced or non-diverse textual data\n",
        "Some of the most important aspects of generating high-quality synthetic data are accuracy (does the data make sense), consistency (are two separate data points for the same input roughly the same) and diversity (making sure our data distribution matches as much of the distribution that exists in production).\n",
        "\n",
        "\n",
        "To increase the diversity of our data, we start first by clustering the data. This will provide us information about which clusters are underrepresented (imbalanced dataset) or which data is not addressed at all (widening the data distribution). Then, we will either suggest new clusters (using self-reflection type call from GPT) or ask the next iteration of our synthetic generation calls to explicitly target the underrepresented clusters. \n",
        "\n",
        "We can then recursively run this generation and analysis of cluster loop to automate generating diverse synthetic data."
      ]
    },
    {
      "cell_type": "markdown",
      "metadata": {
        "id": "ubdPEFYR-myU"
      },
      "source": [
        "For demonstrative purposes, we explicitly prompt the LLM to generate information about 4 different topical areas: vehicle, clothing, toiletries, food. We will then cluster the data and see if it managed to find these 4 topic areas."
      ]
    },
    {
      "cell_type": "code",
      "execution_count": 78,
      "metadata": {
        "colab": {
          "base_uri": "https://localhost:8080/"
        },
        "id": "m-yncn8s1hWZ",
        "outputId": "35ae248d-4859-4d3f-ba29-94478aed7305"
      },
      "outputs": [
        {
          "name": "stdout",
          "output_type": "stream",
          "text": [
            "2) electronics\n",
            "Input: \"iPhone 13, Mobile Phones\"\n",
            "Output: \"Step into the future with the iPhone 13. This mobile phone offers an advanced processor, innovative camera features, and a long-lasting battery, suitable for those who desire efficiency on hand.\"\n",
            "\n",
            "3) toiletries\n",
            "Input: \"Oral-B Pro 1000, Electronic Toothbrush\"\n",
            "Output: \"Ensure everyday oral hygiene with Oral-B Pro 1000. This electric toothbrush has a round brush head for a tooth-by-tooth clean and a pressure sensor to protect your gums from over-brushing.\"\n",
            "\n",
            "4) clothing\n",
            "Input: \"Levi's 501 Original Fit Jeans, Pants\"\n",
            "Output: \"Experience the fit of heritage with Levi's 501 Original Fit Jeans. They offer timeless style and comfort, making these pants perfect for your day-to-day wear.\"\n",
            "\n",
            "5) food\n",
            "Input: \"Campbell's Chicken Noodle Soup, Canned Food\"\n",
            "Output: \"Enjoy the taste of home with Campbell's Chicken Noodle Soup. This canned food offers a comforting blend of tender chicken meat, carrots, and enriched noodles immersed in a savory chicken broth.\"\n",
            "\n",
            "6) vehicle\n",
            "Input: \"Tesla Model 3, Cars\"\n",
            "Output: \"Embrace sustainable transportation with Tesla Model 3. This car showcases electric power, efficient battery use, and an autopilot feature, transforming your driving experience into a modern journey.\"\n",
            "\n",
            "7) toiletries\n",
            "Input: \"Dove Deep Moisture Body Wash, Bath Soap\"\n",
            "Output: \"Experience a refreshing and moisturizing bath with Dove Deep Moisture Body Wash. This bath soap gently cleans and retains your skin's moisture, leaving it softer after just one use.\"\n",
            "\n",
            "8) clothing\n",
            "Input: \"The North Face Resolve 2 Jacket, Coats\"\n",
            "Output: \"Stay warm and dry in any weather with The North Face Resolve 2 Jacket. This coat boasts a durable waterproof exterior and breathable technologies, suitable for any adventurous excursions.\"\n",
            "\n",
            "9) electronics\n",
            "Input: \"Dell XPS 15, Laptops\"\n",
            "Output: \"Get ahead with your tasks using the Dell XPS 15. This laptop delivers powerful performance, extensive storage, and a stunning display, making it ideal for personal or professional use.\"\n",
            "\n",
            "10) food\n",
            "Input: \"Lindt Excellence Dark Chocolate, Sweets\"\n",
            "Output: \"Indulge in the rich flavor of Lindt Excellence Dark Chocolate. These sweets provide a harmonious blend of fine cocoa and delicate texture, perfect for any chocolate connoisseur.\"\n",
            "\n",
            "2) toiletries\n",
            "Input: \"Oral-B Pro 500, Electronic Toothbrush\"\n",
            "Output: \"Oral-B Pro 500 is a rechargeable electric toothbrush designed for deep and effective cleaning. Its unique round head removes up to 100% more plaque than a standard manual toothbrush for healthier gums.\"\n",
            "\n",
            "3) vehicle\n",
            "Input: \"Audi Q7, Car\"\n",
            "Output: \"The Audi Q7 is the epitome of luxury and performance. With impressive acceleration, world-class interiors, and advanced safety features, this vehicle is a true embodiment of sophistication and power.\" \n",
            "\n",
            "4) food\n",
            "Input: \"Doritos Nacho Cheese, Snacks\"\n",
            "Output: \"Doritos Nacho Cheese flavored tortilla chips deliver a satisfying crunch with bold, mouthwatering cheesy flavor. Perfect for party snack or just as an anytime snack.\"\n",
            "\n",
            "5) clothing\n",
            "Input: \"Levi's 501 Original Fit Jeans, Pants\"\n",
            "Output: \"Levi's 501 Original Fit Jeans are a classic staple in everyone's wardrobe. With their versatile design and durable fabric, they offer a comfortable and iconic style perfect for a variety of occasions.\"\n",
            "\n",
            "6) toiletries\n",
            "Input: \"Colgate Total, Toothpaste\"\n",
            "Output: \"Colgate Total toothpaste provides advanced protection for whole mouth health. Its fluoride formula fights bacteria not just on your teeth, but also on your tongue, cheeks and gums.\"\n",
            "\n",
            "7) vehicle\n",
            "Input: \"Ford Mustang GT, Car\"\n",
            "Output: \"The Ford Mustang GT is a classic American muscle car that combines raw power with astonishing speed. The sleek design and luxurious interior ensure a thrilling yet comfortable driving experience.\"\n",
            "\n",
            "8) food\n",
            "Input: \"Nutella, Spread\"\n",
            "Output: \"Nutella is a creamy hazelnut spread that tastes great on toast, pancakes, and other breakfast staples. Its unique and rich flavor is beloved by people of all ages.\"\n",
            "\n",
            "9) clothing\n",
            "Input: \"Adidas UltraBoost 20, Shoes\"\n",
            "Output: \"The Adidas UltraBoost 20 is a lightweight running shoe offering superior comfort and support. With its unique responsive cushioning and perfect energy return, it's your best partner in daily running and training.\"\n",
            "\n",
            "10) toiletries\n",
            "Input: \"Dove Deep Moisture, Shower Gel\"\n",
            "Output: \"Dove Deep Moisture Shower Gel nourishes and moisturizes your skin with its rich, creamy lather. Its gentle formula leaves the skin feeling soft, smooth, and hydrated after every wash.\"\n",
            "\n",
            "11) vehicle\n",
            "Input: \"Yamaha MT-07, Motorcycle\"\n",
            "Output: \"The Yamaha MT-07 is a two-wheel thrill for experienced riders. Its lightweight body, high torque, and sleek design make it an exceptional choice for anyone seeking performance and versatility.\"\n",
            "\n",
            "12) food\n",
            "Input: \"Lays Classic, Potato Chips\"\n",
            "Output: \"Lays Classic Potato Chips are light, crispy and packed with a fresh potato taste. Their irresistible crunch makes them perfect for casual snacking or serving at social gatherings.\"\n",
            "\n",
            "2) toiletries\n",
            "Input: \"Oral-B Pro 1000, Electronic Toothbrush\"\n",
            "Output: \"Enjoy a superior clean with the Oral-B Pro 1000 electronic toothbrush. With its innovative cross-action bristles and pressure sensor, it eliminates up to 100% more plaque than a standard manual toothbrush.\"\n",
            "\n",
            "3) vehicle\n",
            "Input: \"BMW X5, SUV\"\n",
            "Output: \"Crafted to command attention, the BMW X5 is an SUV that offers outstanding luxury in all areas. With its xDrive, BMW's intelligent all-wheel drive system and a TwinPower Turbo in-line six-cylinder, this vehicle is perfect for both city and off-road driving.\"\n",
            "\n",
            "4) food\n",
            "Input: \"Oreo Double Stuf, Biscuit\"\n",
            "Output: \"Double the pleasure with Oreo Double Stuf biscuits. These sandwiches feature two layers of iconic, rich creme filling that sandwiched between two chocolate wafer cookies. Perfect for parties, after school or work snacks, or moments you want something sweet.\"\n",
            "\n",
            "5) clothing\n",
            "Input: \"Levi's 501 Original, Jeans\"\n",
            "Output: \"Classic and timeless, Levi's 501 Original Jeans remain a staple for any wardrobe. Known for their fit, quality, and durability, these jeans feature a straight leg style and a button fly. They are perfect whether you're hanging out or sprucing up.\"\n",
            "\n",
            "6) toiletries\n",
            "Input: \"Dove Deep Moisture, Body Wash\"\n",
            "Output: \"Revitalize and nourish your skin with the Dove Deep Moisture Body Wash. This body wash provides long-lasting moisture and leaves skin softer and smoother after just one use. Ideal for all skin types.\"\n",
            "\n",
            "7) vehicle\n",
            "Input: \"Tesla Model 3, electric car\"\n",
            "Output: \"Discover seamless integration of comfort, performance, and technology with the Tesla Model 3. This fully electric sedan features impressive acceleration, range and a cutting-edge autopilot mode that is leading the way in electric vehicle automation.\"\n",
            "\n",
            "8) food\n",
            "Input: \"Lay's Classic, Potato Chips\"\n",
            "Output: \"Experience the savory crunch of Lay's Classic Potato Chips. Made with simple, quality ingredients, these chips are perfect for any occasion and go well with dips or by themselves for a delicious, salty snack.\"\n",
            "\n",
            "\n",
            "\n"
          ]
        }
      ],
      "source": [
        "output_string = \"\"\n",
        "for i in range(3):\n",
        "  question = f\"\"\"\n",
        "  I am creating input output training pairs to fine tune my gpt model. I want the input to be product name and category and output to be description. the category should be things like: mobile phones, shoes, headphones, laptop, electronic toothbrush, etc. and also more importantly the categories should come under 4 main topics: vehicle, clothing, toiletries, food)\n",
        "  After the number of each example also state the topic area. The format should be of the form:\n",
        "  1. topic_area\n",
        "  Input: product_name, category\n",
        "  Output: description\n",
        "\n",
        "  Do not add any extra characters around that formatting as it will make the output parsing break.\n",
        "\n",
        "  Here are some helpful examples so you get the style of output correct.\n",
        "\n",
        "  1) clothing\n",
        "  Input: \"Nike Air Max 270, Shoes\"\n",
        "  Output: \"Experience unparalleled comfort with the Nike Air Max 270. These shoes feature a blend of modern style and the traditional Air Max cushioning, perfect for those always on the move.\"\n",
        "  \"\"\"\n",
        "\n",
        "  response = client.chat.completions.create(\n",
        "    model=\"gpt-4\",\n",
        "    messages=[\n",
        "      {\"role\": \"system\", \"content\": \"You are a helpful assistant designed to generate synthetic data.\"},\n",
        "      {\"role\": \"user\", \"content\": question}\n",
        "    ]\n",
        "  )\n",
        "  res = response.choices[0].message.content\n",
        "  output_string += res + \"\\n\" + \"\\n\"\n",
        "print(output_string)"
      ]
    },
    {
      "cell_type": "markdown",
      "metadata": {},
      "source": [
        "In the example above, we would explicitly include the topic area as part of the response per example as it helps condition the proceeding output and tends to give better performance. We can also give it an actual example of what the output should look like so it gets the right idea of style of output but also to help enforce structure."
      ]
    },
    {
      "cell_type": "code",
      "execution_count": 79,
      "metadata": {
        "id": "k7GAokEC1hUY"
      },
      "outputs": [],
      "source": [
        "pattern = re.compile(r'(\\d+)\\) (\\w+(?: \\w+)?)\\s*Input: \"(.+?), (.+?)\"\\s*Output: \"(.+?)\"', re.DOTALL)\n",
        "matches = pattern.findall(output_string)\n",
        "\n",
        "\n",
        "topics = []\n",
        "products = []\n",
        "categories = []\n",
        "descriptions = []\n",
        "\n",
        "for match in matches:\n",
        "    number, topic, product, category, description = match\n",
        "    topics.append(topic)\n",
        "    products.append(product)\n",
        "    categories.append(category)\n",
        "    descriptions.append(description)\n"
      ]
    },
    {
      "cell_type": "code",
      "execution_count": 80,
      "metadata": {
        "colab": {
          "base_uri": "https://localhost:8080/"
        },
        "id": "Z49B3LrJ1hSG",
        "outputId": "d76a9038-1879-44d9-f1db-dc933e066c54"
      },
      "outputs": [
        {
          "data": {
            "text/plain": [
              "['iPhone 13',\n",
              " 'Oral-B Pro 1000',\n",
              " \"Levi's 501 Original Fit Jeans\",\n",
              " \"Campbell's Chicken Noodle Soup\",\n",
              " 'Tesla Model 3',\n",
              " 'Dove Deep Moisture Body Wash',\n",
              " 'The North Face Resolve 2 Jacket',\n",
              " 'Dell XPS 15',\n",
              " 'Lindt Excellence Dark Chocolate',\n",
              " 'Oral-B Pro 500',\n",
              " 'Audi Q7',\n",
              " 'Doritos Nacho Cheese',\n",
              " \"Levi's 501 Original Fit Jeans\",\n",
              " 'Colgate Total',\n",
              " 'Ford Mustang GT',\n",
              " 'Nutella',\n",
              " 'Adidas UltraBoost 20',\n",
              " 'Dove Deep Moisture',\n",
              " 'Yamaha MT-07',\n",
              " 'Lays Classic',\n",
              " 'Oral-B Pro 1000',\n",
              " 'BMW X5',\n",
              " 'Oreo Double Stuf',\n",
              " \"Levi's 501 Original\",\n",
              " 'Dove Deep Moisture',\n",
              " 'Tesla Model 3',\n",
              " \"Lay's Classic\"]"
            ]
          },
          "execution_count": 80,
          "metadata": {},
          "output_type": "execute_result"
        }
      ],
      "source": [
        "products"
      ]
    },
    {
      "cell_type": "markdown",
      "metadata": {
        "id": "J1qKxLkAzKq0"
      },
      "source": [
        "We will now cluster the data to analyze it. We will use K-means clustering to segregate the data. An important parameter of K-means to set is K, the number of clusters.\n",
        "\n",
        "We know that there should be 4 cluster (4 topics) since we specified this in prompt: vehicle, electronics, clothing, food. However in general for our data, we do not know the number of clusters that exist. Therefore we will use the elbow method. Here we iterate through a range of different K's, each time storing the inertia. The inertia measures the sum of the squared distances between each point in a cluster and the centroid of that cluster thus telling us how well-separated and dense each cluster is. If we plot K against the inertia, we are able to see how the inertia drops and where the drop in inertia is least rapid (often making an elbow shape) we can set our optimal number of clusters."
      ]
    },
    {
      "cell_type": "markdown",
      "metadata": {
        "id": "1BxwPTkpGzu8"
      },
      "source": [
        "First let's store our data into a pandas dataframe for ease of analysis\n",
        "\n"
      ]
    },
    {
      "cell_type": "code",
      "execution_count": 81,
      "metadata": {
        "id": "XcPBzORtKWv6"
      },
      "outputs": [],
      "source": [
        "data = {\n",
        "    'Product': products,\n",
        "    'Category': categories,\n",
        "    'Description': descriptions\n",
        "}\n",
        "\n",
        "df = pd.DataFrame(data)"
      ]
    },
    {
      "cell_type": "markdown",
      "metadata": {
        "id": "HQbg6r37KjG0"
      },
      "source": [
        "Next let us embed our data as the embeddings is what we will cluster since they should be close to each other in vector space if they are similar."
      ]
    },
    {
      "cell_type": "code",
      "execution_count": 82,
      "metadata": {
        "id": "l8M7MX-1Jctr"
      },
      "outputs": [],
      "source": [
        "def get_embedding(text, model=\"text-embedding-3-small\"):\n",
        "    text = text.replace(\"\\n\", \" \")\n",
        "\n",
        "    response = client.embeddings.create(input=[text], model=model)\n",
        "\n",
        "    return response.data[0].embedding\n",
        "\n",
        "embedding_model = \"text-embedding-3-small\"\n",
        "df[\"embedding\"] = df.Category.apply(lambda x: get_embedding(x, model=embedding_model))\n",
        "\n",
        "matrix = np.vstack(df.embedding.values)"
      ]
    },
    {
      "cell_type": "markdown",
      "metadata": {
        "id": "ZcdZscBNKy0F"
      },
      "source": [
        "Now we perform the elbow method. This will output a chart for us in which we have to visually tell where the optimal cluster point is. We can see below that we see a gradual decrease of inertia rather than a sharp elbow but the point of steepest decrease appears to occur around 3, 4 or 5 clusters which lines up with our expectations given our prompt. \n",
        "\n",
        "For demonstration purposes we will pick 5 as the optimal cluster number to show it doesn't matter exactly where we pick it as long as we are approximately right. There are numerous correct ways to categorize data."
      ]
    },
    {
      "cell_type": "code",
      "execution_count": 83,
      "metadata": {
        "colab": {
          "base_uri": "https://localhost:8080/",
          "height": 981
        },
        "id": "1Azw_xgVl_aY",
        "outputId": "5b7076aa-a03c-4a40-f52c-08b09248cf18"
      },
      "outputs": [
        {
          "name": "stderr",
          "output_type": "stream",
          "text": [
            "/usr/local/lib/python3.10/dist-packages/sklearn/cluster/_kmeans.py:870: FutureWarning: The default value of `n_init` will change from 10 to 'auto' in 1.4. Set the value of `n_init` explicitly to suppress the warning\n",
            "  warnings.warn(\n",
            "/usr/local/lib/python3.10/dist-packages/sklearn/cluster/_kmeans.py:870: FutureWarning: The default value of `n_init` will change from 10 to 'auto' in 1.4. Set the value of `n_init` explicitly to suppress the warning\n",
            "  warnings.warn(\n",
            "/usr/local/lib/python3.10/dist-packages/sklearn/cluster/_kmeans.py:870: FutureWarning: The default value of `n_init` will change from 10 to 'auto' in 1.4. Set the value of `n_init` explicitly to suppress the warning\n",
            "  warnings.warn(\n",
            "/usr/local/lib/python3.10/dist-packages/sklearn/cluster/_kmeans.py:870: FutureWarning: The default value of `n_init` will change from 10 to 'auto' in 1.4. Set the value of `n_init` explicitly to suppress the warning\n",
            "  warnings.warn(\n",
            "/usr/local/lib/python3.10/dist-packages/sklearn/cluster/_kmeans.py:870: FutureWarning: The default value of `n_init` will change from 10 to 'auto' in 1.4. Set the value of `n_init` explicitly to suppress the warning\n",
            "  warnings.warn(\n",
            "/usr/local/lib/python3.10/dist-packages/sklearn/cluster/_kmeans.py:870: FutureWarning: The default value of `n_init` will change from 10 to 'auto' in 1.4. Set the value of `n_init` explicitly to suppress the warning\n",
            "  warnings.warn(\n",
            "/usr/local/lib/python3.10/dist-packages/sklearn/cluster/_kmeans.py:870: FutureWarning: The default value of `n_init` will change from 10 to 'auto' in 1.4. Set the value of `n_init` explicitly to suppress the warning\n",
            "  warnings.warn(\n",
            "/usr/local/lib/python3.10/dist-packages/sklearn/cluster/_kmeans.py:870: FutureWarning: The default value of `n_init` will change from 10 to 'auto' in 1.4. Set the value of `n_init` explicitly to suppress the warning\n",
            "  warnings.warn(\n",
            "/usr/local/lib/python3.10/dist-packages/sklearn/cluster/_kmeans.py:870: FutureWarning: The default value of `n_init` will change from 10 to 'auto' in 1.4. Set the value of `n_init` explicitly to suppress the warning\n",
            "  warnings.warn(\n",
            "/usr/local/lib/python3.10/dist-packages/sklearn/cluster/_kmeans.py:870: FutureWarning: The default value of `n_init` will change from 10 to 'auto' in 1.4. Set the value of `n_init` explicitly to suppress the warning\n",
            "  warnings.warn(\n",
            "/usr/local/lib/python3.10/dist-packages/sklearn/cluster/_kmeans.py:870: FutureWarning: The default value of `n_init` will change from 10 to 'auto' in 1.4. Set the value of `n_init` explicitly to suppress the warning\n",
            "  warnings.warn(\n",
            "/usr/local/lib/python3.10/dist-packages/sklearn/cluster/_kmeans.py:870: FutureWarning: The default value of `n_init` will change from 10 to 'auto' in 1.4. Set the value of `n_init` explicitly to suppress the warning\n",
            "  warnings.warn(\n"
          ]
        },
        {
          "data": {
            "image/png": "[encoded data removed]",
            "text/plain": [
              "<Figure size 1000x600 with 1 Axes>"
            ]
          },
          "metadata": {},
          "output_type": "display_data"
        }
      ],
      "source": [
        "# Determine the optimal number of clusters using the elbow method\n",
        "inertias = []\n",
        "range_of_clusters = range(1, 13)  # Adjust the range as necessary\n",
        "\n",
        "for n_clusters in range_of_clusters:\n",
        "    kmeans = KMeans(n_clusters=n_clusters, init=\"k-means++\", random_state=42)\n",
        "    kmeans.fit(matrix)\n",
        "    inertias.append(kmeans.inertia_)\n",
        "\n",
        "# Plotting the elbow plot\n",
        "plt.figure(figsize=(10, 6))\n",
        "plt.plot(range_of_clusters, inertias, '-o')\n",
        "plt.title('Elbow Method to Determine Optimal Number of Clusters')\n",
        "plt.xlabel('Number of Clusters')\n",
        "plt.ylabel('Inertia')\n",
        "plt.xticks(range_of_clusters)\n",
        "plt.show()"
      ]
    },
    {
      "cell_type": "markdown",
      "metadata": {
        "id": "NN7NbTmiLe_-"
      },
      "source": [
        "Now we will pick the optimal cluster number at k = 5 and store which cluster each data point belongs to."
      ]
    },
    {
      "cell_type": "code",
      "execution_count": 84,
      "metadata": {
        "colab": {
          "base_uri": "https://localhost:8080/"
        },
        "id": "KvrDe3WYKWgZ",
        "outputId": "d0d95227-b9d2-4c52-a5f7-59159ba848d2"
      },
      "outputs": [
        {
          "name": "stderr",
          "output_type": "stream",
          "text": [
            "/usr/local/lib/python3.10/dist-packages/sklearn/cluster/_kmeans.py:870: FutureWarning: The default value of `n_init` will change from 10 to 'auto' in 1.4. Set the value of `n_init` explicitly to suppress the warning\n",
            "  warnings.warn(\n"
          ]
        }
      ],
      "source": [
        "n_clusters = 5\n",
        "\n",
        "kmeans = KMeans(n_clusters=n_clusters, init=\"k-means++\", random_state=42)\n",
        "kmeans.fit(matrix)\n",
        "labels = kmeans.labels_\n",
        "df[\"Cluster\"] = labels"
      ]
    },
    {
      "cell_type": "markdown",
      "metadata": {
        "id": "tLvO4AISDM0J"
      },
      "source": [
        "We will analyze the cluster data now. There are two separate things we will look to address. 1. imbalanced data, 2. Expanding the data distribution."
      ]
    },
    {
      "cell_type": "markdown",
      "metadata": {
        "id": "zaQ_mdhpOJqs"
      },
      "source": [
        "First for imbalanced data we count the number of examples in each cluster. Then we select a few examples from each cluster at random and ask the LLM what topics these map to. "
      ]
    },
    {
      "cell_type": "code",
      "execution_count": 85,
      "metadata": {
        "colab": {
          "base_uri": "https://localhost:8080/"
        },
        "id": "crUT7OR7QcFD",
        "outputId": "04f49ac2-1259-4622-bcf2-0686af93068c"
      },
      "outputs": [
        {
          "name": "stdout",
          "output_type": "stream",
          "text": [
            "0    6\n",
            "1    6\n",
            "2    7\n",
            "3    5\n",
            "4    3\n",
            "Name: Cluster, dtype: int64\n"
          ]
        }
      ],
      "source": [
        "cluster_counts = df[\"Cluster\"].value_counts().sort_index()\n",
        "print(cluster_counts)"
      ]
    },
    {
      "cell_type": "markdown",
      "metadata": {
        "id": "8i1FGtM-Xx3k"
      },
      "source": [
        "We can see the topics found here:\n",
        "Vehicles, Personal Care and Hygiene, Food and Snacks, Apparel, Skincare and Bath Products\n",
        "match well to our initial prompt of:\n",
        "vehicle, clothing, toiletries, food.\n",
        "\n",
        "As we chose 5 clusters, it split up toiletries into Skincare and Personal Care  which doesn't affect us too much further downstream."
      ]
    },
    {
      "cell_type": "code",
      "execution_count": 86,
      "metadata": {
        "colab": {
          "base_uri": "https://localhost:8080/"
        },
        "id": "RRwIet9DUdKe",
        "outputId": "8e7835c9-884a-4504-bbed-f556382dd9f5"
      },
      "outputs": [
        {
          "name": "stdout",
          "output_type": "stream",
          "text": [
            "[\n",
            "  {\n",
            "    \"cluster\": 0,\n",
            "    \"topic\": \"Vehicles\"\n",
            "  },\n",
            "  {\n",
            "    \"cluster\": 1,\n",
            "    \"topic\": \"Personal Care and Hygiene\"\n",
            "  },\n",
            "  {\n",
            "    \"cluster\": 2,\n",
            "    \"topic\": \"Food and Snacks\"\n",
            "  },\n",
            "  {\n",
            "    \"cluster\": 3,\n",
            "    \"topic\": \"Apparel\"\n",
            "  },\n",
            "  {\n",
            "    \"cluster\": 4,\n",
            "    \"topic\": \"Skincare and Bath Products\"\n",
            "  }\n",
            "]\n"
          ]
        }
      ],
      "source": [
        "selected_examples = df.groupby('Cluster').apply(lambda x: x.sample(3)).reset_index(drop=True)\n",
        "\n",
        "# Format the selected examples\n",
        "formatted_examples = \"\\n\".join(\n",
        "    f'Input: \"{row[\"Product\"]}, {row[\"Category\"]}\"\\nOutput: \"{row[\"Description\"]}\"\\nCluster: \"{row[\"Cluster\"]}\"'\n",
        "    for _, row in selected_examples.iterrows()\n",
        ")\n",
        "\n",
        "topic_prompt = f\"\"\"\n",
        "    I previously generated some examples of input output trainings pairs and then I clustered them based on category. From each cluster I picked 3 example data point which you can find below.\n",
        "    I want you identify the broad topic areas these clusters belong to.\n",
        "    Previous examples:\n",
        "    {formatted_examples}\n",
        "\n",
        "\n",
        "    Your output should be strictly of the format:\n",
        "    Cluster: number, topic: topic\n",
        "    Cluster: number, topic: topic\n",
        "    Cluster: number, topic: topic\n",
        "\n",
        "    Do not add any extra characters around that formatting as it will make the output parsing break.\n",
        "    \"\"\"\n",
        "\n",
        "response = client.chat.completions.create(\n",
        "  model=\"gpt-4-0125-preview\",\n",
        "  messages=[\n",
        "    {\"role\": \"system\", \"content\": \"You are a helpful assistant designed analyze clustered data\"},\n",
        "    {\"role\": \"user\", \"content\": topic_prompt}\n",
        "  ]\n",
        ")\n",
        "res = response.choices[0].message.content\n",
        "\n",
        "pattern = r\"Cluster: (\\d+), topic: ([^\\n]+)\"\n",
        "matches = re.findall(pattern, res)\n",
        "clusters = [{\"cluster\": int(cluster), \"topic\": topic} for cluster, topic in matches]\n",
        "json_output = json.dumps(clusters, indent=2)\n",
        "print(json_output)"
      ]
    },
    {
      "cell_type": "markdown",
      "metadata": {
        "id": "x5hszl-SZVdi"
      },
      "source": [
        "We now have the clusters and their counts so we could prompt the LLM to generate more examples within the topics we want. However for this example we won't take that further as they are well-split and you would just follow the procedure above for prompting the model to generate data while passing in the underrepresented topics."
      ]
    },
    {
      "cell_type": "markdown",
      "metadata": {
        "id": "yVD_TPsHYvDb"
      },
      "source": [
        "Next, we will try and deal with increasing the diversity of our data distribution. \n",
        "\n",
        "First we start in a similar way by finding a few examples from each cluster at random and ask the LLM what topics these map to. In addition to this in the same LLM call, we will ask it to generate more topics to increase the diversity of our data. We do this in one call to save time/cost."
      ]
    },
    {
      "cell_type": "code",
      "execution_count": 96,
      "metadata": {
        "colab": {
          "base_uri": "https://localhost:8080/",
          "height": 53
        },
        "id": "mZjBbfFaZ3mn",
        "outputId": "8864421a-e9d4-4ea6-f747-a76a3291a593"
      },
      "outputs": [
        {
          "data": {
            "application/vnd.google.colaboratory.intrinsic+json": {
              "type": "string"
            },
            "text/plain": [
              "'1. Cluster topic mapping\\nCluster: 0, topic: Vehicles\\nCluster: 1, topic: Personal Electronics\\nCluster: 2, topic: Snacks and Sweets\\nCluster: 3, topic: Clothing and Footwear\\nCluster: 4, topic: Personal Care\\n\\n2. New topics\\n1. Home Appliances\\n2. Outdoor & Camping Gear\\n3. Video Games & Consoles\\n4. Books & Literature'"
            ]
          },
          "execution_count": 96,
          "metadata": {},
          "output_type": "execute_result"
        }
      ],
      "source": [
        "selected_examples = df.groupby('Cluster').apply(lambda x: x.sample(3)).reset_index(drop=True)\n",
        "\n",
        "# Format the selected examples\n",
        "formatted_examples = \"\\n\".join(\n",
        "    f'Input: \"{row[\"Product\"]}, {row[\"Category\"]}\"\\nOutput: \"{row[\"Description\"]}\"\\nCluster: \"{row[\"Cluster\"]}\"'\n",
        "    for _, row in selected_examples.iterrows()\n",
        ")\n",
        "\n",
        "topic_prompt = f\"\"\"\n",
        "    I previously generated some examples of input output trainings pairs and then I clustered them based on category. From each cluster I picked 3 example data point which you can find below.\n",
        "    I want to promote diversity in my examples across categories so follow the procedure below:\n",
        "    1. You must identify the broad topic areas these clusters belong to.\n",
        "    2. You should generate further topic areas which don't exist so I can generate data within these topics to improve diversity.\n",
        "\n",
        "\n",
        "    Previous examples:\n",
        "    {formatted_examples}\n",
        "\n",
        "\n",
        "    Your output should be strictly of the format:\n",
        "\n",
        "    1. Cluster topic mapping\n",
        "    Cluster: number, topic: topic\n",
        "    Cluster: number, topic: topic\n",
        "    Cluster: number, topic: topic\n",
        "\n",
        "    2. New topics\n",
        "    1. topic\n",
        "    2. topic\n",
        "    3. topic\n",
        "    4. topic\n",
        "\n",
        "    Do not add any extra characters around that formatting as it will make the output parsing break. It is very important you stick to that output format\n",
        "    \"\"\"\n",
        "\n",
        "response = client.chat.completions.create(\n",
        "  model=\"gpt-4-0125-preview\",\n",
        "  messages=[\n",
        "    {\"role\": \"system\", \"content\": \"You are a helpful assistant designed analyze clustered data\"},\n",
        "    {\"role\": \"user\", \"content\": topic_prompt}\n",
        "  ]\n",
        ")\n",
        "res = response.choices[0].message.content\n",
        "res\n"
      ]
    },
    {
      "cell_type": "markdown",
      "metadata": {},
      "source": [
        "We can see here again that we explicitly prompt the output structure it should follow. I also tell it the purpose of generating topics (to promote diversity) so the model has full context."
      ]
    },
    {
      "cell_type": "markdown",
      "metadata": {
        "id": "s254oJ-Ecka0"
      },
      "source": [
        "We then parse the data into a list of cluster-mapping jsons and a list of topics"
      ]
    },
    {
      "cell_type": "code",
      "execution_count": 97,
      "metadata": {
        "colab": {
          "base_uri": "https://localhost:8080/"
        },
        "id": "HTS4ybspcivw",
        "outputId": "52ea363c-cbf5-420e-b81e-0d2710c50203"
      },
      "outputs": [
        {
          "data": {
            "text/plain": [
              "([{'cluster': 0, 'topic': 'Vehicles'},\n",
              "  {'cluster': 1, 'topic': 'Personal Electronics'},\n",
              "  {'cluster': 2, 'topic': 'Snacks and Sweets'},\n",
              "  {'cluster': 3, 'topic': 'Clothing and Footwear'},\n",
              "  {'cluster': 4, 'topic': 'Personal Care'}],\n",
              " ['Home Appliances',\n",
              "  'Outdoor & Camping Gear',\n",
              "  'Video Games & Consoles',\n",
              "  'Books & Literature'])"
            ]
          },
          "execution_count": 97,
          "metadata": {},
          "output_type": "execute_result"
        }
      ],
      "source": [
        "parts = res.split(\"\\n\\n\")\n",
        "cluster_mapping_part = parts[0]\n",
        "new_topics_part = parts[1]\n",
        "\n",
        "# Parse cluster topic mapping\n",
        "cluster_topic_mapping_lines = cluster_mapping_part.split(\"\\n\")[1:]  # Skip the first two lines\n",
        "cluster_topic_mapping = [{\"cluster\": int(line.split(\",\")[0].split(\":\")[1].strip()), \"topic\": line.split(\":\")[2].strip()} for line in cluster_topic_mapping_lines]\n",
        "\n",
        "# Parse new topics\n",
        "new_topics_lines = new_topics_part.split(\"\\n\")[1:]  # Skip the first line\n",
        "new_topics = [line.split(\". \")[1] for line in new_topics_lines]\n",
        "\n",
        "cluster_topic_mapping, new_topics"
      ]
    },
    {
      "cell_type": "markdown",
      "metadata": {
        "id": "CX26-PGdcui0"
      },
      "source": [
        "And finally we can use this information to further prompt a model to keep generating synthetic data. We do this by passing all the topics in the list of jsons to the prompt below."
      ]
    },
    {
      "cell_type": "code",
      "execution_count": null,
      "metadata": {
        "id": "zHf4LnVk0aHw"
      },
      "outputs": [],
      "source": [
        "output_string = \"\"\n",
        "for i in range(3):\n",
        "  question = f\"\"\"\n",
        "  I am creating input output training pairs to fine tune my gpt model. I want the input to be product name and category and output to be description. the category should be things like: mobile phones, shoes, headphones, laptop, electronic toothbrush, etc. and also more importantly the categories should come under some main topics: {[entry['topic'] for entry in cluster_topic_mapping]})\n",
        "  After the number of each example also state the topic area. The format should be of the form:\n",
        "  1. topic_area\n",
        "  Input: product_name, category\n",
        "  Output: description\n",
        "\n",
        "  Do not add any extra characters around that formatting as it will make the output parsing break.\n",
        "\n",
        "  Here are some helpful examples so you get the style of output correct.\n",
        "\n",
        "  1) clothing\n",
        "  Input: \"Nike Air Max 270, Shoes\"\n",
        "  Output: \"Experience unparalleled comfort with the Nike Air Max 270. These shoes feature a blend of modern style and the traditional Air Max cushioning, perfect for those always on the move.\"\n",
        "  \"\"\"\n",
        "\n",
        "  response = client.chat.completions.create(\n",
        "    model=\"gpt-4\",\n",
        "    messages=[\n",
        "      {\"role\": \"system\", \"content\": \"You are a helpful assistant designed to generate synthetic data.\"},\n",
        "      {\"role\": \"user\", \"content\": question}\n",
        "    ]\n",
        "  )\n",
        "  res = response.choices[0].message.content\n",
        "  output_string += res + \"\\n\" + \"\\n\"\n",
        "print(output_string)"
      ]
    },
    {
      "cell_type": "markdown",
      "metadata": {
        "id": "RQMHQxnZdRug"
      },
      "source": [
        "You can run this in a loop to append to your previous data and in this way you can keep generating more textual synthetic data to train another GPT model while making sure that we cater to imbalanced datasets and generating a diversity of data."
      ]
    },
    {
      "cell_type": "markdown",
      "metadata": {
        "id": "Hiim8Xg5djGH"
      },
      "source": [
        "You have now completed part 1 of the synthetic data generation tutorial where we have gone through:\n",
        "*   CSV with a structure prompt\n",
        "*   CSV with a Python program\n",
        "*   Multitable CSV with a python program\n",
        "*   Simply creating textual data\n",
        "*   Dealing with imbalanced or non-diverse textual data\n",
        "\n",
        "In part 2 you will find find out techniques for better prompting an LLM to enhance textual synthetic data generation."
      ]
    }
  ],
  "metadata": {
    "colab": {
      "provenance": []
    },
    "kernelspec": {
      "display_name": "Python 3",
      "name": "python3"
    },
    "language_info": {
      "name": "python"
    }
  },
  "nbformat": 4,
  "nbformat_minor": 0
}
