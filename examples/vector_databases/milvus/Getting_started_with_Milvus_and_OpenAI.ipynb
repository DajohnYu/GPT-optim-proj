{
 "cells": [
  {
   "cell_type": "markdown",
   "metadata": {
    "id": "aXN5dTgZudz4"
   },
   "source": [
    "# Getting Started with Milvus and OpenAI\n",
    "### Finding your next book\n",
    "[Milvus](https://milvus.io/) is a popular open-source vector database that powers AI applications with highly performant and scalable vector similarity search.\n",
    "\n",
    "\n",
    "In this notebook we will be going over generating embeddings of book descriptions with OpenAI and using those embeddings within Milvus to find relevant books. The dataset in this example is sourced from HuggingFace datasets, and contains a little over 1 million title-description pairs.\n",
    "\n",
    "\n",
    "For demonstration purposes, we are using a reduced dataset of 10,000 samples from the original HuggingFace dataset containing over a million records. This subset will allow us to effectively illustrate the embedding and retrieval process without the overhead of handling the full dataset size.\n",
    "\n",
    "Lets begin by first downloading the required libraries for this notebook:\n",
    "- `openai` is used for communicating with the OpenAI embedding service\n",
    "- `pymilvus` is used for communicating with the Milvus server\n",
    "- `datasets` is used for downloading the dataset\n",
    "- `tqdm` is used for the progress bars\n"
   ]
  },
  {
   "cell_type": "code",
   "execution_count": null,
   "metadata": {
    "colab": {
     "base_uri": "https://localhost:8080/"
    },
    "collapsed": true,
    "id": "XKZ4_Dexudz5",
    "outputId": "e333ffd7-a039-4630-9f2f-2e656d2c3273"
   },
   "outputs": [],
   "source": [
    "! pip install openai pymilvus datasets tqdm"
   ]
  },
  {
   "cell_type": "markdown",
   "source": [
    "> If you are using Google Colab, to enable dependencies just installed, you may need to **restart the runtime** (click on the \"Runtime\" menu at the top of the screen, and select \"Restart session\" from the dropdown menu)."
   ],
   "metadata": {
    "id": "jxtTMqr8yJ7y"
   }
  },
  {
   "cell_type": "markdown",
   "metadata": {
    "id": "08DQFod0DIv7"
   },
   "source": [
    "We will use OpenAI as the LLM in this example. You should prepare the [api key](https://platform.openai.com/docs/quickstart) `OPENAI_API_KEY` as an environment variable."
   ]
  },
  {
   "cell_type": "code",
   "execution_count": 3,
   "metadata": {
    "id": "E8LsgeBzDIv8",
    "ExecuteTime": {
     "end_time": "2024-11-01T13:43:20.300284Z",
     "start_time": "2024-11-01T13:43:20.293867Z"
    }
   },
   "outputs": [],
   "source": [
    "import os\n",
    "\n",
    "os.environ[\"OPENAI_API_KEY\"] = \"sk-***********\""
   ]
  },
  {
   "cell_type": "markdown",
   "metadata": {
    "id": "aJcCzQhODIv8"
   },
   "source": [
    "## Initialize OpenAI client and Milvus\n",
    "Initialize the OpenAI client."
   ]
  },
  {
   "cell_type": "code",
   "execution_count": 4,
   "metadata": {
    "id": "aBOi2mvKDIv8",
    "ExecuteTime": {
     "end_time": "2024-11-01T13:43:22.003864Z",
     "start_time": "2024-11-01T13:43:21.686744Z"
    }
   },
   "outputs": [],
   "source": [
    "from openai import OpenAI\n",
    "\n",
    "openai_client = OpenAI()"
   ]
  },
  {
   "cell_type": "markdown",
   "metadata": {
    "id": "9IO_ts7pDIv8"
   },
   "source": [
    "Set the collection name and dimension for the embeddings."
   ]
  },
  {
   "cell_type": "code",
   "execution_count": 5,
   "metadata": {
    "id": "4rXlQ29MDIv8",
    "ExecuteTime": {
     "end_time": "2024-11-01T13:43:23.240858Z",
     "start_time": "2024-11-01T13:43:23.218542Z"
    }
   },
   "outputs": [],
   "source": [
    "COLLECTION_NAME = \"book_search\"\n",
    "DIMENSION = 1536\n",
    "\n",
    "BATCH_SIZE = 1000"
   ]
  },
  {
   "cell_type": "markdown",
   "metadata": {
    "id": "OHuz5DtVDIv8"
   },
   "source": [
    "Connect to Milvus."
   ]
  },
  {
   "cell_type": "code",
   "execution_count": 6,
   "metadata": {
    "id": "VUXhaRtQDIv8",
    "colab": {
     "base_uri": "https://localhost:8080/"
    },
    "outputId": "5c20f4d3-c480-46d9-f9e2-a1879c24872a",
    "ExecuteTime": {
     "end_time": "2024-11-01T13:43:26.564980Z",
     "start_time": "2024-11-01T13:43:24.240975Z"
    }
   },
   "outputs": [],
   "source": [
    "from pymilvus import MilvusClient\n",
    "\n",
    "# Connect to Milvus Database\n",
    "client = MilvusClient(\"./milvus_demo.db\")"
   ]
  },
  {
   "cell_type": "markdown",
   "metadata": {
    "id": "U8es09T2DIv8"
   },
   "source": [
    "> As for the argument of `url` and `token`:\n",
    "> - Setting the `uri` as a local file, e.g.`./milvus.db`, is the most convenient method, as it automatically utilizes [Milvus Lite](https://milvus.io/docs/milvus_lite.md) to store all data in this file.\n",
    "> - If you have large scale of data, say more than a million vectors, you can set up a more performant Milvus server on [Docker or Kubernetes](https://milvus.io/docs/quickstart.md). In this setup, please use the server address and port as your uri, e.g.`http://localhost:19530`. If you enable the authentication feature on Milvus, use \"<your_username>:<your_password>\" as the token, otherwise don't set the token.\n",
    "> - If you want to use [Zilliz Cloud](https://zilliz.com/cloud), the fully managed cloud service for Milvus, adjust the `uri` and `token`, which correspond to the [Public Endpoint and Api key](https://docs.zilliz.com/docs/on-zilliz-cloud-console#free-cluster-details) in Zilliz Cloud."
   ]
  },
  {
   "cell_type": "code",
   "execution_count": 5,
   "metadata": {
    "ExecuteTime": {
     "end_time": "2024-10-28T02:52:32.123914Z",
     "start_time": "2024-10-28T02:52:32.116018Z"
    },
    "id": "eaBFyWQPDIv8"
   },
   "outputs": [],
   "source": [
    "# Remove collection if it already exists\n",
    "if client.has_collection(COLLECTION_NAME):\n",
    "    client.drop_collection(COLLECTION_NAME)"
   ]
  },
  {
   "cell_type": "markdown",
   "metadata": {
    "id": "rmt5EIn8DIv8"
   },
   "source": [
    "Define the fields for the collection, which include the id, title, description, and embedding."
   ]
  },
  {
   "cell_type": "code",
   "execution_count": null,
   "metadata": {
    "id": "xf5YMsDmDIv8",
    "colab": {
     "base_uri": "https://localhost:8080/"
    },
    "outputId": "d3b327c8-c0ad-44d9-a57a-96d9be765a7f"
   },
   "outputs": [],
   "source": [
    "from pymilvus import DataType\n",
    "\n",
    "# Create collection which includes the id, title, description, and embedding.\n",
    "\n",
    "# 1. Create schema\n",
    "schema = MilvusClient.create_schema(\n",
    "    auto_id=True,\n",
    "    enable_dynamic_field=False,\n",
    ")\n",
    "\n",
    "# 2. Add fields to schema\n",
    "schema.add_field(field_name=\"id\", datatype=DataType.INT64, is_primary=True)\n",
    "schema.add_field(field_name=\"title\", datatype=DataType.VARCHAR, max_length=64000)\n",
    "schema.add_field(field_name=\"description\", datatype=DataType.VARCHAR, max_length=64000)\n",
    "schema.add_field(field_name=\"embedding\", datatype=DataType.FLOAT_VECTOR, dim=DIMENSION)\n",
    "\n",
    "# 3. Create collection with the schema\n",
    "client.create_collection(collection_name=COLLECTION_NAME, schema=schema)"
   ]
  },
  {
   "cell_type": "markdown",
   "metadata": {
    "id": "5Ch-2J5CDIv8"
   },
   "source": [
    "Create the index on the collection and load it."
   ]
  },
  {
   "cell_type": "code",
   "execution_count": null,
   "metadata": {
    "id": "K9fwi332DIv8",
    "colab": {
     "base_uri": "https://localhost:8080/"
    },
    "outputId": "9a3cc8f6-e9c0-427f-b820-b545f5b29137"
   },
   "outputs": [],
   "source": [
    "# Create the index on the collection and load it.\n",
    "\n",
    "# 1. Prepare index parameters\n",
    "index_params = client.prepare_index_params()\n",
    "\n",
    "\n",
    "# 2. Add an index on the embedding field\n",
    "index_params.add_index(\n",
    "    field_name=\"embedding\",\n",
    "    metric_type=\"L2\",\n",
    "    index_type=\"HNSW\",\n",
    "    params={\"M\": 8, \"efConstruction\": 64},\n",
    ")\n",
    "\n",
    "\n",
    "# 3. Create index\n",
    "client.create_index(collection_name=COLLECTION_NAME, index_params=index_params)\n",
    "\n",
    "\n",
    "# 4. Load collection\n",
    "client.load_collection(collection_name=COLLECTION_NAME, replica_number=1)"
   ]
  },
  {
   "cell_type": "markdown",
   "metadata": {
    "id": "uAlAcvbIudz7"
   },
   "source": [
    "## Dataset\n",
    "With Milvus up and running we can begin grabbing our data. Hugging Face Datasets is a hub that holds many different user datasets, and for this example we are using Skelebor's book dataset. This dataset contains title-description pairs for over 1 million books. To keep the demonstration efficient, we will be working with a smaller subset of this dataset. We are going to embed each description and store it within Milvus along with its title."
   ]
  },
  {
   "cell_type": "code",
   "execution_count": null,
   "metadata": {
    "id": "Kku-oYcOudz7",
    "colab": {
     "base_uri": "https://localhost:8080/"
    },
    "outputId": "c753d490-7fcc-4d09-ca46-d4deb80057cd"
   },
   "outputs": [],
   "source": [
    "import datasets\n",
    "\n",
    "# Download the dataset and only use the `train` portion\n",
    "dataset = datasets.load_dataset(\n",
    "    \"Skelebor/book_titles_and_descriptions_en_clean\", split=\"train\"\n",
    ")\n",
    "\n",
    "# Shuffle and select a subset of 10,000 entries\n",
    "dataset = dataset.shuffle(seed=42).select(range(10000))"
   ]
  },
  {
   "cell_type": "markdown",
   "metadata": {
    "id": "00Hjlzgzudz7"
   },
   "source": [
    "## Insert the Data\n",
    "Now that we have our data on our machine we can begin embedding it and inserting it into Milvus. The embedding function takes in text and returns the embeddings in a list format."
   ]
  },
  {
   "cell_type": "code",
   "execution_count": 9,
   "metadata": {
    "id": "kioMXVIrudz7"
   },
   "outputs": [],
   "source": [
    "# Simple function that converts the texts to embeddings\n",
    "def emb_texts(texts):\n",
    "    res = openai_client.embeddings.create(input=texts, model=\"text-embedding-3-small\")\n",
    "    return [res_data.embedding for res_data in res.data]"
   ]
  },
  {
   "cell_type": "markdown",
   "metadata": {
    "id": "1JYeTdp7udz7"
   },
   "source": [
    "This next step does the actual inserting. We iterate through all the entries and create batches that we insert once we hit our set batch size. After the loop is over we insert the last remaning batch if it exists."
   ]
  },
  {
   "cell_type": "code",
   "execution_count": 10,
   "metadata": {
    "colab": {
     "base_uri": "https://localhost:8080/"
    },
    "id": "c2-C0uDQudz7",
    "outputId": "60ca7079-2ea6-4a9e-b86b-ef88d638e394"
   },
   "outputs": [
    {
     "output_type": "stream",
     "name": "stderr",
     "text": [
      "100%|██████████| 10000/10000 [01:09<00:00, 144.77it/s]\n"
     ]
    }
   ],
   "source": [
    "from tqdm import tqdm\n",
    "\n",
    "# batch (data to be inserted) is a list of dictionaries\n",
    "batch = []\n",
    "\n",
    "# Embed and insert in batches\n",
    "for i in tqdm(range(0, len(dataset))):\n",
    "    batch.append(\n",
    "        {\n",
    "            \"title\": dataset[i][\"title\"] or \"\",\n",
    "            \"description\": dataset[i][\"description\"] or \"\",\n",
    "        }\n",
    "    )\n",
    "\n",
    "    if len(batch) % BATCH_SIZE == 0 or i == len(dataset) - 1:\n",
    "        embeddings = emb_texts([item[\"description\"] for item in batch])\n",
    "\n",
    "        for item, emb in zip(batch, embeddings):\n",
    "            item[\"embedding\"] = emb\n",
    "\n",
    "        client.insert(collection_name=COLLECTION_NAME, data=batch)\n",
    "        batch = []"
   ]
  },
  {
   "cell_type": "markdown",
   "metadata": {
    "id": "rqEozGWHudz7"
   },
   "source": [
    "## Query the Database\n",
    "With our data safely inserted in Milvus, we can now perform a query. The query takes in a string or a list of strings and searches them. The resuts print out your provided description and the results that include the result score, the result title, and the result book description.\n",
    "\n"
   ]
  },
  {
   "cell_type": "code",
   "execution_count": 15,
   "metadata": {
    "id": "VpILOh_Mudz7",
    "colab": {
     "base_uri": "https://localhost:8080/"
    },
    "outputId": "cec5056d-6329-4e68-fbf6-ad50f85168e0"
   },
   "outputs": [
    {
     "output_type": "stream",
     "name": "stdout",
     "text": [
      "Description: Book about a k-9 from europe\n",
      "Results:\n",
      "\tRank: 1 Score: 1.086188554763794 Title: The Purloined Poodle (The Iron Druid Chronicles, #8.5)\n",
      "Thanks to his relationship with the ancient Druid Atticus O'Sullivan, Oberon the Irish\n",
      "wolfhound knows trouble when he smells it--and furthermore, he knows he can handle it.\n",
      "When he discovers that a prizewinning poodle has been abducted in Eugene, Oregon, he\n",
      "learns that it's part of a rash of hound abductions all over the Pacific Northwest.\n",
      "Since the police aren't too worried about dogs they assume have run away, Oberon knows\n",
      "it's up to him to track down those hounds and reunite them with their humans. For\n",
      "justice! And gravy! Engaging the services of his faithful Druid, Oberon must travel\n",
      "throughout Oregon and Washington to question a man with a huge salami, thwart the plans\n",
      "of diabolical squirrels, and avoid, at all costs, a fight with a great big bear. But if\n",
      "he's going to solve the case of the Purloined Poodle, Oberon will have to recruit the\n",
      "help of a Boston terrier named Starbuck, survive the vegetables in a hipster pot pie,\n",
      "and firmly refuse to be distracted by fire hydrants and rabbits hiding in the rose\n",
      "bushes. At the end of the day, will it be a sad bowl of dry kibble for the world's\n",
      "finest hound detective, or will everything be coming up sirloins? The Purloined Poodle\n",
      "is another exciting novella entry in Kevin Hearne's New York Times best-selling Iron\n",
      "Druid series.\n",
      "\n",
      "\tRank: 2 Score: 1.1287219524383545 Title: Thereby Hangs a Tail (Chet and Bernie Series #2)\n",
      "9 hours, 27 minutes In the irresistible second Chet and Bernie mystery, Chet gets a\n",
      "glimpse of the show dog world turned deadly.What first seems like a walk in the park to\n",
      "wise and lovable canine narrator Chet and his human companion Bernie--to investigate\n",
      "threats made against a pretty, pampered show dog--turns into a serious case when\n",
      "Princess and her owner are abducted. To make matters worse, Bernie's on-again, off-again\n",
      "girlfriend, reporter Susie Sanchez, disappears too. When Chet is separated from Bernie,\n",
      "he's on his own to put the pieces together, find his way home, and save the day. Spencer\n",
      "Quinn's \"brilliantly original\" (Richmond Times-Dispatch) and \"masterful\" (Los Angeles\n",
      "Times) new series combines genuine suspense and intrigue with humor and insight for a\n",
      "tail-wagging good time readers won't soon forget.\n",
      "\n",
      "\tRank: 3 Score: 1.1367161273956299 Title: The Book of the Dog\n",
      "Featuring all kinds of dogs big, small, graceful, cute, funny The Book of the Dog is a\n",
      "cool and quirky collection of dog art and illustration by artists around the world.\n",
      "Interspersed through the illustrations are short texts about the artists and different\n",
      "breeds, paying homage to man's best friend. Beautifully designed and packaged, the book\n",
      "will appeal to dog lovers of all ages.\n",
      "\n",
      "\tRank: 4 Score: 1.1368114948272705 Title: The Badness of King George\n",
      "Judith Summers' life is about to change dramatically. Her five-year relationship with\n",
      "her on-off boyfriend has finally ended. Her son, Joshua, is off to university, and for\n",
      "the first time since her husband died she's living alone. Well, not entirely alone. She\n",
      "still has George, her King Charles Spaniel. Judith knows she needs a new challenge. But\n",
      "how free can she ever be with George in tow? He is, of course, immensely lovely. But\n",
      "he's also spoilt, lazy, and prone to flouncing around the house like a fluffed-up diva.\n",
      "But then, during a chance encounter , Judith finds out about Many Tears, a dog rescue\n",
      "centre. Before she knows it, she has joined a nationwide network of canine foster\n",
      "carers. Far from having Judith all to himself, George suddenly finds he has to share his\n",
      "owner with lots of other less fortunate dogs. And he's finding adjusting to this new way\n",
      "of life a bit of a challenge...\n",
      "\n",
      "\tRank: 5 Score: 1.1388386487960815 Title: DogTown: Tales of Rescue, Rehabilitation, and Redemption\n",
      "From Marley and Meto Temple Grandin's groundbreaking books to Cesar Millan's television\n",
      "show, America's many millions of pet owners eagerly seek new insights into animal\n",
      "behavior, and one of the most popular sources of compelling stories and practical advice\n",
      "is DogTown,the National Geographic Channel's latest hit show. A national rescue\n",
      "organization with more than 200,000 members, DogTown is the area where dogs live at the\n",
      "nation's largest companion animal sanctuary run by Best Friends Animal Society. This\n",
      "informative, inspiring book presents representative stories of dogs considered\n",
      "unadoptable by other shelters. They come from many backgrounds: some were abandoned;\n",
      "some prowled the streets as strays; others suffer from mysterious illnesses, serious\n",
      "injuries, or antisocial behaviors that discourage potential adopters. But good fortune\n",
      "led them to Best Friends and the dedicated people devoted to helping them recover and\n",
      "find welcoming homes. These compelling, winningly illustrated true stories, each\n",
      "uniquely moving and inspirational, draw upon the experience of veterinarians, trainers,\n",
      "and volunteers to probe a range of tough, touching cases that evoke both the joy and the\n",
      "occasional but inevitable heartbreak that accompanies this work. Each chapter follows a\n",
      "dog from the first day at Dogtown until he ultimately finds (or doesn't find) a\n",
      "permanent new home, focusing both on the relationship between the dog and the Dogtown\n",
      "staff and on the latest discoveries about animal health and behavior. We learn how dogs\n",
      "process information, how trauma affects their behavior, and how people can help them\n",
      "overcome their problems. In the end, we come to see that there are no \"bad dogs\" and\n",
      "that with patience, care, and compassion, people can help dogs to heal.\n"
     ]
    }
   ],
   "source": [
    "import textwrap\n",
    "\n",
    "\n",
    "def query(queries, top_k=5):\n",
    "    res = client.search(\n",
    "        collection_name=COLLECTION_NAME,\n",
    "        data=emb_texts(queries),\n",
    "        limit=top_k,\n",
    "        output_fields=[\"title\", \"description\"],\n",
    "        search_params={\n",
    "            \"metric_type\": \"L2\",\n",
    "            \"params\": {\"ef\": 64},\n",
    "        },\n",
    "    )\n",
    "    print(\"Description:\", queries)\n",
    "\n",
    "    for hit_group in res:\n",
    "        print(\"Results:\")\n",
    "        for rank, hit in enumerate(hit_group, start=1):\n",
    "            entity = hit[\"entity\"]\n",
    "\n",
    "            print(\n",
    "                f\"\\tRank: {rank} Score: {hit['distance']:} Title: {entity.get('title', '')}\"\n",
    "            )\n",
    "            description = entity.get(\"description\", \"\")\n",
    "            print(textwrap.fill(description, width=88))\n",
    "            print()\n",
    "\n",
    "\n",
    "query(\"Book about a k-9 from europe\")"
   ]
  }
 ],
 "metadata": {
  "kernelspec": {
   "display_name": "haystack",
   "language": "python",
   "name": "python3"
  },
  "language_info": {
   "codemirror_mode": {
    "name": "ipython",
    "version": 3
   },
   "file_extension": ".py",
   "mimetype": "text/x-python",
   "name": "python",
   "nbconvert_exporter": "python",
   "pygments_lexer": "ipython3",
   "version": "3.9.16"
  },
  "orig_nbformat": 4,
  "colab": {
   "provenance": []
  }
 },
 "nbformat": 4,
 "nbformat_minor": 0
}
