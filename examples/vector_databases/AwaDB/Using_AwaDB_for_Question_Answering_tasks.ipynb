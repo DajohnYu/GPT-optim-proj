{
 "cells": [
  {
   "cell_type": "markdown",
   "id": "4c80dbb1",
   "metadata": {},
   "source": [
    "# Using AwaDB as a Vector database for Question Answering tasks\n",
    "\n",
    "This notebook is an example for how you can use AwaDB as the vector database to save embedding gained from OpenAI Embedding. Then use GPT and embedding-based search to do question answering tasks\n",
    "\n",
    "We will provide an end-to-end workflow example to illustrate the entire process.\n",
    "\n",
    "1. Text Preprocessing\n",
    "2. Embedding\n",
    "3. Vector Store\n",
    "4. Similarity Search\n",
    "5. Question Answering\n",
    "\n",
    "```mermaid\n",
    "graph LR\n",
    "  A[Text Preprocessing] --> B[Embedding]\n",
    "  B --> C[Vector Store]\n",
    "  C --> D[Similarity Search]\n",
    "  D --> E[Question Answering]\n",
    "```\n",
    "\n",
    "## Install libraries\n",
    "The requirments for this sample is `openai` and `awadb` packages \n",
    "\n",
    "You can use `pip install awadb` and `pip install openai` to install them."
   ]
  },
  {
   "cell_type": "code",
   "execution_count": 1,
   "id": "c9904f07",
   "metadata": {},
   "outputs": [],
   "source": [
    "# Import necessary libraries\n",
    "\n",
    "try:\n",
    "    import openai\n",
    "    import awadb\n",
    "except ImportError as exc:\n",
    "    raise ImportError(\n",
    "        \"Could not import libraries. \"\n",
    "        \"Please install it with `pip install awadb` or `pip install openai`\"\n",
    "    ) from exc"
   ]
  },
  {
   "cell_type": "markdown",
   "id": "a1811c33",
   "metadata": {},
   "source": [
    "You also need to set your openai api key as environment variable before. You can find more information abou this by refering [Best Practices for API Key Safety\n",
    "](https://help.openai.com/en/articles/5112595-best-practices-for-api-key-safety) "
   ]
  },
  {
   "cell_type": "code",
   "execution_count": 2,
   "id": "671422b9",
   "metadata": {},
   "outputs": [],
   "source": [
    "import os\n",
    "import wget\n",
    "\n",
    "assert os.environ[\"OPENAI_API_KEY\"] != None"
   ]
  },
  {
   "cell_type": "markdown",
   "id": "70f0a06b",
   "metadata": {},
   "source": [
    "## Load Dataset\n",
    "\n",
    "We then need to load the dataset we are used in this example."
   ]
  },
  {
   "cell_type": "code",
   "execution_count": 3,
   "id": "fc442968",
   "metadata": {},
   "outputs": [
    {
     "name": "stdout",
     "output_type": "stream",
     "text": [
      "File already exists in the local file system.\n"
     ]
    }
   ],
   "source": [
    "embeddings_path = \"https://raw.githubusercontent.com/awa-ai/awadb/main/tests/state_of_the_union.txt\"\n",
    "file_path = \"state_of_the_union.txt\"\n",
    "\n",
    "if not os.path.exists(file_path):\n",
    "    wget.download(embeddings_path, file_path)\n",
    "    print(\"\\nFile downloaded successfully.\")\n",
    "else:\n",
    "    print(\"File already exists in the local file system.\")\n",
    "    \n",
    "# Load the data file\n",
    "from langchain.document_loaders import TextLoader\n",
    "loader = TextLoader(file_path)"
   ]
  },
  {
   "cell_type": "markdown",
   "id": "5c9a5289",
   "metadata": {},
   "source": [
    "### Split the text\n",
    "Then we are going to preprocessing the text. Briefly, we split the text data into chunks of size 100, with an overlap of size 10 between neighboring chunks.\n",
    "\n",
    "The choice of the two hyperparameters here is related to the average sentence length of your document. A basic logic is the need to ensure that each segmented phrase contains a complete semantic meaning and does not contain more than one semantic meaning."
   ]
  },
  {
   "cell_type": "code",
   "execution_count": 4,
   "id": "d26f92a0",
   "metadata": {},
   "outputs": [
    {
     "name": "stderr",
     "output_type": "stream",
     "text": [
      "Created a chunk of size 164, which is longer than the specified 100\n",
      "Created a chunk of size 169, which is longer than the specified 100\n",
      "Created a chunk of size 122, which is longer than the specified 100\n",
      "Created a chunk of size 121, which is longer than the specified 100\n",
      "Created a chunk of size 139, which is longer than the specified 100\n",
      "Created a chunk of size 181, which is longer than the specified 100\n",
      "Created a chunk of size 101, which is longer than the specified 100\n",
      "Created a chunk of size 113, which is longer than the specified 100\n",
      "Created a chunk of size 129, which is longer than the specified 100\n",
      "Created a chunk of size 146, which is longer than the specified 100\n",
      "Created a chunk of size 136, which is longer than the specified 100\n",
      "Created a chunk of size 189, which is longer than the specified 100\n",
      "Created a chunk of size 215, which is longer than the specified 100\n",
      "Created a chunk of size 124, which is longer than the specified 100\n",
      "Created a chunk of size 118, which is longer than the specified 100\n",
      "Created a chunk of size 129, which is longer than the specified 100\n",
      "Created a chunk of size 128, which is longer than the specified 100\n",
      "Created a chunk of size 114, which is longer than the specified 100\n",
      "Created a chunk of size 155, which is longer than the specified 100\n",
      "Created a chunk of size 232, which is longer than the specified 100\n",
      "Created a chunk of size 139, which is longer than the specified 100\n",
      "Created a chunk of size 163, which is longer than the specified 100\n",
      "Created a chunk of size 113, which is longer than the specified 100\n",
      "Created a chunk of size 109, which is longer than the specified 100\n",
      "Created a chunk of size 142, which is longer than the specified 100\n",
      "Created a chunk of size 178, which is longer than the specified 100\n",
      "Created a chunk of size 162, which is longer than the specified 100\n",
      "Created a chunk of size 138, which is longer than the specified 100\n",
      "Created a chunk of size 145, which is longer than the specified 100\n",
      "Created a chunk of size 173, which is longer than the specified 100\n",
      "Created a chunk of size 146, which is longer than the specified 100\n",
      "Created a chunk of size 190, which is longer than the specified 100\n",
      "Created a chunk of size 152, which is longer than the specified 100\n",
      "Created a chunk of size 172, which is longer than the specified 100\n",
      "Created a chunk of size 115, which is longer than the specified 100\n",
      "Created a chunk of size 128, which is longer than the specified 100\n",
      "Created a chunk of size 133, which is longer than the specified 100\n",
      "Created a chunk of size 242, which is longer than the specified 100\n",
      "Created a chunk of size 151, which is longer than the specified 100\n",
      "Created a chunk of size 129, which is longer than the specified 100\n",
      "Created a chunk of size 105, which is longer than the specified 100\n",
      "Created a chunk of size 103, which is longer than the specified 100\n",
      "Created a chunk of size 106, which is longer than the specified 100\n",
      "Created a chunk of size 138, which is longer than the specified 100\n",
      "Created a chunk of size 156, which is longer than the specified 100\n",
      "Created a chunk of size 103, which is longer than the specified 100\n",
      "Created a chunk of size 142, which is longer than the specified 100\n",
      "Created a chunk of size 185, which is longer than the specified 100\n",
      "Created a chunk of size 146, which is longer than the specified 100\n",
      "Created a chunk of size 219, which is longer than the specified 100\n",
      "Created a chunk of size 138, which is longer than the specified 100\n",
      "Created a chunk of size 173, which is longer than the specified 100\n",
      "Created a chunk of size 141, which is longer than the specified 100\n",
      "Created a chunk of size 106, which is longer than the specified 100\n",
      "Created a chunk of size 133, which is longer than the specified 100\n",
      "Created a chunk of size 108, which is longer than the specified 100\n",
      "Created a chunk of size 172, which is longer than the specified 100\n",
      "Created a chunk of size 120, which is longer than the specified 100\n",
      "Created a chunk of size 114, which is longer than the specified 100\n",
      "Created a chunk of size 304, which is longer than the specified 100\n",
      "Created a chunk of size 125, which is longer than the specified 100\n",
      "Created a chunk of size 128, which is longer than the specified 100\n",
      "Created a chunk of size 124, which is longer than the specified 100\n",
      "Created a chunk of size 138, which is longer than the specified 100\n",
      "Created a chunk of size 122, which is longer than the specified 100\n",
      "Created a chunk of size 175, which is longer than the specified 100\n",
      "Created a chunk of size 143, which is longer than the specified 100\n",
      "Created a chunk of size 137, which is longer than the specified 100\n",
      "Created a chunk of size 150, which is longer than the specified 100\n",
      "Created a chunk of size 137, which is longer than the specified 100\n",
      "Created a chunk of size 126, which is longer than the specified 100\n",
      "Created a chunk of size 116, which is longer than the specified 100\n",
      "Created a chunk of size 125, which is longer than the specified 100\n",
      "Created a chunk of size 123, which is longer than the specified 100\n",
      "Created a chunk of size 130, which is longer than the specified 100\n",
      "Created a chunk of size 143, which is longer than the specified 100\n",
      "Created a chunk of size 177, which is longer than the specified 100\n",
      "Created a chunk of size 116, which is longer than the specified 100\n",
      "Created a chunk of size 166, which is longer than the specified 100\n",
      "Created a chunk of size 159, which is longer than the specified 100\n",
      "Created a chunk of size 124, which is longer than the specified 100\n",
      "Created a chunk of size 107, which is longer than the specified 100\n",
      "Created a chunk of size 113, which is longer than the specified 100\n",
      "Created a chunk of size 109, which is longer than the specified 100\n",
      "Created a chunk of size 146, which is longer than the specified 100\n",
      "Created a chunk of size 148, which is longer than the specified 100\n",
      "Created a chunk of size 205, which is longer than the specified 100\n",
      "Created a chunk of size 332, which is longer than the specified 100\n",
      "Created a chunk of size 102, which is longer than the specified 100\n",
      "Created a chunk of size 114, which is longer than the specified 100\n",
      "Created a chunk of size 215, which is longer than the specified 100\n",
      "Created a chunk of size 135, which is longer than the specified 100\n",
      "Created a chunk of size 112, which is longer than the specified 100\n",
      "Created a chunk of size 127, which is longer than the specified 100\n",
      "Created a chunk of size 120, which is longer than the specified 100\n",
      "Created a chunk of size 167, which is longer than the specified 100\n",
      "Created a chunk of size 124, which is longer than the specified 100\n",
      "Created a chunk of size 169, which is longer than the specified 100\n",
      "Created a chunk of size 203, which is longer than the specified 100\n",
      "Created a chunk of size 122, which is longer than the specified 100\n",
      "Created a chunk of size 105, which is longer than the specified 100\n",
      "Created a chunk of size 103, which is longer than the specified 100\n",
      "Created a chunk of size 144, which is longer than the specified 100\n",
      "Created a chunk of size 111, which is longer than the specified 100\n",
      "Created a chunk of size 103, which is longer than the specified 100\n",
      "Created a chunk of size 117, which is longer than the specified 100\n",
      "Created a chunk of size 128, which is longer than the specified 100\n",
      "Created a chunk of size 174, which is longer than the specified 100\n",
      "Created a chunk of size 115, which is longer than the specified 100\n",
      "Created a chunk of size 186, which is longer than the specified 100\n",
      "Created a chunk of size 103, which is longer than the specified 100\n",
      "Created a chunk of size 181, which is longer than the specified 100\n",
      "Created a chunk of size 103, which is longer than the specified 100\n",
      "Created a chunk of size 167, which is longer than the specified 100\n",
      "Created a chunk of size 119, which is longer than the specified 100\n",
      "Created a chunk of size 104, which is longer than the specified 100\n",
      "Created a chunk of size 105, which is longer than the specified 100\n",
      "Created a chunk of size 123, which is longer than the specified 100\n",
      "Created a chunk of size 139, which is longer than the specified 100\n",
      "Created a chunk of size 175, which is longer than the specified 100\n",
      "Created a chunk of size 149, which is longer than the specified 100\n"
     ]
    },
    {
     "name": "stderr",
     "output_type": "stream",
     "text": [
      "Created a chunk of size 106, which is longer than the specified 100\n",
      "Created a chunk of size 141, which is longer than the specified 100\n",
      "Created a chunk of size 167, which is longer than the specified 100\n",
      "Created a chunk of size 165, which is longer than the specified 100\n",
      "Created a chunk of size 110, which is longer than the specified 100\n",
      "Created a chunk of size 128, which is longer than the specified 100\n",
      "Created a chunk of size 115, which is longer than the specified 100\n",
      "Created a chunk of size 106, which is longer than the specified 100\n",
      "Created a chunk of size 115, which is longer than the specified 100\n",
      "Created a chunk of size 127, which is longer than the specified 100\n",
      "Created a chunk of size 156, which is longer than the specified 100\n",
      "Created a chunk of size 118, which is longer than the specified 100\n",
      "Created a chunk of size 186, which is longer than the specified 100\n",
      "Created a chunk of size 119, which is longer than the specified 100\n",
      "Created a chunk of size 140, which is longer than the specified 100\n",
      "Created a chunk of size 111, which is longer than the specified 100\n",
      "Created a chunk of size 130, which is longer than the specified 100\n",
      "Created a chunk of size 142, which is longer than the specified 100\n",
      "Created a chunk of size 107, which is longer than the specified 100\n",
      "Created a chunk of size 184, which is longer than the specified 100\n",
      "Created a chunk of size 168, which is longer than the specified 100\n",
      "Created a chunk of size 101, which is longer than the specified 100\n",
      "Created a chunk of size 127, which is longer than the specified 100\n",
      "Created a chunk of size 281, which is longer than the specified 100\n",
      "Created a chunk of size 164, which is longer than the specified 100\n",
      "Created a chunk of size 178, which is longer than the specified 100\n",
      "Created a chunk of size 169, which is longer than the specified 100\n",
      "Created a chunk of size 106, which is longer than the specified 100\n",
      "Created a chunk of size 109, which is longer than the specified 100\n",
      "Created a chunk of size 113, which is longer than the specified 100\n",
      "Created a chunk of size 201, which is longer than the specified 100\n",
      "Created a chunk of size 250, which is longer than the specified 100\n",
      "Created a chunk of size 139, which is longer than the specified 100\n",
      "Created a chunk of size 192, which is longer than the specified 100\n",
      "Created a chunk of size 325, which is longer than the specified 100\n",
      "Created a chunk of size 107, which is longer than the specified 100\n",
      "Created a chunk of size 123, which is longer than the specified 100\n",
      "Created a chunk of size 132, which is longer than the specified 100\n",
      "Created a chunk of size 132, which is longer than the specified 100\n",
      "Created a chunk of size 147, which is longer than the specified 100\n",
      "Created a chunk of size 111, which is longer than the specified 100\n",
      "Created a chunk of size 101, which is longer than the specified 100\n",
      "Created a chunk of size 127, which is longer than the specified 100\n",
      "Created a chunk of size 120, which is longer than the specified 100\n",
      "Created a chunk of size 176, which is longer than the specified 100\n",
      "Created a chunk of size 177, which is longer than the specified 100\n",
      "Created a chunk of size 177, which is longer than the specified 100\n",
      "Created a chunk of size 242, which is longer than the specified 100\n",
      "Created a chunk of size 183, which is longer than the specified 100\n",
      "Created a chunk of size 103, which is longer than the specified 100\n",
      "Created a chunk of size 181, which is longer than the specified 100\n",
      "Created a chunk of size 137, which is longer than the specified 100\n",
      "Created a chunk of size 125, which is longer than the specified 100\n",
      "Created a chunk of size 107, which is longer than the specified 100\n",
      "Created a chunk of size 123, which is longer than the specified 100\n",
      "Created a chunk of size 110, which is longer than the specified 100\n",
      "Created a chunk of size 182, which is longer than the specified 100\n",
      "Created a chunk of size 152, which is longer than the specified 100\n",
      "Created a chunk of size 162, which is longer than the specified 100\n",
      "Created a chunk of size 146, which is longer than the specified 100\n",
      "Created a chunk of size 135, which is longer than the specified 100\n",
      "Created a chunk of size 153, which is longer than the specified 100\n",
      "Created a chunk of size 114, which is longer than the specified 100\n",
      "Created a chunk of size 140, which is longer than the specified 100\n",
      "Created a chunk of size 114, which is longer than the specified 100\n",
      "Created a chunk of size 109, which is longer than the specified 100\n",
      "Created a chunk of size 186, which is longer than the specified 100\n",
      "Created a chunk of size 123, which is longer than the specified 100\n",
      "Created a chunk of size 146, which is longer than the specified 100\n",
      "Created a chunk of size 101, which is longer than the specified 100\n",
      "Created a chunk of size 103, which is longer than the specified 100\n",
      "Created a chunk of size 132, which is longer than the specified 100\n",
      "Created a chunk of size 107, which is longer than the specified 100\n",
      "Created a chunk of size 103, which is longer than the specified 100\n",
      "Created a chunk of size 102, which is longer than the specified 100\n"
     ]
    },
    {
     "name": "stdout",
     "output_type": "stream",
     "text": [
      "documents:1\n",
      "split_docs size: 336\n"
     ]
    }
   ],
   "source": [
    "# Transform to document\n",
    "data = loader.load()\n",
    "print(f'documents:{len(data)}')\n",
    "\n",
    "# Initialize tex spilitter\n",
    "from langchain.text_splitter import CharacterTextSplitter\n",
    "text_splitter = CharacterTextSplitter(chunk_size=100, chunk_overlap=20)\n",
    "\n",
    "# Split the document\n",
    "split_docs = text_splitter.split_documents(data)\n",
    "print(\"split_docs size:\",len(split_docs))"
   ]
  },
  {
   "cell_type": "code",
   "execution_count": 5,
   "id": "741ce493",
   "metadata": {},
   "outputs": [],
   "source": [
    "from typing import Set\n",
    "\n",
    "# Save the embedded texts by Awadb\n",
    "texts = [text.page_content for text in split_docs]\n",
    "\n",
    "awadb_client = awadb.Client()\n",
    "awadb_client.Create(\"testdb1\")\n",
    "\n",
    "# Add the splitted texts into database\n",
    "awadb_client.AddTexts(\"embedding_text\", \"testdb1\", texts=texts)\n",
    "\n",
    "not_include_fields: Set[str] = {\"text_embedding\"}"
   ]
  },
  {
   "cell_type": "markdown",
   "id": "e6ff2153",
   "metadata": {},
   "source": [
    "### Set the question\n",
    "\n",
    "Use `awadb_client.Search` for similarity search"
   ]
  },
  {
   "cell_type": "code",
   "execution_count": 6,
   "id": "5410506c",
   "metadata": {
    "scrolled": true
   },
   "outputs": [
    {
     "name": "stdout",
     "output_type": "stream",
     "text": [
      "[{'ResultSize': 3, 'ResultItems': [{'testdb1': [0.003860166296362877, 0.05287330225110054, 0.04189165309071541, 0.013958923518657684, 0.008931133896112442, -0.004174927249550819, 0.03456006199121475, -0.011983185075223446, -0.019423844292759895, -0.008950561285018921, 0.014751210808753967, 0.00012077309656888247, -0.028799518942832947, 0.014195965602993965, 0.0028611551970243454, -0.014142422005534172, 0.05331096798181534, -0.02960740216076374, -0.03736810013651848, 0.012383769266307354, -0.012664074078202248, 0.003340320196002722, 0.011186112649738789, 0.003241416299715638, 0.056063853204250336, -0.017529955133795738, 0.028422176837921143, -0.014435794204473495, -0.06394178420305252, -0.010992028750479221, 0.05998272821307182, -0.017841048538684845, 0.009276899509131908, -0.05242784693837166, 1.4265939398683258e-06, -0.03983017057180405, 0.029982086271047592, -0.002376806689426303, 0.017949869856238365, -0.005107346456497908, 0.005001213867217302, -0.09216341376304626, 0.03330998495221138, 0.04494504630565643, 0.017906829714775085, -0.04774942249059677, -0.062075115740299225, 0.09009799361228943, 0.011285745538771152, -0.012253726832568645, 0.007545677945017815, -0.07041763514280319, 0.0024871136993169785, -0.046767402440309525, 0.01565948873758316, 0.05178069323301315, -0.0005474223871715367, 0.03848421201109886, 0.03181180730462074, 0.03913266211748123, 0.043264616280794144, -0.01677359640598297, -0.042464859783649445, 0.015205035917460918, 0.020662376657128334, -0.027908239513635635, 0.019922351464629173, -0.014467944391071796, 0.04742924124002457, 0.05540330335497856, -0.012354515492916107, -0.07386985421180725, 0.025995170697569847, 0.004574837163090706, 0.045697376132011414, 0.012400178238749504, 0.010924026370048523, -0.006798007991164923, -0.03463415056467056, -0.02601597085595131, -0.002774769440293312, -0.02515091374516487, 0.005519527941942215, 0.03408385440707207, 0.03263135254383087, 0.04098035767674446, -0.004464442376047373, -0.0703500509262085, -0.015326428227126598, 0.025429219007492065, 0.0004127755237277597, 0.010941887274384499, 0.014952915720641613, 0.005664858967065811, -0.04533274471759796, 0.0006667612469755113, 0.02592049166560173, -0.009165273979306221, 0.052636560052633286, -0.03549183905124664, -0.02327311411499977, 0.03279983624815941, 0.01653229258954525, 0.028572242707014084, -0.037022728472948074, 0.009566381573677063, 0.004727561958134174, 0.016416920349001884, -0.008442710153758526, 0.06425877660512924, -0.006405357737094164, 0.030963050201535225, -0.01187090016901493, -0.058060172945261, -0.03362495079636574, 0.015179156325757504, -0.0075617339462041855, 0.019108036532998085, -4.373021874926053e-05, -0.04003321751952171, 0.0051478734239935875, -0.02657560631632805, 0.009411540813744068, -0.018667710945010185, 0.09750567376613617, 0.02268461510539055, -0.013062791898846626, 0.033430732786655426, -0.03512653335928917, 0.03929992765188217, -0.007095086853951216, -0.022992778569459915, -0.02788562700152397, 0.043184008449316025, 0.032528918236494064, 0.012446017935872078, 0.007419786415994167, 0.02336253598332405, -0.044324468821287155, -0.02959268167614937, -0.042372509837150574, 0.04052288085222244, 0.03420143947005272, 0.010858760215342045, -0.022320788353681564, -0.08961399644613266, 0.035740941762924194, 0.004183826502412558, -0.043896134942770004, -0.011485994793474674, -0.04438123479485512, -0.0014098573010414839, 0.0001357133296551183, -0.013760355301201344, 0.0644320473074913, 0.06275290995836258, -0.03688347339630127, -0.006546702701598406, 0.0369131900370121, 0.0019860549364238977, 0.023784279823303223, -0.0002522367285564542, 0.0016731531359255314, -0.025041591376066208, 0.01342861820012331, -0.000481765775475651, -0.024304304271936417, -0.006170645821839571, -0.05312851443886757, -0.04506893455982208, -0.02346685528755188, 0.006163759157061577, -0.019570114091038704, -0.003759475890547037, -0.0026788911782205105, -0.015463260002434254, -0.09118490666151047, 0.006728250067681074, 0.007453311234712601, 0.01638885773718357, -0.017958518117666245, -0.04758216440677643, 0.03767740726470947, -0.029180899262428284, -0.025058161467313766, 0.02695329859852791, 0.03300471603870392, -0.014184367842972279, -0.01372766774147749, 0.0015461998991668224, 0.03896394744515419, -0.06849583238363266, 0.053496427834033966, 0.024950891733169556, -0.02121187560260296, -0.025306206196546555, 0.011040943674743176, -0.011911663226783276, -0.029994381591677666, -0.03049810603260994, -0.019632240757346153, -0.023626558482646942, -0.031048132106661797, 0.009942629374563694, -0.009575948119163513, -0.03524474799633026, -0.09134657680988312, -0.019265512004494667, -0.007717218715697527, 0.010613915510475636, 0.01712881773710251, 0.00996394082903862, 0.030196620151400566, -0.0006788224563933909, -0.007048774044960737, 0.008607014082372189, 0.028584230691194534, -0.04681416600942612, 0.034114938229322433, 0.026403585448861122, 0.018166212365031242, -0.0024707200936973095, -0.043306343257427216, -0.003601902863010764, 0.058445002883672714, -0.056915633380413055, 0.0017843121895566583, -0.0011596062686294317, 0.01685987040400505, -0.0072068204171955585, 0.03438951075077057, 0.026473870500922203, 0.013501433655619621, -0.007944912649691105, 0.02256007120013237, -0.011977878399193287, 0.06567306816577911, 0.09109942615032196, 0.049080751836299896, -0.013973006047308445, -0.036712896078825, 0.007601249497383833, -0.037296220660209656, 0.028536580502986908, 0.010558417066931725, 0.006015563849359751, 0.0003295131609775126, -0.0654086023569107, 0.026416024193167686, 0.020250756293535233, -0.062352992594242096, 0.00617294292896986, 0.014405207708477974, 0.007026340812444687, -0.024343229830265045, -0.02991294302046299, 0.012946817092597485, 0.030744578689336777, 0.043398417532444, -0.021625401452183723, 0.01763971336185932, -0.028938857838511467, 0.0029512851033359766, 0.04476700350642204, -0.03679467737674713, -0.03360621631145477, 0.027333403006196022, 0.03411558270454407, -0.014499600045382977, 0.020218750461935997, 0.007389327045530081, -0.043978869915008545, 0.004874468315392733, -0.020685747265815735, -0.05083359032869339, 0.04475555196404457, -0.06173469126224518, 0.002450981643050909, 0.057092707604169846, 0.011442081071436405, -0.01324368640780449, 0.015258111990988255, 0.02846694365143776, -0.005235503427684307, 0.0141787463799119, -0.029359817504882812, -0.001618042471818626, 0.012439514510333538, 0.03304402902722359, 0.013072292320430279, -0.008732084184885025, -0.0026127228047698736, 0.027424046769738197, -0.007238663733005524, 0.03962709754705429, 0.006711749825626612, -0.023975033313035965, 0.03681129217147827, 0.01347575057297945, 0.011938737705349922, 0.012427229434251785, 0.0271612498909235, -0.017887035384774208, -0.03361116722226143, 0.009509279392659664, 0.0028468866366893053, 0.07960938662290573, 0.09535951912403107, 0.04196863994002342, 0.02349417842924595, -0.029822541400790215, -0.00664661405608058, -0.004399561323225498, -0.00303474348038435, -0.011043226346373558, -0.04482199624180794, -0.03306649625301361, -0.08056533336639404, -0.06167309731245041, -0.01104331947863102, -0.0004187369777355343, 0.05659792944788933, -0.02893841080367565, 0.01169622503221035, 0.005203476641327143, 0.018926115706562996, 0.036968622356653214, -0.08389504253864288, -0.02803223580121994, 0.019191278144717216, 0.010413398034870625, 0.029659802094101906, 0.022229697555303574, 0.03583916649222374, 0.00045071987551636994, 0.038860023021698, -0.040378592908382416, -0.043545447289943695, -0.00460729980841279, 0.047800399363040924, -0.0028890979010611773, -0.05843929201364517, -0.009461803361773491, -0.03687791898846626, 0.03217754140496254, -0.014914453029632568, -0.03243974968791008, 0.017736714333295822, -0.059068430215120316, -0.05541675537824631, 0.044099848717451096, 0.023565011098980904, 0.022277284413576126, -0.04552952200174332, 0.0066572860814630985, -0.00415011215955019, 0.0414656326174736, -0.06442438066005707, -0.05714067444205284, -0.02371847815811634, -0.052332714200019836, 0.039134759455919266, -0.042271971702575684, -0.0166308656334877, -0.048231709748506546, 0.06131196394562721, 0.015139895491302013, 0.04122612997889519, -0.004361156839877367, 0.024541202932596207, 0.04726965352892876, 0.025581778958439827, 0.011814774014055729, 0.04048833250999451, 0.0063307317905128, 0.0348970890045166, 0.023980792611837387, 0.06333765387535095, 0.06041700020432472, -0.0073660085909068584, 0.034920770674943924, -0.025510305538773537, 0.016701331362128258, 0.01428231317549944, -0.00239385012537241, -0.005515366327017546, -0.021739095449447632, -0.014728633686900139, -0.04221467673778534, 0.025576405227184296, 0.01481433492153883, -0.005446525290608406, -0.008158925920724869, 0.06129196286201477, 0.011365947313606739, -0.04980327561497688, 0.03523899242281914, -0.014533817768096924, -0.03454629331827164, 0.0059553091414272785, 0.019188467413187027, -0.0541669987142086, -0.011591989547014236, -0.05929812043905258, -1.53991950355703e-05, 0.014116873033344746, 0.0541825108230114, -0.0035783483181148767, 0.06369206309318542, 0.02765491232275963, 0.037134040147066116, 0.07493303716182709, -0.04048791527748108, 0.03429999575018883, -0.056945838034152985, -0.020537298172712326, -0.007579098921269178, -0.014999205246567726, 0.05372527986764908, 0.056161124259233475, -0.10012918710708618, -0.011770734563469887, -0.012092957273125648, -0.04441698640584946, 0.01602102816104889, -0.036651451140642166, 0.0260915644466877, 0.0020706322975456715, 0.05502212420105934, 0.03871794417500496, 0.0005778340273536742, 0.07309824973344803, -0.04196896776556969, -0.04649638012051582, -0.1277579516172409, 0.03221071884036064, -0.042818471789360046, -0.027797067537903786, 0.013975662179291248, -0.03160317614674568, -0.00544879911467433, -0.04301093891263008, -0.056222103536129, 0.02035263366997242, -0.016946569085121155, -0.008401777595281601, 0.03519567847251892, 0.029444953426718712, -0.04315236210823059, -0.03674289956688881, -0.05838919058442116, 0.007834071293473244, 0.03171202540397644, -0.05703787878155708, 0.07660610228776932, -0.011492248624563217, 0.020268773660063744, 0.020033767446875572, -0.02804638259112835, 0.02269492857158184, 0.012585560791194439, 0.012593556195497513, -0.035256363451480865, 0.0010206535225734115, 0.0014227726496756077, 0.06123262271285057, 0.04195237532258034, -0.01164790615439415, -0.016033915802836418, 0.0444532185792923, -0.005657924804836512, 0.023524228483438492, -0.010967033915221691, 0.025711212307214737, 0.03129918873310089, 0.0062841977924108505, -0.04132336378097534, -0.08768387883901596, -0.010690596885979176, 0.00866349320858717, 0.01920524798333645, -0.06029503419995308, -0.04958315193653107, -0.027013739570975304, -0.003601997159421444, -0.037833794951438904, -0.04876168444752693, 0.044700659811496735, 0.0014786571264266968, 0.04305922985076904, 0.0001238952681887895, -0.003515100572258234, -0.05354389548301697, 0.00302770733833313, 0.03203340247273445, 0.0893966555595398, -0.014854890294373035, 0.026615412905812263, -0.06356687843799591, -0.010641821660101414, 0.014818624593317509, -0.008000594563782215, -0.04033937305212021, 0.05494578182697296, -0.047928232699632645, 0.012864455580711365, 0.014744715765118599, 0.03400441259145737, 0.04457531496882439, 0.09466872364282608, -0.02093524858355522, 0.09025893360376358, -0.03461574390530586, -0.036812134087085724, -0.044667940586805344, 0.09256582707166672, -0.09757659584283829, 0.0070938048884272575, -0.0111607750877738, 0.01408939715474844, 0.008029328659176826, -0.023097313940525055, 0.05690574273467064, -0.0457560271024704, -8.807374797470402e-06, -0.021974222734570503, 0.008949339389801025, 0.015541838482022285, -0.05581401288509369, -0.037819527089595795, -0.016144314780831337, 0.01078268513083458, 0.06915372610092163, 0.05591607838869095, -0.0380982868373394, -0.039026133716106415, -0.00983781274408102, 0.017105400562286377, -0.010111919604241848, 0.04721380025148392, -0.03509483113884926, 0.017658594995737076, 0.023754924535751343, 0.050862982869148254, 0.013242519460618496, 0.0962030366063118, -0.03836910426616669, -0.06872681528329849, -0.005379814654588699, -0.018747707828879356, 0.01142211351543665, 0.009131588973104954, -0.050584468990564346, -0.02840978465974331, 0.015362558886408806, -5.447792202029413e-33, -0.001596771297045052, 0.016220541670918465, 0.013188493438065052, -0.05218612775206566, -0.04406527057290077, -0.019126350060105324, -0.008498170413076878, -0.008870345540344715, -0.02677835524082184, 0.02346975728869438, -0.02294040471315384, -0.010123118758201599, 0.014852463267743587, -0.04300840198993683, 0.013513806276023388, -0.026379773393273354, 0.03225715458393097, 0.03041207045316696, 4.20830947405193e-05, 0.032063763588666916, -0.014990399591624737, -0.01867542788386345, -0.032626308500766754, 0.045153066515922546, -0.007502672262489796, 0.025688856840133667, -0.02565867267549038, -0.04508310183882713, -0.02064499631524086, 0.0467088520526886, -0.03100593015551567, -0.05307088792324066, 0.03735258802771568, -0.08989377319812775, -0.00477983895689249, 0.12125952541828156, 0.028148125857114792, 0.012109775096178055, 0.006986102554947138, -0.0307077057659626, 0.03929904103279114, -0.048528335988521576, 0.007499717175960541, -0.008868332952260971, -0.001309253042563796, -0.051023367792367935, -0.03452449291944504, -0.021753190085291862, -0.02625875733792782, 0.006604776252061129, -0.06417122483253479, -0.03335481882095337, 0.0010362504981458187, 0.046683140099048615, -0.024989983066916466, 0.06353640556335449, 0.012658925727009773, 0.00427445862442255, 0.008294546976685524, 0.0017998894909396768, -0.004707950633019209, 0.001784520922228694, -0.011834131553769112, -0.05130016803741455, -0.056252483278512955, 0.02278321422636509, -0.12630341947078705, -0.06578127294778824, 0.005638699512928724, 0.014837633818387985, 0.07965138554573059, 0.012881381437182426, 0.007301564794033766, 0.037926945835351944, 0.06993473321199417, 0.02868274413049221, -0.0349675714969635, 0.03377747908234596, -0.006709542125463486, 0.07876917719841003, -0.027957862243056297, 0.0027843944262713194, -0.039680954068899155, -0.003390603931620717, 0.05884697288274765, -0.014949486590921879, 0.0016014256980270147, 0.04919279366731644, -0.002196555957198143, 0.025277171283960342, -0.06257184594869614, 0.10830610990524292, 0.06279733777046204, -0.025851711630821228, 0.0032649454660713673, 0.02086455374956131, 0.019259369000792503, -0.016080988571047783, 0.0010143067920580506, -0.043590106070041656, -0.017215900123119354, 0.019330302253365517, 0.02895268052816391, -0.01983836479485035, 0.014041975140571594, 0.026382774114608765, -0.018111586570739746, -0.03390230983495712, -0.007115011103451252, -0.015235362574458122, -0.0278851930052042, 0.00947828870266676, 0.059135958552360535, 0.07589111477136612, -0.002759195864200592, 0.01814296655356884, 0.054320257157087326, -0.03450534865260124, 0.0033324917312711477, -0.10110858082771301, -0.0008726119995117188, 0.009827282279729843, 0.07324758172035217, 0.038090407848358154, -0.0052450839430093765, 0.019428862258791924, 0.009650168940424919, 0.0015515328850597143, 0.005806412547826767, -0.05374656990170479, 0.010029018856585026, -0.030997930094599724, 2.0273978407203685e-07, -0.023421689867973328, -0.04825940728187561, 0.0017531643388792872, -0.009857098571956158, -0.005805406719446182, 0.024533743038773537, 0.015054237097501755, 0.01704397425055504, 0.05575630068778992, -0.05530261993408203, 0.03949607536196709, -0.02983037568628788, 0.016240650787949562, -0.010419412516057491, -0.05550631508231163, -0.029161330312490463, -0.010637353174388409, -0.02129911072552204, -0.008855119347572327, 0.053792163729667664, 0.0576515793800354, -0.002223364543169737, -0.0053538065403699875, -0.0339915007352829, 0.019518330693244934, 0.005805976688861847, 0.0376020148396492, 0.02507711388170719, -0.017196349799633026, -0.013236293569207191, 0.0887981653213501, 0.028336750343441963, -0.010623762384057045, -0.011497882194817066, -0.041735272854566574, -0.047594670206308365, -0.07693694531917572, 0.04029013216495514, -0.001243475591763854, -0.02562641352415085, -0.05406656116247177, -0.0116179333999753, -0.09958098828792572, 0.022599641233682632, 0.03587303310632706, 0.023294616490602493, -0.0005765120731666684, -0.01814926229417324, -0.004222726449370384, 0.037093307822942734, -0.006214916706085205, 0.02463693730533123, -0.022106405347585678, -0.04537390172481537, 0.05317457392811775, -0.0021601931657642126, 0.0015015525277704, 0.011207611300051212, -0.006893816404044628, -0.019112098962068558, -0.02580370008945465, 0.018048759549856186, 0.00972496997565031, 0.05532749369740486, -0.025333382189273834, -0.026927664875984192, -0.01041664369404316, 1.1056366960160864e-34, -0.027070241048932076, -0.01779193803668022, 0.05362093821167946, -0.012599601410329342, -0.056794144213199615, 0.0024015260860323906, -0.05088742449879646, 0.007449370808899403, -0.009004434570670128, -0.036057248711586, 0.04523248225450516], 'embedding_text': 'Ban assault weapons and high-capacity magazines.', 'score': 0.6328362226486206}, {'testdb1': [-0.04629288613796234, 0.08412986248731613, 0.010834014974534512, -0.006936268415302038, -0.03940955549478531, 0.002918453421443701, 0.048342514783144, -0.0058284942060709, 0.0036340695805847645, -0.01997610554099083, 0.05461433529853821, 0.07576752454042435, 0.006539412308484316, -0.0059560807421803474, 0.036494527012109756, 0.02974439412355423, 0.038923803716897964, -0.003484703367576003, 0.025515828281641006, 0.01682191714644432, -0.042491234838962555, -0.015192321501672268, -0.021122543141245842, -0.02195260114967823, 0.05341300368309021, -0.013168338686227798, 0.052812982350587845, -0.04209088906645775, -0.029109003022313118, -0.018362652510404587, 0.061750903725624084, -7.721156725892797e-05, -0.005611342377960682, -0.02266659587621689, 1.3482996337188524e-06, -0.03941703587770462, 0.004473587963730097, -0.015594404190778732, 0.07289664447307587, 0.025807250291109085, -0.03228430822491646, 0.01566949486732483, -0.028626421466469765, 0.08659260720014572, 0.029798006638884544, -0.03813228756189346, -0.061553820967674255, 0.05839989706873894, -0.01312129944562912, 0.016271185129880905, 0.015496017411351204, -0.08627995103597641, -0.015581116080284119, -0.014216980896890163, -0.00907965563237667, -0.01164977066218853, 0.021114636212587357, 0.02236049249768257, 0.012755672447383404, -0.02593264915049076, 0.05247791111469269, 0.010299306362867355, -0.007582711521536112, 0.006941298022866249, 0.03244685381650925, -0.025178276002407074, 0.04523900896310806, 0.01717364601790905, 0.05247487872838974, 0.05808734521269798, 0.009845850989222527, -0.07761359959840775, -0.009956978261470795, -0.005942769814282656, 0.07055875658988953, -0.020377686247229576, -0.002458117436617613, 0.014779179356992245, -0.012362737208604813, -0.008403067477047443, 0.01656525954604149, 0.0030192837584763765, -0.03284194692969322, 0.021924233064055443, 0.047392603009939194, 0.010198752395808697, 0.012972934171557426, -0.03415275365114212, -0.03010866418480873, 0.0006360923289321363, 0.02302508056163788, 0.042820096015930176, 0.026949070394039154, -0.0015816353261470795, 0.014176197350025177, 0.06191302090883255, 0.016464998945593834, -0.004175691399723291, 0.03825462609529495, 0.003144589951261878, -0.05880635976791382, 0.026545250788331032, -0.03239996358752251, 0.01992429979145527, -0.06617484986782074, 0.0035552869085222483, -0.039076752960681915, -0.0067196921445429325, -0.021093381568789482, 0.07558546960353851, 0.02614750899374485, 0.018931768834590912, 0.019093535840511322, -0.029926208779215813, -0.08137082308530807, 0.02821844257414341, 0.05594873055815697, 0.007756814360618591, -0.05422378331422806, -0.020246807485818863, -0.059645988047122955, 0.005271920468658209, -0.007885958068072796, -0.03342314809560776, 0.028503060340881348, 0.027125317603349686, 0.013749082572758198, 0.016237879171967506, -0.04000072181224823, 0.03868921846151352, -0.0074066584929823875, -0.019184187054634094, -0.01933097094297409, 0.025277812033891678, 0.020543182268738747, 0.06140251085162163, -0.022568942978978157, 0.00031511386623606086, -0.04196237400174141, -0.02789362333714962, 0.005758191458880901, 0.03602560609579086, -0.00043754599755629897, -0.022957632318139076, -0.03933288902044296, -0.06961337476968765, 0.0016485701780766249, -0.060648780316114426, -0.01946384273469448, -0.013025639578700066, -0.0386401005089283, -0.009772911667823792, 0.014609945006668568, -0.022523080930113792, 0.05926426127552986, 0.05774332955479622, -0.03189213573932648, -0.030432013794779778, -0.0202866829931736, -0.015870044007897377, 0.036259617656469345, -0.003002376761287451, -0.028882239013910294, -0.008087178692221642, 0.025595614686608315, 0.03724004700779915, 0.038166504353284836, 0.017464162781834602, -0.013490274548530579, -0.004337407182902098, -0.02416827529668808, -0.023453576490283012, -0.022368349134922028, -0.01947983168065548, 0.02514537051320076, 0.02192484773695469, -0.07779606431722641, -0.008089050650596619, -0.05098533630371094, -0.011892448179423809, -0.05220996215939522, -0.054227642714977264, 0.04353959485888481, -0.030858054757118225, -0.11024586856365204, 0.002871718490496278, -0.00943030882626772, -0.04226916283369064, -0.05209305137395859, 0.020651856437325478, 0.010066928341984749, -0.033502764999866486, 0.055401500314474106, 0.030359720811247826, -0.017955901101231575, 0.0342089980840683, -0.017187979072332382, 0.022405460476875305, -0.0233710128813982, -0.016304994001984596, -0.01468091644346714, -0.001248626154847443, -0.021891683340072632, -0.0004038067418150604, 0.005345919635146856, -0.01425082329660654, -0.07883711904287338, -0.022422397509217262, -0.023561425507068634, 0.026793096214532852, 0.027409767732024193, -0.020717859268188477, 0.02122431807219982, 0.017426589503884315, 0.004294938407838345, -0.02034742943942547, 0.026126092299818993, 0.0484018437564373, -0.00245896284468472, -0.014475591480731964, -0.008592555299401283, 0.007808936294168234, 0.055860720574855804, -0.0056811049580574036, 0.004601342603564262, -0.0541687086224556, -0.018405428156256676, -0.014283204451203346, -0.005447874777019024, -0.004422803409397602, 0.011508774943649769, 0.01812225580215454, 0.006192412227392197, 0.02106590010225773, -0.018542198464274406, 0.022653240710496902, 0.08062070608139038, 0.01599068194627762, 0.014070108532905579, -0.01580815576016903, -0.03686561807990074, 0.0005187771748751402, -0.02295384369790554, 0.019055619835853577, -0.004648475907742977, 0.021001581102609634, -0.014328435994684696, -0.033544138073921204, 0.002819564426317811, 0.000866802642121911, -0.07213666290044785, 0.010333613492548466, 0.014466550201177597, 0.03418536111712456, -0.02672138437628746, -0.039995789527893066, 0.027242938056588173, -0.008862252347171307, -0.025456981733441353, 0.025212110951542854, 0.053204141557216644, -0.04233888164162636, -0.02889300137758255, 0.033749036490917206, -0.03142404928803444, -0.06494010239839554, 0.055618442595005035, 0.04281030222773552, 0.026676654815673828, 0.014103041030466557, -0.05125363543629646, -0.039307285100221634, -0.009386599995195866, -0.0019945979584008455, -0.06150171533226967, 0.029016626998782158, -0.0663355216383934, 0.012955514714121819, 0.047044768929481506, 0.004209260921925306, -0.04449872672557831, -0.03328018635511398, 0.023744411766529083, -0.003295145696029067, 0.008054488338530064, -0.05156553164124489, 0.017489183694124222, 0.027251724153757095, -0.028391193598508835, 0.06105794012546539, 0.003470954019576311, -0.011307688429951668, 0.049143847078084946, -0.03461351990699768, 0.0005541412392631173, 0.026411401107907295, -0.07523328810930252, 0.032774098217487335, -0.006513525266200304, 0.022753475233912468, -0.02075415849685669, 0.02361762337386608, 0.006741800811141729, -0.013461459428071976, -0.008321568369865417, -0.01004647184163332, 0.06329569965600967, 0.08702731132507324, -0.0008679326274432242, 0.013621261343359947, 0.00011990970961051062, -0.009388544596731663, -0.020862404257059097, -0.02363102324306965, -0.004503180272877216, -0.008817624300718307, 0.0024207760579884052, -0.05499214679002762, -0.016438467428088188, 0.017802733927965164, 0.0004880302003584802, 0.018711617216467857, -0.0227005984634161, 0.05250000208616257, 0.035010334104299545, -0.010670669376850128, 0.06264586746692657, -0.0575813427567482, 0.06052533909678459, -0.022401724010705948, -0.04184224084019661, 0.016455886885523796, -0.023149749264121056, 0.06781478971242905, 0.012736069038510323, 0.07683107256889343, -0.008899565786123276, -0.00705512473359704, -0.05883372575044632, 0.027196776121854782, 0.003624256467446685, -0.03582782670855522, -0.007306113373488188, -0.032219380140304565, 0.043061137199401855, 0.008027448318898678, -0.041627187281847, 0.023415302857756615, -0.018836770206689835, -0.06078983098268509, 0.011806516908109188, -0.003203477244824171, 0.021840307861566544, -0.009526033885776997, 0.025330008938908577, 0.046353720128536224, -0.03383861482143402, -0.06730147451162338, -0.02908538095653057, -0.012751337140798569, 0.03299088031053543, 0.004375815857201815, 0.06673017889261246, 0.025654921308159828, -0.01931827887892723, 0.015396044589579105, -0.014549066312611103, 0.029524510726332664, 0.01170817669481039, 0.0037908952217549086, 0.025417093187570572, 0.05910586938261986, 0.03374466300010681, -0.005444839131087065, -0.02403656393289566, 0.0860198438167572, 0.03759795427322388, 0.0666414350271225, 0.012014996260404587, 0.006506087724119425, 0.019016241654753685, -0.04947720095515251, 0.017611509189009666, 0.014498929493129253, -0.029465623199939728, 0.02450140379369259, -0.009145444259047508, -0.010550787672400475, -0.05253661051392555, 0.06510225683450699, 0.017346741631627083, 0.0015489092329517007, 0.035774193704128265, 0.03329945728182793, 0.01948663964867592, -0.029241641983389854, 0.05190300941467285, 0.01017946470528841, -0.010173212736845016, -0.0024763725232332945, 0.026493782177567482, -0.016699692234396935, 0.022967472672462463, -0.007650896906852722, 0.02221660315990448, 0.005497484467923641, 0.06778552383184433, -0.006233713589608669, 0.05994352698326111, 0.049246352165937424, 0.027379266917705536, -0.03541244566440582, -0.012579350732266903, 0.02470891922712326, 0.04223896935582161, -0.0031885586213320494, 0.011857000179588795, 0.005368852522224188, 0.03206837922334671, 0.03546873852610588, -0.08185700327157974, -0.0033719991333782673, -0.03493569418787956, -0.062061235308647156, 0.05555398389697075, 0.007909316569566727, 0.002057594247162342, -0.03729739785194397, 0.021506857126951218, -0.004329937510192394, -0.0016511483117938042, 0.013017510063946247, -0.04428361356258392, -0.06830843538045883, -0.10360727459192276, 0.03481568396091461, -0.05968466401100159, -0.02941083535552025, -0.033912960439920425, -0.05421420559287071, -0.005941484123468399, -0.005346863996237516, -0.03054075688123703, 8.79277940839529e-05, 0.017367785796523094, -0.01464294083416462, 0.05586443096399307, 0.03923681750893593, -0.033652108162641525, -0.018184777349233627, -0.027437172830104828, 0.05754658952355385, -0.011071693152189255, -0.013381142169237137, 0.08620430529117584, -0.01459849625825882, -0.000805672025308013, 0.017495373263955116, -0.02541975863277912, 0.015992198139429092, -0.019524071365594864, 0.016832496970891953, 0.015790613368153572, -0.03575246036052704, -0.02065274305641651, 0.08093301206827164, 0.02669774368405342, -0.08535288274288177, -0.013641593046486378, 0.028936125338077545, -0.017324116080999374, 0.009026266634464264, -0.04911361262202263, 0.026982266455888748, -0.009725538082420826, 0.03874748572707176, -0.0068915183655917645, 0.02356387861073017, 0.022255970165133476, 0.021235106512904167, 0.049036964774131775, -0.020891977474093437, -0.014327817596495152, 0.033366430550813675, 0.023826926946640015, -0.00810733437538147, -0.036448538303375244, 0.024663170799613, 0.007407514378428459, 0.03432929143309593, 0.021189454942941666, -0.03508593514561653, -0.0665455311536789, 0.019772278144955635, 0.024001173675060272, 0.11975348740816116, -0.014017753303050995, 0.0646059587597847, -0.06573615968227386, -0.003100599395111203, 0.027961529791355133, -0.025524398311972618, -0.017340729013085365, 0.04883960634469986, 0.019962623715400696, 0.027454132214188576, 0.01890665851533413, 0.056209005415439606, 0.020896248519420624, 0.05829961597919464, -0.03780823573470116, 0.04665467143058777, -0.0462886318564415, -0.07705166935920715, -0.014925186522305012, 0.08781698346138, -0.036401569843292236, 0.00894198752939701, 0.019536100327968597, 0.0428842231631279, 0.001399120781570673, 0.011998459696769714, 0.00020832597510889173, -0.08079557120800018, -0.040088411420583725, -0.0034472844563424587, -0.004208975937217474, 0.04218381270766258, -0.05524352565407753, -0.0707051157951355, 0.026492832228541374, 0.0169068593531847, 0.0036284930538386106, 0.08188697695732117, -0.03545525670051575, -0.07217204570770264, 0.020414622500538826, -0.027788961306214333, 0.025828244164586067, -0.00574601162225008, -0.01783553883433342, 0.008634988218545914, -0.0063306428492069244, -0.00455311918631196, 0.02934722974896431, 0.056633446365594864, -0.022300351411104202, -0.032982517033815384, -0.008256065659224987, -0.022991212084889412, 0.0007313595269806683, 0.02882246859371662, -0.026223817840218544, -0.020241323858499527, -0.03254972770810127, -5.2881898238885014e-33, -0.010053141042590141, -0.002124854363501072, 0.011746590957045555, -0.011675752699375153, -0.010743871331214905, -0.023881077766418457, 0.004560875240713358, -0.036981403827667236, 0.00943228229880333, 0.006293741054832935, -0.040005989372730255, 0.019980305805802345, 0.017765121534466743, -0.020083937793970108, 0.02282767929136753, -0.03560040518641472, -0.006186836864799261, 0.018224960193037987, 0.024104340001940727, 0.07505708187818527, -0.06717503815889359, 0.0145908547565341, -0.03153011575341225, 0.024588996544480324, 0.04299988970160484, 0.05565959960222244, -0.03633735701441765, -0.06114630028605461, -0.05465919151902199, 0.0064347777515649796, 0.015521743334829807, -0.02078329585492611, 0.008812938816845417, -0.09299087524414062, 0.011529394425451756, 0.039578236639499664, -0.012718277983367443, -0.0237303227186203, -0.018949398770928383, -0.024065794423222542, 0.008804220706224442, -0.035205792635679245, -0.03686508908867836, -0.002931022783741355, -0.005371048115193844, -0.060381367802619934, -0.023158587515354156, -0.041732363402843475, 0.0106208436191082, 0.007257992867380381, -0.06021847203373909, -0.014945167116820812, 0.003330976702272892, 0.082779660820961, -0.020893236622214317, 0.04113518074154854, -0.01824619062244892, 0.02896524779498577, -0.023710573092103004, -0.019317690283060074, -0.026086004450917244, -0.03793862834572792, -0.002410867717117071, -0.042195577174425125, -0.01766912080347538, 0.01504686288535595, -0.08178213983774185, -0.02111736498773098, 0.044842712581157684, -0.019350722432136536, 0.018375840038061142, 0.03273020684719086, -0.015042118728160858, 0.06320162117481232, 0.02097555808722973, 0.008825695142149925, -0.0331745445728302, 0.0349402129650116, 0.023224536329507828, 0.04378332942724228, 0.013399806804955006, 0.02828592248260975, 0.0009804985020309687, -0.003234130097553134, -0.02561705745756626, -0.08595509827136993, -0.013610146939754486, 0.07299356162548065, 0.017996497452259064, 0.037027858197689056, -0.04181328043341637, 0.03643577918410301, 0.046914685517549515, 0.015711840242147446, 0.02483663521707058, -0.0025406298227608204, -0.010661529377102852, 0.005533043295145035, -0.01796409673988819, -0.061653006821870804, -0.03279707953333855, -0.004220531787723303, -0.01903407834470272, -0.014561549760401249, 0.029900219291448593, -0.021288981661200523, -0.010669670067727566, -0.031703345477581024, -0.037028390914201736, -0.011712057515978813, -0.013661577366292477, -0.012230195105075836, 0.03244432434439659, 0.06702106446027756, -0.010608334094285965, 0.04081759974360466, 0.0555848591029644, -0.030134975910186768, -0.007943307049572468, -0.09219115227460861, -0.04174542427062988, 0.045679833739995956, 0.01737716607749462, -0.013106719590723515, -0.059283547103405, 0.01914464868605137, 0.09819772839546204, -0.027007313445210457, 0.06273478269577026, -0.08624749630689621, 0.003210085444152355, -0.022850709035992622, 2.0582312743044895e-07, 0.005419129505753517, -0.051040809601545334, -0.01879178173840046, -0.006512185093015432, -0.0028038157615810633, 0.06077631935477257, 0.015738017857074738, 0.04648097604513168, 0.09183143824338913, -0.012628458440303802, 0.05719155818223953, -0.06676310300827026, 0.0013313560048118234, -0.03147302567958832, -0.03249474614858627, 0.04712352529168129, 0.05828944221138954, 0.02488088235259056, 0.011745504103600979, 0.01672907918691635, 0.050926145166158676, -0.01333503145724535, 0.06716775894165039, -0.003847412997856736, -0.016959035769104958, 0.06212973594665527, 0.04297742247581482, -0.06669982522726059, -0.01338310819119215, -0.025524461641907692, -0.02843945287168026, 0.050703272223472595, -0.03537163510918617, -0.017018085345625877, -0.058954205363988876, -0.03830431029200554, -0.09269294887781143, 0.04954583942890167, -0.0039403410628438, -0.03378574922680855, -0.03153880685567856, -0.04593687877058983, -0.038785625249147415, 0.028314348310232162, -0.020350415259599686, 0.03110477514564991, -0.014519494958221912, -0.041870031505823135, -0.029907090589404106, 0.052491091191768646, -0.04083298146724701, 0.04202859103679657, -0.01664314605295658, -0.05562114715576172, 0.033118195831775665, 0.0264850202947855, -0.01607464998960495, -0.02408045530319214, -0.010378020815551281, 0.038330078125, 0.006293642800301313, 0.031335316598415375, 0.001146597438491881, 0.08493709564208984, 0.023898478597402573, -0.0731407105922699, -0.006640115287154913, 1.1828159357534834e-34, -0.023124828934669495, -0.05853358656167984, 0.04765454679727554, 0.03123648837208748, -0.027996744960546494, -0.013788632117211819, -0.0266244038939476, 0.002209798898547888, -0.04389719292521477, -0.009992958977818489, 0.002475808607414365], 'embedding_text': 'Repeal the liability shield that makes gun manufacturers the only industry in America that can’t be sued.', 'score': 0.5295463800430298}, {'testdb1': [0.004067347850650549, 0.15300479531288147, -0.011483687907457352, 0.03333956003189087, -0.030729034915566444, -0.035747021436691284, -0.045739587396383286, -0.03132779151201248, 0.007980071008205414, -0.005129150114953518, 0.006044246256351471, 0.04762004688382149, 0.0014754222938790917, 0.0025357850827276707, -0.018977025523781776, -0.06244842708110809, 0.05737808719277382, -0.028344104066491127, -0.008597737178206444, -0.03039250522851944, 0.03310149163007736, 0.02603767067193985, 0.005056076217442751, -0.006442849989980459, -0.05986785888671875, -0.0038038103375583887, -0.019611530005931854, 0.00037896173307672143, -0.010849366895854473, 0.025182025507092476, 0.03380512818694115, -0.01007300429046154, -0.02895968034863472, -0.07162978500127792, 1.5509668855884229e-06, -0.026788800954818726, 0.028635678812861443, -0.029583610594272614, 0.002331844996660948, -0.04752597212791443, 0.00871956441551447, -0.11809306591749191, 0.005875274073332548, -0.02475806511938572, 0.007673301734030247, -0.023010753095149994, -0.031643178313970566, 0.081014484167099, 0.014471335336565971, -0.030140358954668045, 0.009053824469447136, -0.022398894652724266, -0.002450323197990656, 0.002190167782828212, -0.028266258537769318, 0.01864716038107872, 0.023760711774230003, -0.03796888142824173, -0.003927009645849466, -0.024909310042858124, 0.019138764590024948, 0.011225450783967972, -0.03560549020767212, 0.009516469202935696, 0.046746108680963516, 0.027856644243001938, 0.07166596502065659, 0.015809888020157814, -0.007735732942819595, 0.0005940522532910109, -0.009772267192602158, -0.03673805668950081, 0.004238758236169815, 0.022245565429329872, -0.005043023731559515, 0.0024698046036064625, -0.01982276886701584, -0.006951565388590097, -0.015163867734372616, -0.010870344005525112, -0.03243852034211159, 0.0010332928504794836, 0.02886154130101204, 0.04619985446333885, -0.016427993774414062, 0.03770468384027481, 0.011145557276904583, -0.023851532489061356, -0.059087201952934265, 0.04273771867156029, 0.018137525767087936, 0.007524601183831692, -0.026524245738983154, -0.0309950802475214, -0.020946035161614418, 0.022778363898396492, 0.022994188591837883, -0.009276478551328182, 0.0027824854478240013, 0.02054310403764248, -0.007273200899362564, 0.0034434108529239893, 0.006307993084192276, 0.04904120787978172, 0.03277444466948509, 0.00039150958764366806, 0.02047838270664215, 0.02657855488359928, -0.013715551234781742, -0.002716724993661046, 0.02542899176478386, 0.03440803289413452, 0.024227667599916458, 0.016140133142471313, 0.012625313363969326, 0.023427408188581467, 0.0543355830013752, -0.01875668577849865, -0.018726686015725136, -0.029757151380181313, 0.03345117345452309, -0.04002530500292778, 0.015810426324605942, 0.007667647674679756, 0.025531023740768433, 0.004783179610967636, -0.004669514950364828, 0.035401806235313416, -0.02829122729599476, 0.015635672956705093, -0.04714829847216606, 0.04868070036172867, -0.013503585010766983, 0.009575841017067432, -0.022788241505622864, -0.020833106711506844, -0.013021430000662804, 0.023247627541422844, 0.0488746277987957, -0.005039889365434647, -0.029726345092058182, 0.04839862138032913, 0.009021556936204433, -0.013510990887880325, 0.025614239275455475, -0.0517568439245224, 0.03595610707998276, 0.03719840571284294, -0.022260291501879692, -0.03182365372776985, -0.0052773128263652325, 0.0029567775782197714, -0.020671021193265915, -0.002274026395753026, 0.013763646595180035, 0.01630740612745285, -0.01896338164806366, -0.0597383975982666, 0.018738189712166786, 0.035903289914131165, 0.004414855968207121, 0.002821890404447913, -0.037764035165309906, -0.029894627630710602, -0.004700965713709593, 0.034566715359687805, 0.06467323005199432, 0.06616400927305222, 0.02860175259411335, -0.05318581685423851, 0.04902293160557747, 0.03350115194916725, -0.007786327041685581, -0.04594738408923149, 0.051256634294986725, 0.03117716871201992, -0.03531979024410248, -0.06966421753168106, -0.040988389402627945, 0.02944614551961422, -0.012455659918487072, -0.12111294269561768, 0.00044092192547395825, -0.014371323399245739, 0.01718507893383503, 0.032293468713760376, 0.050509363412857056, 0.017753345891833305, -0.0010319999419152737, 0.03648325055837631, -0.0333532989025116, -0.03687386214733124, 0.03271310031414032, 0.024261144921183586, 0.0032115194480866194, -0.012598532252013683, -0.00337501079775393, -0.018951449543237686, -0.016874102875590324, -0.003429138334468007, 0.014175097458064556, -0.061143599450588226, 0.007298613898456097, -0.0015797262312844396, -0.03871054947376251, 0.01963670551776886, -0.0013417797163128853, -0.03642203286290169, 0.02146429754793644, -0.017170093953609467, 0.028011392802000046, 0.015196505934000015, -0.022383801639080048, 0.0305978711694479, -0.020642951130867004, 0.04280037060379982, 0.05397333577275276, 0.04114196076989174, 0.05902918055653572, 0.023737620562314987, -0.02343887649476528, 0.02330455556511879, 0.03142031282186508, -0.009158864617347717, 0.08781125396490097, 0.07582138478755951, -0.011599596589803696, -0.005545819643884897, 0.0013821665197610855, -0.057888954877853394, 0.04315568879246712, 0.022149601951241493, 0.007449256256222725, 0.010676953941583633, 0.004525512456893921, -0.06040145829319954, 0.04348749294877052, 0.042103931307792664, 0.0271650068461895, -0.010208508931100368, -0.0012592915445566177, 0.031056782230734825, -0.03847711160778999, 0.032060425728559494, 0.06311269104480743, -0.0475059375166893, -0.04474249109625816, -0.025403166189789772, 0.0246889628469944, 0.029838236048817635, -0.08304210007190704, 0.017726736143231392, -0.008500458672642708, 0.012890354730188847, -0.06264813244342804, -0.021137308329343796, 0.046149689704179764, -0.007080623880028725, -0.02275223657488823, 0.027137435972690582, 0.018057148903608322, 0.02372237853705883, 0.019944429397583008, -0.008688271045684814, 0.045913442969322205, -0.04429057613015175, 0.003265853738412261, 0.04826877638697624, -0.06946317851543427, -0.028049984946846962, 0.023446843028068542, -0.05208940431475639, 0.0037811119109392166, -0.017949741333723068, 0.008787128143012524, 0.10413411259651184, -0.011234340257942677, -0.002734299749135971, -0.013279483653604984, 0.002572248224169016, -0.03835209459066391, -0.005759133957326412, 0.028874428942799568, 0.02506716363132, 0.009526713751256466, -0.04493075981736183, 0.051368121057748795, -0.06562637537717819, 0.06605593860149384, 0.0054269288666546345, 0.04406450316309929, -0.011807628907263279, 0.007392059080302715, -0.046378158032894135, 0.04164888709783554, -0.0030907324980944395, 0.019779685884714127, -0.04558402672410011, -0.01183516625314951, 0.004810688551515341, 0.012574881315231323, -0.02956264838576317, -0.027688514441251755, -0.0032397175673395395, -0.02594923786818981, 0.015067647211253643, 0.0735393762588501, 0.018109843134880066, 0.05020212382078171, 0.09335941076278687, 0.06490972638130188, -0.0032197798136621714, -0.035045966506004333, 0.011584111489355564, 0.015936454758048058, 0.004754266235977411, -0.01619311235845089, -0.038377974182367325, 0.015667958185076714, 0.003483286127448082, -0.013782265596091747, 0.003998009953647852, -0.018157316371798515, -0.006074470467865467, -0.013679150491952896, 0.04169512167572975, 0.0321638397872448, -0.023790383711457253, 0.04564552754163742, -0.062411434948444366, -0.017894206568598747, -0.014473963528871536, 0.007893936708569527, 0.01657576486468315, -0.04457312077283859, 0.011938277631998062, -0.02176624722778797, 0.04150612652301788, -0.023612212389707565, 0.05234308913350105, 0.015237435698509216, -0.07319580018520355, -0.025414714589715004, 0.02729847840964794, -0.07737648487091064, -0.030492989346385002, -0.01463884487748146, -0.020371591672301292, -0.018091144040226936, 0.0015056460397318006, 0.005346943624317646, 0.02128584496676922, -0.00015357670781668276, -0.02555796131491661, 0.020269419997930527, -0.046497948467731476, -0.0027016012463718653, 0.015421559102833271, -0.1064571887254715, -0.03342384845018387, -0.015703439712524414, 0.008069036528468132, 0.07212771475315094, 0.08156820386648178, -0.03154387325048447, 0.007213931996375322, 0.049884676933288574, 0.057532843202352524, -0.0044953362084925175, -0.02812451496720314, -0.02525087259709835, 0.012945725582540035, -0.0350666269659996, 0.003334429580718279, -0.02855762653052807, 0.024840936064720154, 0.008196976967155933, -0.06357190757989883, 0.051108941435813904, 0.0003827492764685303, 0.03940514847636223, -0.006333575583994389, -0.025128664448857307, 0.012964854016900063, -0.007789100985974073, 0.059328123927116394, 0.014870009385049343, 0.022943535819649696, -0.05409848690032959, 0.024271192029118538, 0.023196794092655182, 0.008933537639677525, 0.004734399728477001, -0.04085727408528328, 0.003803313709795475, 0.006485604681074619, -0.04848140478134155, 0.001956597901880741, -0.0048248376697301865, 0.008443204686045647, -0.016598710790276527, 0.008897066116333008, -0.007379671558737755, -0.01861925795674324, 0.01985504850745201, -0.03173593059182167, 0.026017801836133003, 0.013056795112788677, 0.02297375351190567, 0.010011862963438034, -0.020806074142456055, -0.005918646231293678, -0.0005247502122074366, -0.030614186078310013, -0.028400972485542297, -0.054177604615688324, -0.0003081501927226782, -0.031365811824798584, 0.0443279892206192, -0.01972750574350357, -0.09393605589866638, 0.013622515834867954, 0.003795565338805318, -0.06043524295091629, -0.010989692993462086, -0.00949846487492323, 0.13383160531520844, 0.029335536062717438, 0.047172028571367264, -0.004022115841507912, 0.07700993120670319, 0.08235092461109161, 0.007784672547131777, -0.12390004098415375, -0.11924904584884644, -0.0016537272604182363, -0.005065822042524815, -0.030407799407839775, 0.05469973385334015, -0.004173089284449816, -0.0470878928899765, 0.0038995116483420134, -0.036588169634342194, -0.01822000928223133, -0.01892957277595997, -0.023975303396582603, 0.021664852276444435, 0.0014246718492358923, -0.03397860750555992, -0.020229630172252655, -0.020751526579260826, 0.01464535016566515, -0.03491644933819771, -0.015907516703009605, 0.048089828342199326, -0.04188971221446991, 0.06901213526725769, -0.041382595896720886, 0.01298163179308176, 0.01694045029580593, 0.023663457483053207, 0.007915140129625797, -0.01212391909211874, 0.016059739515185356, 0.027356985956430435, 0.05737127363681793, 0.0533602274954319, -0.03865167871117592, -0.06370624899864197, 0.02980124205350876, 0.0022392047103494406, 0.022392679005861282, 0.004238950554281473, 0.02583845891058445, -0.001110365497879684, 0.04169430211186409, -0.027570731937885284, -0.027966853231191635, -0.04935671016573906, -0.03061322122812271, 0.03630700334906578, 0.010281951166689396, -0.0010981960222125053, -0.053351834416389465, -0.02966896817088127, -0.025274766609072685, -0.004014585632830858, 0.02148807793855667, 0.00876330304890871, 0.047303155064582825, -0.02861618623137474, -0.0005105515592731535, -0.016290249302983284, 0.031719718128442764, -0.02542130835354328, 0.04759291931986809, 0.05327039957046509, -0.0136680006980896, -0.07141061872243881, 0.016855791211128235, 0.044468097388744354, 0.004421945195645094, 0.0007898142794147134, 0.012386311776936054, -0.024130426347255707, 0.00944829173386097, 0.049960747361183167, 0.011425971984863281, 0.025749387219548225, 0.05712844058871269, 0.0004892580327577889, -0.04031999781727791, 0.021268712356686592, -0.08847055584192276, 0.01761685125529766, 0.05160447955131531, -0.04875761270523071, 0.04979010671377182, -0.017533261328935623, 0.00359554635360837, 0.018633129075169563, 0.024662593379616737, 0.04337318614125252, 0.02280333824455738, 0.01580558903515339, 0.025623776018619537, -0.01103117037564516, -0.026545263826847076, -0.0610586553812027, 0.016745351254940033, -0.08800361305475235, -0.004622128326445818, -0.0066505237482488155, 0.06517931073904037, -0.016951588913798332, -0.08852414041757584, 0.0018448092741891742, 0.03338460251688957, -0.01345266867429018, -0.012630508281290531, 0.018146857619285583, 0.06059941649436951, 0.06832888722419739, -0.0029046121053397655, -0.014151298440992832, 0.06887912005186081, 0.021928604692220688, -0.029353400692343712, 0.0041929022409021854, 0.019670795649290085, 0.03239050507545471, 0.007248173467814922, -0.059199295938014984, -0.03949659690260887, -0.004759324248880148, -6.0722331682854436e-33, -0.0020924017298966646, -0.009555394761264324, -0.006965737324208021, -0.04147782549262047, -0.05609937757253647, 0.032439637929201126, -0.017308102920651436, -0.009218470193445683, -0.011099432595074177, -0.01533018983900547, -0.010575424879789352, 0.011466985568404198, 0.028730489313602448, 0.006003478541970253, 0.01264730654656887, -0.005425622221082449, -0.0001876743626780808, -0.013548917137086391, -0.0015524310292676091, -0.005282603669911623, -0.06134519726037979, -0.011301587335765362, -0.010992907918989658, -0.010516408830881119, 0.0421888642013073, 0.03812207281589508, -0.04725472629070282, -0.019622094929218292, -0.0096681397408247, 0.004600963555276394, -2.2483076463686302e-05, -0.016466381028294563, 0.008511390537023544, -0.04985636845231056, 0.01173505187034607, 0.09847144037485123, 0.009637739509344101, -0.0146538270637393, 0.00747876288369298, -0.04052207991480827, -0.09792504459619522, -0.04302305355668068, -0.023850662633776665, 0.03568509966135025, -0.00809410959482193, -0.03421628102660179, 0.005571105517446995, 0.0029205232858657837, 0.01288962084800005, 0.02326439507305622, -0.02644854038953781, 0.02745845541357994, -0.038167260587215424, 0.039204731583595276, -0.030660007148981094, 0.08383389562368393, 0.010991574265062809, 0.011065159924328327, -0.020079247653484344, 0.023688841611146927, -0.04478783160448074, -0.006034227553755045, 0.0039694164879620075, -0.02293882891535759, -0.012956013903021812, 0.025882305577397346, -0.05652875453233719, -0.03198738768696785, 0.0019013019045814872, -0.027142956852912903, 0.02734432741999626, 0.018607037141919136, 0.0051188538782298565, 0.09587018191814423, -0.0669960007071495, -0.0176687128841877, -0.05011606961488724, 0.00819491408765316, 0.05877744033932686, 0.07408560812473297, -0.048149473965168, -0.014593585394322872, 0.013694641180336475, 0.030241256579756737, 0.026872234418988228, -0.07276701182126999, -0.00945265032351017, 0.04314159229397774, 0.015999576076865196, 0.03949091583490372, -0.04134621471166611, 0.07252243906259537, -0.02823365293443203, 0.02298782207071781, 0.027928443625569344, -0.05675361678004265, -0.013462712988257408, -0.03557627648115158, -0.019663739949464798, 0.059103019535541534, 0.010710193775594234, 0.019739072769880295, 0.01621950976550579, -0.022046072408556938, 0.02701295167207718, 0.04786977544426918, -0.007105156779289246, -0.004231635481119156, -0.03367885202169418, -0.03155543655157089, 0.000715548696462065, 0.009098636917769909, 0.013646746054291725, 0.0762944221496582, 0.00911426916718483, 0.02740059606730938, 0.043199703097343445, -0.0060645160265266895, -0.016220374032855034, -0.08101607114076614, -0.025224212557077408, 0.081944040954113, -0.03137354925274849, 0.06723538041114807, -0.05694027990102768, 0.00869604479521513, -0.03613812476396561, -0.10868050158023834, 0.0058700526133179665, -0.031209146603941917, 0.0021897994447499514, -0.037182580679655075, 2.2026867441127251e-07, -0.03918478637933731, -0.05837054178118706, -0.02388828434050083, 0.04775852710008621, 0.02184055745601654, 0.010334721766412258, -0.030590113252401352, 0.03399687260389328, -0.05956317484378815, 0.015672607347369194, 0.012566987425088882, 0.009236123412847519, 0.020548302680253983, 0.00817001610994339, -0.0665307566523552, 0.01930938847362995, -0.018020745366811752, -0.013919071294367313, -0.03444182872772217, 0.05088191479444504, 0.023603588342666626, 0.02233166992664337, 0.06506006419658661, 0.012274100445210934, 0.015585246495902538, 0.02138330787420273, 0.007900094613432884, -0.07283139228820801, -0.03566361218690872, -0.014413457363843918, -0.01367249246686697, -0.011532149277627468, -0.02183949574828148, 0.03963160514831543, -0.012571838684380054, -0.0684213936328888, -0.06552695482969284, 0.0846242904663086, 0.014754783362150192, -0.04858994111418724, -0.05409737303853035, -0.013171236030757427, -0.025220826268196106, -0.0024211937561631203, 0.017789311707019806, -0.02431902475655079, 0.002659895922988653, -0.009184609167277813, 0.0330866277217865, 0.015088599175214767, -0.03118639998137951, 0.012722454033792019, -0.06619425863027573, 0.010209999978542328, 0.06687011569738388, 0.03474341332912445, -0.0516582690179348, 0.01813453435897827, 0.06594112515449524, -0.031009793281555176, -0.03537529334425926, -0.04809879511594772, -0.052520234137773514, 0.0520518496632576, 0.03498592972755432, -0.017991680651903152, -0.04018862918019295, 1.050230504474047e-34, 0.0006757652736268938, -0.002056610770523548, 0.014452574774622917, -0.012513339519500732, 0.04966427758336067, -0.007858927361667156, -0.05020291358232498, 0.025151699781417847, -0.02899227850139141, -0.030757782980799675, -0.004206092096865177], 'embedding_text': 'I ask Democrats and Republicans alike: Pass my budget and keep our neighborhoods safe.', 'score': 0.5095590353012085}]}]\n"
     ]
    }
   ],
   "source": [
    "# Set the question\n",
    "query = \"What measures does the speaker ask Congress to pass to reduce gun violence?\"\n",
    "# Similarity search results\n",
    "similar_docs = awadb_client.Search(query=query, topn=3, not_include_fields=not_include_fields)\n",
    "\n",
    "print(similar_docs)"
   ]
  },
  {
   "cell_type": "markdown",
   "id": "1f41e1ac",
   "metadata": {},
   "source": [
    "## Create Prompt\n",
    "We then will create prompts based on our question and the results from similarity serach."
   ]
  },
  {
   "cell_type": "code",
   "execution_count": 7,
   "id": "821dbc83",
   "metadata": {
    "scrolled": true
   },
   "outputs": [
    {
     "name": "stdout",
     "output_type": "stream",
     "text": [
      "You are a person who answers questions for people based on specified information\n",
      "Here is some information given to you:\n",
      "Ban assault weapons and high-capacity magazines.\n",
      "Repeal the liability shield that makes gun manufacturers the only industry in America that can’t be sued.\n",
      "I ask Democrats and Republicans alike: Pass my budget and keep our neighborhoods safe.\n",
      "Here is the question: What measures does the speaker ask Congress to pass to reduce gun violence?\n",
      "Please provide an answer only related to the question and do not include any information more than that.\n",
      "\n"
     ]
    }
   ],
   "source": [
    "# Create prompt\n",
    "system_prompt = \"You are a person who answers questions for people based on specified information\\n\"\n",
    "\n",
    "similar_prompt = \"\"\n",
    "for i in range(3):\n",
    "    similar_prompt += similar_docs[0]['ResultItems'][i]['embedding_text'] + \"\\n\"\n",
    "\n",
    "#similar_prompt = similar_docs[0].page_content + \"\\n\" + similar_docs[1].page_content + \"\\n\" + similar_docs[2].page_content + \"\\n\"\n",
    "question_prompt = f\"Here is the question: {query}\\nPlease provide an answer only related to the question and do not include any information more than that.\\n\"\n",
    "prompt = system_prompt + \"Here is some information given to you:\\n\" + similar_prompt + question_prompt\n",
    "\n",
    "print(prompt)"
   ]
  },
  {
   "cell_type": "code",
   "execution_count": 8,
   "id": "a8fd7b94",
   "metadata": {},
   "outputs": [
    {
     "name": "stdout",
     "output_type": "stream",
     "text": [
      "The speaker asks Congress to pass measures to ban assault weapons and high-capacity magazines, as well as to repeal the liability shield for gun manufacturers.\n"
     ]
    }
   ],
   "source": [
    "# Create response from gpt-3.5\n",
    "response = openai.ChatCompletion.create(\n",
    "  model = \"gpt-3.5-turbo\",\n",
    "  temperature =  0.7,\n",
    "  messages=[\n",
    "        {\"role\": \"system\", \"content\": \"\"},\n",
    "        {\"role\": \"user\", \"content\": prompt},\n",
    "    ],\n",
    "  max_tokens = 40\n",
    ")\n",
    "\n",
    "print(response['choices'][0]['message']['content'].replace(' .', '.').strip())"
   ]
  },
  {
   "cell_type": "code",
   "execution_count": null,
   "id": "e56faa60",
   "metadata": {},
   "outputs": [],
   "source": []
  }
 ],
 "metadata": {
  "kernelspec": {
   "display_name": "Python 3 (ipykernel)",
   "language": "python",
   "name": "python3"
  },
  "language_info": {
   "codemirror_mode": {
    "name": "ipython",
    "version": 3
   },
   "file_extension": ".py",
   "mimetype": "text/x-python",
   "name": "python",
   "nbconvert_exporter": "python",
   "pygments_lexer": "ipython3",
   "version": "3.11.4"
  }
 },
 "nbformat": 4,
 "nbformat_minor": 5
}
