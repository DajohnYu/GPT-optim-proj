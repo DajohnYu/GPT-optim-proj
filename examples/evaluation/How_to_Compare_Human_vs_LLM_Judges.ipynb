{
 "cells": [
  {
   "cell_type": "markdown",
   "metadata": {},
   "source": [
    "# Callibrating LLM-as-Judge with Human Annotations and Logprobs \n",
    "\n",
    "In this notebook we delve into the problem of measuring the performance of LLM-as-Judge techniques for complex tasks. \n",
    "\n",
    "The quality of LLM-as-Judge varies highly dependig on problem context ([Bavaresco et al., 2024](https://arxiv.org/abs/2406.18403v1)) and evaluating the quality of LLM-as-Judge is challenging. Using expert human annotators to provide ground-truth labels is expensive and time-consuming. In addition, human annotators are fallible and may provide annotations at a lower quality than state-of-the-art LLMs like GPT-4.\n",
    "\n",
    "We showcase two methods, simple consensus, and a more advanced algorithm (Goh et al., 2024), to calibrate LLM-as-Judge with human annotations.\n",
    "\n",
    "## Setup"
   ]
  },
  {
   "cell_type": "code",
   "execution_count": 1,
   "metadata": {},
   "outputs": [],
   "source": [
    "# Installing the necessary packages for the evaluation\n",
    "# datasets: for importing the reference datasets\n",
    "# openai: To interact with OpenAI's API\n",
    "# cleanlab: For the Open-Source implementation of CROWDLAB algorithm\n",
    "\n",
    "!pip install datasets --quiet\n",
    "!pip install openai --quiet\n",
    "!pip install cleanlab --quiet"
   ]
  },
  {
   "cell_type": "markdown",
   "metadata": {},
   "source": [
    "## Example task\n",
    "\n",
    "For the purpose of this notebook, we consider MT-Bench, a suite of pairwise comparison tasks used to benchmark LLM-as-a-Judge ([Zheng et al., 2024](https://arxiv.org/abs/2306.05685)). The MT-Bench dataset consists of 80 unique tasks executed by LLMs, with human and LLM judges evaluating the performance of the tasks using pair-wise comparisons between two executions. "
   ]
  },
  {
   "cell_type": "code",
   "execution_count": 2,
   "metadata": {},
   "outputs": [
    {
     "name": "stderr",
     "output_type": "stream",
     "text": [
      "/Users/nelson/tech/openai-cookbook/.venv/lib/python3.12/site-packages/tqdm/auto.py:21: TqdmWarning: IProgress not found. Please update jupyter and ipywidgets. See https://ipywidgets.readthedocs.io/en/stable/user_install.html\n",
      "  from .autonotebook import tqdm as notebook_tqdm\n"
     ]
    }
   ],
   "source": [
    "from datasets import load_dataset\n",
    "import pandas as pd\n",
    "\n",
    "dataset = load_dataset(\"lmsys/mt_bench_human_judgments\")"
   ]
  },
  {
   "cell_type": "code",
   "execution_count": 15,
   "metadata": {},
   "outputs": [
    {
     "data": {
      "text/html": [
       "<div>\n",
       "<style scoped>\n",
       "    .dataframe tbody tr th:only-of-type {\n",
       "        vertical-align: middle;\n",
       "    }\n",
       "\n",
       "    .dataframe tbody tr th {\n",
       "        vertical-align: top;\n",
       "    }\n",
       "\n",
       "    .dataframe thead th {\n",
       "        text-align: right;\n",
       "    }\n",
       "</style>\n",
       "<table border=\"1\" class=\"dataframe\">\n",
       "  <thead>\n",
       "    <tr style=\"text-align: right;\">\n",
       "      <th></th>\n",
       "      <th>question_id</th>\n",
       "      <th>model_a</th>\n",
       "      <th>model_b</th>\n",
       "      <th>winner</th>\n",
       "      <th>judge</th>\n",
       "      <th>conversation_a</th>\n",
       "      <th>conversation_b</th>\n",
       "      <th>turn</th>\n",
       "    </tr>\n",
       "  </thead>\n",
       "  <tbody>\n",
       "    <tr>\n",
       "      <th>0</th>\n",
       "      <td>81</td>\n",
       "      <td>alpaca-13b</td>\n",
       "      <td>gpt-3.5-turbo</td>\n",
       "      <td>model_b</td>\n",
       "      <td>author_2</td>\n",
       "      <td>[{'content': 'Compose an engaging travel blog ...</td>\n",
       "      <td>[{'content': 'Compose an engaging travel blog ...</td>\n",
       "      <td>1</td>\n",
       "    </tr>\n",
       "    <tr>\n",
       "      <th>1</th>\n",
       "      <td>81</td>\n",
       "      <td>alpaca-13b</td>\n",
       "      <td>gpt-3.5-turbo</td>\n",
       "      <td>model_b</td>\n",
       "      <td>author_2</td>\n",
       "      <td>[{'content': 'Compose an engaging travel blog ...</td>\n",
       "      <td>[{'content': 'Compose an engaging travel blog ...</td>\n",
       "      <td>2</td>\n",
       "    </tr>\n",
       "    <tr>\n",
       "      <th>2</th>\n",
       "      <td>81</td>\n",
       "      <td>alpaca-13b</td>\n",
       "      <td>gpt-3.5-turbo</td>\n",
       "      <td>model_b</td>\n",
       "      <td>expert_17</td>\n",
       "      <td>[{'content': 'Compose an engaging travel blog ...</td>\n",
       "      <td>[{'content': 'Compose an engaging travel blog ...</td>\n",
       "      <td>1</td>\n",
       "    </tr>\n",
       "    <tr>\n",
       "      <th>3</th>\n",
       "      <td>81</td>\n",
       "      <td>alpaca-13b</td>\n",
       "      <td>gpt-3.5-turbo</td>\n",
       "      <td>model_b</td>\n",
       "      <td>expert_17</td>\n",
       "      <td>[{'content': 'Compose an engaging travel blog ...</td>\n",
       "      <td>[{'content': 'Compose an engaging travel blog ...</td>\n",
       "      <td>2</td>\n",
       "    </tr>\n",
       "    <tr>\n",
       "      <th>4</th>\n",
       "      <td>81</td>\n",
       "      <td>alpaca-13b</td>\n",
       "      <td>vicuna-13b-v1.2</td>\n",
       "      <td>model_b</td>\n",
       "      <td>expert_0</td>\n",
       "      <td>[{'content': 'Compose an engaging travel blog ...</td>\n",
       "      <td>[{'content': 'Compose an engaging travel blog ...</td>\n",
       "      <td>1</td>\n",
       "    </tr>\n",
       "  </tbody>\n",
       "</table>\n",
       "</div>"
      ],
      "text/plain": [
       "   question_id     model_a          model_b   winner      judge  \\\n",
       "0           81  alpaca-13b    gpt-3.5-turbo  model_b   author_2   \n",
       "1           81  alpaca-13b    gpt-3.5-turbo  model_b   author_2   \n",
       "2           81  alpaca-13b    gpt-3.5-turbo  model_b  expert_17   \n",
       "3           81  alpaca-13b    gpt-3.5-turbo  model_b  expert_17   \n",
       "4           81  alpaca-13b  vicuna-13b-v1.2  model_b   expert_0   \n",
       "\n",
       "                                      conversation_a  \\\n",
       "0  [{'content': 'Compose an engaging travel blog ...   \n",
       "1  [{'content': 'Compose an engaging travel blog ...   \n",
       "2  [{'content': 'Compose an engaging travel blog ...   \n",
       "3  [{'content': 'Compose an engaging travel blog ...   \n",
       "4  [{'content': 'Compose an engaging travel blog ...   \n",
       "\n",
       "                                      conversation_b  turn  \n",
       "0  [{'content': 'Compose an engaging travel blog ...     1  \n",
       "1  [{'content': 'Compose an engaging travel blog ...     2  \n",
       "2  [{'content': 'Compose an engaging travel blog ...     1  \n",
       "3  [{'content': 'Compose an engaging travel blog ...     2  \n",
       "4  [{'content': 'Compose an engaging travel blog ...     1  "
      ]
     },
     "execution_count": 15,
     "metadata": {},
     "output_type": "execute_result"
    }
   ],
   "source": [
    "#show first 5 rows of dataset:\n",
    "human_graded_df = pd.DataFrame(dataset['human'])\n",
    "\n",
    "human_graded_df.head()"
   ]
  },
  {
   "cell_type": "code",
   "execution_count": null,
   "metadata": {},
   "outputs": [],
   "source": []
  }
 ],
 "metadata": {
  "kernelspec": {
   "display_name": ".venv",
   "language": "python",
   "name": "python3"
  },
  "language_info": {
   "codemirror_mode": {
    "name": "ipython",
    "version": 3
   },
   "file_extension": ".py",
   "mimetype": "text/x-python",
   "name": "python",
   "nbconvert_exporter": "python",
   "pygments_lexer": "ipython3",
   "version": "3.12.4"
  }
 },
 "nbformat": 4,
 "nbformat_minor": 2
}
