{
 "cells": [
  {
   "cell_type": "markdown",
   "metadata": {},
   "source": [
    "# From Simple to Sophisticated: Enhancing Prompts with Metaprompting\n",
    "\n",
    "Welcome to this cookbook on metaprompting! In this guide, we'll walk through the process of taking a basic prompt and refining it to improve the quality of outputs from a language model. We'll use the example of generating travel itineraries based on user preferences.\n",
    "\n",
    "\n",
    "Metaprompting is the technique of iteratively refining prompts to get more accurate and detailed outputs from a language model. In this example, we'll start with a simple travel itinerary prompt and then enhance it to see how the outputs improve. We'll also evaluate these outputs systematically."
   ]
  },
  {
   "cell_type": "code",
   "execution_count": 1,
   "metadata": {},
   "outputs": [],
   "source": [
    "import pandas as pd\n",
    "import openai \n",
    "from concurrent.futures import ThreadPoolExecutor, as_completed\n",
    "from tqdm import tqdm\n",
    "from pydantic import BaseModel\n",
    "\n",
    "client = openai.Client()"
   ]
  },
  {
   "cell_type": "markdown",
   "metadata": {},
   "source": [
    "## Importing the Data\n",
    "\n",
    "First, we need a dataset of travel preferences. We generated 100 examples with the following fields:\n",
    "- **Location**: Travel destination (e.g., Paris, Tokyo)\n",
    "- **Duration**: Length of the trip (e.g., 3 days, 1 week)\n",
    "- **Preferences**: Traveler's interests (e.g., art, local cuisine)\n"
   ]
  },
  {
   "cell_type": "code",
   "execution_count": 2,
   "metadata": {},
   "outputs": [
    {
     "data": {
      "text/html": [
       "<div>\n",
       "<style scoped>\n",
       "    .dataframe tbody tr th:only-of-type {\n",
       "        vertical-align: middle;\n",
       "    }\n",
       "\n",
       "    .dataframe tbody tr th {\n",
       "        vertical-align: top;\n",
       "    }\n",
       "\n",
       "    .dataframe thead th {\n",
       "        text-align: right;\n",
       "    }\n",
       "</style>\n",
       "<table border=\"1\" class=\"dataframe\">\n",
       "  <thead>\n",
       "    <tr style=\"text-align: right;\">\n",
       "      <th></th>\n",
       "      <th>Location</th>\n",
       "      <th>Duration</th>\n",
       "      <th>Preferences</th>\n",
       "    </tr>\n",
       "  </thead>\n",
       "  <tbody>\n",
       "    <tr>\n",
       "      <th>0</th>\n",
       "      <td>Vancouver</td>\n",
       "      <td>5 days</td>\n",
       "      <td>nature, cultural experiences, adventure</td>\n",
       "    </tr>\n",
       "    <tr>\n",
       "      <th>1</th>\n",
       "      <td>San Francisco</td>\n",
       "      <td>1 week</td>\n",
       "      <td>family-friendly, shopping, photography</td>\n",
       "    </tr>\n",
       "    <tr>\n",
       "      <th>2</th>\n",
       "      <td>Tokyo</td>\n",
       "      <td>1 week</td>\n",
       "      <td>shopping, relaxation</td>\n",
       "    </tr>\n",
       "    <tr>\n",
       "      <th>3</th>\n",
       "      <td>Marrakech</td>\n",
       "      <td>1 week</td>\n",
       "      <td>local cuisine, beach, adventure, relaxation</td>\n",
       "    </tr>\n",
       "    <tr>\n",
       "      <th>4</th>\n",
       "      <td>San Francisco</td>\n",
       "      <td>3 days</td>\n",
       "      <td>budget-friendly, adventure</td>\n",
       "    </tr>\n",
       "  </tbody>\n",
       "</table>\n",
       "</div>"
      ],
      "text/plain": [
       "        Location Duration                                  Preferences\n",
       "0      Vancouver   5 days      nature, cultural experiences, adventure\n",
       "1  San Francisco   1 week       family-friendly, shopping, photography\n",
       "2          Tokyo   1 week                         shopping, relaxation\n",
       "3      Marrakech   1 week  local cuisine, beach, adventure, relaxation\n",
       "4  San Francisco   3 days                   budget-friendly, adventure"
      ]
     },
     "execution_count": 2,
     "metadata": {},
     "output_type": "execute_result"
    }
   ],
   "source": [
    "# Load the dataset\n",
    "df = pd.read_csv('data/travel_itinerary_preferences_dataset.csv')\n",
    "\n",
    "# Display the first few rows\n",
    "df.head()"
   ]
  },
  {
   "cell_type": "markdown",
   "metadata": {},
   "source": [
    "## Iterating on Prompts\n"
   ]
  },
  {
   "cell_type": "markdown",
   "metadata": {},
   "source": [
    "Let's start with a simple prompt and then used the O1 model to enhance it for better results."
   ]
  },
  {
   "cell_type": "code",
   "execution_count": 3,
   "metadata": {},
   "outputs": [],
   "source": [
    "simple_prompt = \"Create a {Duration} itinerary for {Location} focusing on {Preferences}.\"\n"
   ]
  },
  {
   "cell_type": "markdown",
   "metadata": {},
   "source": [
    "To improve the prompt, we provided the O1 model with the context and goals we wanted to achieve. We asked it to generate a more detailed prompt that would produce richer and more complete itineraries."
   ]
  },
  {
   "cell_type": "code",
   "execution_count": 4,
   "metadata": {},
   "outputs": [],
   "source": [
    "metaprompt = \"\"\"\n",
    "Improve the following prompt to generate a more detailed travel itinerary:\n",
    "\n",
    "{simple_prompt}\n",
    "\n",
    "These are my evaluation criteria: \n",
    "    1. Relevance to Preferences\n",
    "    2. Detail and Completeness\n",
    "    3. Diversity of Activities\n",
    "    4. Feasibility and Practicality\n",
    "    5. Creativity and Uniqueness\n",
    "\n",
    "Only return the prompt.\n",
    "\"\"\""
   ]
  },
  {
   "cell_type": "code",
   "execution_count": 5,
   "metadata": {},
   "outputs": [
    {
     "data": {
      "text/plain": [
       "'Create a detailed and comprehensive {Duration} itinerary for {Location} focusing on {Preferences}. The itinerary should include a diverse range of activities that are highly relevant to your preferences. For each day, provide specific details such as activity descriptions, locations, timings, and any necessary travel information. Ensure the plan is feasible and practical by considering factors like operating hours and travel times between destinations. Additionally, incorporate creative and unique experiences that offer a distinctive perspective on {Location}.'"
      ]
     },
     "execution_count": 5,
     "metadata": {},
     "output_type": "execute_result"
    }
   ],
   "source": [
    "def get_model_response(messages, model=\"o1-preview\"):\n",
    "    response = client.chat.completions.create(\n",
    "        messages=messages,\n",
    "        model=model,\n",
    "    )\n",
    "    return response.choices[0].message.content\n",
    "\n",
    "\n",
    "complex_prompt = get_model_response([{\"role\": \"user\", \"content\": metaprompt.format(simple_prompt=simple_prompt)}])\n",
    "complex_prompt"
   ]
  },
  {
   "cell_type": "markdown",
   "metadata": {},
   "source": [
    "## Generating the Itineraries\n",
    "\n",
    "For each entry in our dataset, we'll generate itineraries using both the simple and complex prompts."
   ]
  },
  {
   "cell_type": "code",
   "execution_count": 6,
   "metadata": {},
   "outputs": [],
   "source": [
    "def generate_resonse(prompt): \n",
    "    messages = [{\"role\": \"user\", \"content\": prompt}]\n",
    "    response = get_model_response(messages, model=\"gpt-4o-mini\")\n",
    "    return response\n",
    "\n",
    "def generate_itineraries(row):\n",
    "    simple_itinerary = generate_resonse(simple_prompt.format(Duration=row['Duration'], Location=row['Location'], Preferences=row['Preferences']))\n",
    "    complex_itinerary = generate_resonse(complex_prompt.format(Duration=row['Duration'], Location=row['Location'], Preferences=row['Preferences']))\n",
    "    return simple_itinerary, complex_itinerary"
   ]
  },
  {
   "cell_type": "code",
   "execution_count": 7,
   "metadata": {},
   "outputs": [
    {
     "name": "stderr",
     "output_type": "stream",
     "text": [
      "Generating Itineraries: 100%|██████████| 100/100 [04:17<00:00,  2.57s/it]\n"
     ]
    },
    {
     "data": {
      "text/html": [
       "<div>\n",
       "<style scoped>\n",
       "    .dataframe tbody tr th:only-of-type {\n",
       "        vertical-align: middle;\n",
       "    }\n",
       "\n",
       "    .dataframe tbody tr th {\n",
       "        vertical-align: top;\n",
       "    }\n",
       "\n",
       "    .dataframe thead th {\n",
       "        text-align: right;\n",
       "    }\n",
       "</style>\n",
       "<table border=\"1\" class=\"dataframe\">\n",
       "  <thead>\n",
       "    <tr style=\"text-align: right;\">\n",
       "      <th></th>\n",
       "      <th>Location</th>\n",
       "      <th>Duration</th>\n",
       "      <th>Preferences</th>\n",
       "      <th>Simple_Itinerary</th>\n",
       "      <th>Complex_Itinerary</th>\n",
       "    </tr>\n",
       "  </thead>\n",
       "  <tbody>\n",
       "    <tr>\n",
       "      <th>0</th>\n",
       "      <td>Vancouver</td>\n",
       "      <td>5 days</td>\n",
       "      <td>nature, cultural experiences, adventure</td>\n",
       "      <td>Sure! Here’s a 5-day itinerary for Vancouver, ...</td>\n",
       "      <td>## 5-Day Itinerary for Nature, Culture, and Ad...</td>\n",
       "    </tr>\n",
       "    <tr>\n",
       "      <th>1</th>\n",
       "      <td>San Francisco</td>\n",
       "      <td>1 week</td>\n",
       "      <td>family-friendly, shopping, photography</td>\n",
       "      <td>Here's a one-week itinerary for a family-frien...</td>\n",
       "      <td>### One-Week Family-Friendly Itinerary for San...</td>\n",
       "    </tr>\n",
       "    <tr>\n",
       "      <th>2</th>\n",
       "      <td>Tokyo</td>\n",
       "      <td>1 week</td>\n",
       "      <td>shopping, relaxation</td>\n",
       "      <td>Here's a 1-week itinerary for Tokyo that focus...</td>\n",
       "      <td>Here’s a comprehensive one-week itinerary for ...</td>\n",
       "    </tr>\n",
       "    <tr>\n",
       "      <th>3</th>\n",
       "      <td>Marrakech</td>\n",
       "      <td>1 week</td>\n",
       "      <td>local cuisine, beach, adventure, relaxation</td>\n",
       "      <td>### 1-Week Itinerary for Marrakech: Focus on L...</td>\n",
       "      <td>### One-Week Itinerary for Marrakech\\n\\n#### O...</td>\n",
       "    </tr>\n",
       "    <tr>\n",
       "      <th>4</th>\n",
       "      <td>San Francisco</td>\n",
       "      <td>3 days</td>\n",
       "      <td>budget-friendly, adventure</td>\n",
       "      <td>Certainly! Here’s a 3-day budget-friendly adve...</td>\n",
       "      <td>### 3-Day Budget-Friendly Adventure Itinerary ...</td>\n",
       "    </tr>\n",
       "  </tbody>\n",
       "</table>\n",
       "</div>"
      ],
      "text/plain": [
       "        Location Duration                                  Preferences  \\\n",
       "0      Vancouver   5 days      nature, cultural experiences, adventure   \n",
       "1  San Francisco   1 week       family-friendly, shopping, photography   \n",
       "2          Tokyo   1 week                         shopping, relaxation   \n",
       "3      Marrakech   1 week  local cuisine, beach, adventure, relaxation   \n",
       "4  San Francisco   3 days                   budget-friendly, adventure   \n",
       "\n",
       "                                    Simple_Itinerary  \\\n",
       "0  Sure! Here’s a 5-day itinerary for Vancouver, ...   \n",
       "1  Here's a one-week itinerary for a family-frien...   \n",
       "2  Here's a 1-week itinerary for Tokyo that focus...   \n",
       "3  ### 1-Week Itinerary for Marrakech: Focus on L...   \n",
       "4  Certainly! Here’s a 3-day budget-friendly adve...   \n",
       "\n",
       "                                   Complex_Itinerary  \n",
       "0  ## 5-Day Itinerary for Nature, Culture, and Ad...  \n",
       "1  ### One-Week Family-Friendly Itinerary for San...  \n",
       "2  Here’s a comprehensive one-week itinerary for ...  \n",
       "3  ### One-Week Itinerary for Marrakech\\n\\n#### O...  \n",
       "4  ### 3-Day Budget-Friendly Adventure Itinerary ...  "
      ]
     },
     "execution_count": 7,
     "metadata": {},
     "output_type": "execute_result"
    }
   ],
   "source": [
    "# Add new columns to the dataframe for storing itineraries\n",
    "df['Simple_Itinerary'] = None\n",
    "df['Complex_Itinerary'] = None\n",
    "\n",
    "# Use ThreadPoolExecutor to generate itineraries concurrently\n",
    "with ThreadPoolExecutor() as executor:\n",
    "    futures = {executor.submit(generate_itineraries, row): index for index, row in df.iterrows()}\n",
    "    for future in tqdm(as_completed(futures), total=len(futures), desc=\"Generating Itineraries\"):\n",
    "        index = futures[future]\n",
    "        simple_itinerary, complex_itinerary = future.result()\n",
    "        df.at[index, 'Simple_Itinerary'] = simple_itinerary\n",
    "        df.at[index, 'Complex_Itinerary'] = complex_itinerary\n",
    "\n",
    "df.head()"
   ]
  },
  {
   "cell_type": "markdown",
   "metadata": {},
   "source": [
    "## Evaluating the Results\n",
    "\n",
    "To check the difference in performance between the 2 prompts, we'll use a structured evaluation approach with the LLM acting as a judge. Here's the prompt we'll use for evaluation:"
   ]
  },
  {
   "cell_type": "code",
   "execution_count": 8,
   "metadata": {},
   "outputs": [],
   "source": [
    "evaluation_prompt = \"\"\"\n",
    "You are an expert travel planner tasked with rigorously evaluating a travel itinerary based on specific criteria. Below is the itinerary to be evaluated:\n",
    "\n",
    "{itinerary}\n",
    "\n",
    "Please evaluate the itinerary based on the following criteria, using a scale of 1 to 5 (1 being the lowest and 5 being the highest). Reserve a score of 5 for truly exceptional performance that goes above and beyond typical expectations:\n",
    "\n",
    "1. **Relevance to Preferences**: Does the itinerary closely match the stated traveler preferences without including irrelevant activities?  \n",
    "2. **Detail and Completeness**: Is the itinerary comprehensive and detailed, including specific activities, exact timings, meal plans, and logistics? Are there any gaps?  \n",
    "3. **Diversity of Activities**: Does the itinerary offer a well-balanced and varied mix of activities? Is it lacking in variety in any areas?  \n",
    "4. **Feasibility and Practicality**: Is the itinerary realistic and achievable, considering travel times, activity durations, and rest periods? Are there any logistical challenges?  \n",
    "5. **Creativity and Uniqueness**: Does the itinerary include unique, off-the-beaten-path experiences that are not commonly found in standard travel plans?  \n",
    "\n",
    "For each criterion, provide a score from 1 to 5 and a brief justification for the scores. Be critical in your evaluation and only award high scores for exceptional quality.\n",
    "\"\"\"\n",
    "\n",
    "class ScoreCard(BaseModel):\n",
    "    relevance_to_preferences: int\n",
    "    detail_and_completeness: int\n",
    "    diversity_of_activities: int\n",
    "    feasibility_and_practicality: int\n",
    "    creativity_and_uniqueness: int\n",
    "    justification: str"
   ]
  },
  {
   "cell_type": "markdown",
   "metadata": {},
   "source": [
    "Small note, you can actually meta-prompt your evaluation prompt as well! "
   ]
  },
  {
   "cell_type": "code",
   "execution_count": 9,
   "metadata": {},
   "outputs": [
    {
     "name": "stderr",
     "output_type": "stream",
     "text": [
      "Evaluating Itineraries:   0%|          | 0/100 [00:00<?, ?it/s]"
     ]
    },
    {
     "name": "stderr",
     "output_type": "stream",
     "text": [
      "Evaluating Itineraries: 100%|██████████| 100/100 [01:26<00:00,  1.16it/s]\n"
     ]
    },
    {
     "data": {
      "text/html": [
       "<div>\n",
       "<style scoped>\n",
       "    .dataframe tbody tr th:only-of-type {\n",
       "        vertical-align: middle;\n",
       "    }\n",
       "\n",
       "    .dataframe tbody tr th {\n",
       "        vertical-align: top;\n",
       "    }\n",
       "\n",
       "    .dataframe thead th {\n",
       "        text-align: right;\n",
       "    }\n",
       "</style>\n",
       "<table border=\"1\" class=\"dataframe\">\n",
       "  <thead>\n",
       "    <tr style=\"text-align: right;\">\n",
       "      <th></th>\n",
       "      <th>Location</th>\n",
       "      <th>Duration</th>\n",
       "      <th>Preferences</th>\n",
       "      <th>Simple_Itinerary</th>\n",
       "      <th>Complex_Itinerary</th>\n",
       "      <th>Simple_Evaluation</th>\n",
       "      <th>Complex_Evaluation</th>\n",
       "    </tr>\n",
       "  </thead>\n",
       "  <tbody>\n",
       "    <tr>\n",
       "      <th>0</th>\n",
       "      <td>Vancouver</td>\n",
       "      <td>5 days</td>\n",
       "      <td>nature, cultural experiences, adventure</td>\n",
       "      <td>Sure! Here’s a 5-day itinerary for Vancouver, ...</td>\n",
       "      <td>## 5-Day Itinerary for Nature, Culture, and Ad...</td>\n",
       "      <td>relevance_to_preferences=5 detail_and_complete...</td>\n",
       "      <td>relevance_to_preferences=5 detail_and_complete...</td>\n",
       "    </tr>\n",
       "    <tr>\n",
       "      <th>1</th>\n",
       "      <td>San Francisco</td>\n",
       "      <td>1 week</td>\n",
       "      <td>family-friendly, shopping, photography</td>\n",
       "      <td>Here's a one-week itinerary for a family-frien...</td>\n",
       "      <td>### One-Week Family-Friendly Itinerary for San...</td>\n",
       "      <td>relevance_to_preferences=5 detail_and_complete...</td>\n",
       "      <td>relevance_to_preferences=5 detail_and_complete...</td>\n",
       "    </tr>\n",
       "    <tr>\n",
       "      <th>2</th>\n",
       "      <td>Tokyo</td>\n",
       "      <td>1 week</td>\n",
       "      <td>shopping, relaxation</td>\n",
       "      <td>Here's a 1-week itinerary for Tokyo that focus...</td>\n",
       "      <td>Here’s a comprehensive one-week itinerary for ...</td>\n",
       "      <td>relevance_to_preferences=5 detail_and_complete...</td>\n",
       "      <td>relevance_to_preferences=4 detail_and_complete...</td>\n",
       "    </tr>\n",
       "    <tr>\n",
       "      <th>3</th>\n",
       "      <td>Marrakech</td>\n",
       "      <td>1 week</td>\n",
       "      <td>local cuisine, beach, adventure, relaxation</td>\n",
       "      <td>### 1-Week Itinerary for Marrakech: Focus on L...</td>\n",
       "      <td>### One-Week Itinerary for Marrakech\\n\\n#### O...</td>\n",
       "      <td>relevance_to_preferences=5 detail_and_complete...</td>\n",
       "      <td>relevance_to_preferences=5 detail_and_complete...</td>\n",
       "    </tr>\n",
       "    <tr>\n",
       "      <th>4</th>\n",
       "      <td>San Francisco</td>\n",
       "      <td>3 days</td>\n",
       "      <td>budget-friendly, adventure</td>\n",
       "      <td>Certainly! Here’s a 3-day budget-friendly adve...</td>\n",
       "      <td>### 3-Day Budget-Friendly Adventure Itinerary ...</td>\n",
       "      <td>relevance_to_preferences=4 detail_and_complete...</td>\n",
       "      <td>relevance_to_preferences=5 detail_and_complete...</td>\n",
       "    </tr>\n",
       "  </tbody>\n",
       "</table>\n",
       "</div>"
      ],
      "text/plain": [
       "        Location Duration                                  Preferences  \\\n",
       "0      Vancouver   5 days      nature, cultural experiences, adventure   \n",
       "1  San Francisco   1 week       family-friendly, shopping, photography   \n",
       "2          Tokyo   1 week                         shopping, relaxation   \n",
       "3      Marrakech   1 week  local cuisine, beach, adventure, relaxation   \n",
       "4  San Francisco   3 days                   budget-friendly, adventure   \n",
       "\n",
       "                                    Simple_Itinerary  \\\n",
       "0  Sure! Here’s a 5-day itinerary for Vancouver, ...   \n",
       "1  Here's a one-week itinerary for a family-frien...   \n",
       "2  Here's a 1-week itinerary for Tokyo that focus...   \n",
       "3  ### 1-Week Itinerary for Marrakech: Focus on L...   \n",
       "4  Certainly! Here’s a 3-day budget-friendly adve...   \n",
       "\n",
       "                                   Complex_Itinerary  \\\n",
       "0  ## 5-Day Itinerary for Nature, Culture, and Ad...   \n",
       "1  ### One-Week Family-Friendly Itinerary for San...   \n",
       "2  Here’s a comprehensive one-week itinerary for ...   \n",
       "3  ### One-Week Itinerary for Marrakech\\n\\n#### O...   \n",
       "4  ### 3-Day Budget-Friendly Adventure Itinerary ...   \n",
       "\n",
       "                                   Simple_Evaluation  \\\n",
       "0  relevance_to_preferences=5 detail_and_complete...   \n",
       "1  relevance_to_preferences=5 detail_and_complete...   \n",
       "2  relevance_to_preferences=5 detail_and_complete...   \n",
       "3  relevance_to_preferences=5 detail_and_complete...   \n",
       "4  relevance_to_preferences=4 detail_and_complete...   \n",
       "\n",
       "                                  Complex_Evaluation  \n",
       "0  relevance_to_preferences=5 detail_and_complete...  \n",
       "1  relevance_to_preferences=5 detail_and_complete...  \n",
       "2  relevance_to_preferences=4 detail_and_complete...  \n",
       "3  relevance_to_preferences=5 detail_and_complete...  \n",
       "4  relevance_to_preferences=5 detail_and_complete...  "
      ]
     },
     "execution_count": 9,
     "metadata": {},
     "output_type": "execute_result"
    }
   ],
   "source": [
    "def evaluate_itineraries(row):\n",
    "    simple_messages = [{\"role\": \"user\", \"content\": evaluation_prompt.format(itinerary=row['Simple_Itinerary'])}]\n",
    "    complex_messages = [{\"role\": \"user\", \"content\": evaluation_prompt.format(itinerary=row['Complex_Itinerary'])}]\n",
    "    \n",
    "    simple_itinerary = client.beta.chat.completions.parse(\n",
    "        model=\"gpt-4o\",\n",
    "        messages=simple_messages,\n",
    "        response_format=ScoreCard)\n",
    "    simple_itinerary = simple_itinerary.choices[0].message.parsed\n",
    "    \n",
    "    complex_itinerary = client.beta.chat.completions.parse(\n",
    "        model=\"gpt-4o\",\n",
    "        messages=complex_messages,\n",
    "        response_format=ScoreCard)\n",
    "    complex_itinerary = complex_itinerary.choices[0].message.parsed\n",
    "    \n",
    "    return simple_itinerary, complex_itinerary\n",
    "\n",
    "# Add new columns to the dataframe for storing evaluations\n",
    "df['Simple_Evaluation'] = None\n",
    "df['Complex_Evaluation'] = None\n",
    "\n",
    "# Use ThreadPoolExecutor to evaluate itineraries concurrently\n",
    "with ThreadPoolExecutor() as executor:\n",
    "    futures = {executor.submit(evaluate_itineraries, row): index for index, row in df.iterrows()}\n",
    "    for future in tqdm(as_completed(futures), total=len(futures), desc=\"Evaluating Itineraries\"):\n",
    "        index = futures[future]\n",
    "        simple_itinerary, complex_itinerary = future.result()\n",
    "        df.at[index, 'Simple_Evaluation'] = simple_itinerary\n",
    "        df.at[index, 'Complex_Evaluation'] = complex_itinerary\n",
    "\n",
    "df.head()"
   ]
  },
  {
   "cell_type": "code",
   "execution_count": 10,
   "metadata": {},
   "outputs": [
    {
     "data": {
      "image/png": "[encoded data removed]",
      "text/plain": [
       "<Figure size 600x400 with 1 Axes>"
      ]
     },
     "metadata": {},
     "output_type": "display_data"
    }
   ],
   "source": [
    "import matplotlib.pyplot as plt\n",
    "\n",
    "df[\"Simple_Scores\"] = df[\"Simple_Evaluation\"].apply(lambda x: [score for key, score in x.model_dump().items() if key != 'justification'])\n",
    "df[\"Complex_Scores\"] = df[\"Complex_Evaluation\"].apply(lambda x: [score for key, score in x.model_dump().items() if key != 'justification'])\n",
    "\n",
    "\n",
    "# Calculate average scores for each criterion\n",
    "criteria = [\n",
    "    'Relevance to Preferences',\n",
    "    'Detail and Completeness',\n",
    "    'Diversity of Activities',\n",
    "    'Feasibility and Practicality',\n",
    "    'Creativity and Uniqueness'\n",
    "]\n",
    "\n",
    "# Calculate average scores for each criterion by model\n",
    "simple_avg_scores = df['Simple_Scores'].apply(pd.Series).mean()\n",
    "complex_avg_scores = df['Complex_Scores'].apply(pd.Series).mean()\n",
    "\n",
    "\n",
    "# Prepare data for plotting\n",
    "avg_scores_df = pd.DataFrame({\n",
    "    'Criteria': criteria,\n",
    "    'Simple Prompt': simple_avg_scores,\n",
    "    'Complex Prompt': complex_avg_scores\n",
    "})\n",
    "\n",
    "# Plotting\n",
    "avg_scores_df.plot(x='Criteria', kind='bar', figsize=(6, 4))\n",
    "plt.ylabel('Average Score')\n",
    "plt.title('Comparison of Simple vs Complex Prompt Performance by Model')\n",
    "plt.xticks(rotation=45, ha='right')\n",
    "plt.tight_layout()\n",
    "plt.show()\n"
   ]
  },
  {
   "cell_type": "markdown",
   "metadata": {},
   "source": [
    "The basic prompt performed well in terms of relevance and diversity, but the complex prompt notably enhanced the completeness and creativity of the itineraries. However, it's worth noting that this is a simplified example, and the benefits of refining prompts are expected to be even more pronounced in real-world, production-level applications."
   ]
  },
  {
   "cell_type": "markdown",
   "metadata": {},
   "source": [
    "## Conclusion\n",
    "\n",
    "By refining our prompts, we can enhance the quality of outputs from a language model. This example demonstrates how adding detail and structure to a prompt leads to more relevant, complete, and creative results. Even though the differences here are small, Metaprompting is a powerful technique that developers can use to build more effective and user-centric applications."
   ]
  }
 ],
 "metadata": {
  "kernelspec": {
   "display_name": "Python 3",
   "language": "python",
   "name": "python3"
  },
  "language_info": {
   "codemirror_mode": {
    "name": "ipython",
    "version": 3
   },
   "file_extension": ".py",
   "mimetype": "text/x-python",
   "name": "python",
   "nbconvert_exporter": "python",
   "pygments_lexer": "ipython3",
   "version": "3.12.1"
  }
 },
 "nbformat": 4,
 "nbformat_minor": 2
}
