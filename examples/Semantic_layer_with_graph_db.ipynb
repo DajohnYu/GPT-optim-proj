{
 "cells": [
  {
   "cell_type": "markdown",
   "id": "73213db3-4cc4-4544-b04b-73b69b4e1dbb",
   "metadata": {},
   "source": [
    "# Semantic layer with a Graph Database\n",
    "\n",
    "This notebook shows how to use LLMs in combination with [Neo4j](https://neo4j.com/), a graph database, to construct a semantic layer of various tools, which an LLM agent can use to interact with a graph database.\n",
    "\n",
    "## Why use a semantic layer?\n",
    "\n",
    "In the realm of leveraging LLMs capabilities for intelligent data interactions, a semantic layer emerges as a reliable approach.\n",
    "This layer, integrated with an LLM agent, offers a robust and dynamic interface for interacting with graph databases.\n",
    "Unlike the traditional approach of directly generating Cypher or other database queries, which often proves to be fragile and brittle, our method leverages Cypher templates combined with dynamically generated input parameters using LLM.\n",
    "This approach significantly enhances robustness and adaptability, making it well-suited for a wide range of applications.\n",
    "\n",
    "## Why Graph Databases?\n",
    "\n",
    "Ideal for data where relationships are crucial, offering advanced insights into connections and correlations.\n",
    "Key Strengths:\n",
    "* Navigating complex hierarchies.\n",
    "* Unveiling hidden connections between data points.\n",
    "* Exploring relationships and correlations.\n",
    "  \n",
    "## Use Cases\n",
    "Graph databases shine in scenarios like:\n",
    "\n",
    "* Recommendation systems.\n",
    "* Social networks.\n",
    "* Fraud detection.\n",
    "* Drug discovery\n",
    "\n",
    "In this notebook, we will build a **movie recommendation chatbot**, designed to both answer queries about movies and offer movie recommendations."
   ]
  },
  {
   "cell_type": "markdown",
   "id": "3105f6da-27e3-4f9d-9d7a-ab999d9e8309",
   "metadata": {},
   "source": [
    "## Setup\n",
    "We will start by installing and importing the relevant libraries.\n",
    "\n",
    "Make sure you have your OpenAI account set up and you have your OpenAI API key handy."
   ]
  },
  {
   "cell_type": "code",
   "execution_count": null,
   "id": "f067b2c3-85d1-4ad2-9b3f-7a657fc1421e",
   "metadata": {},
   "outputs": [],
   "source": [
    "# Optional: run to install the libraries locally if you haven't already\n",
    "!pip3 install langchain\n",
    "!pip3 install openai\n",
    "!pip3 install neo4j"
   ]
  },
  {
   "cell_type": "code",
   "execution_count": 2,
   "id": "554124f8-6fed-4ca6-a1f6-1950a0cf4336",
   "metadata": {},
   "outputs": [],
   "source": [
    "import os\n",
    "import pandas as pd"
   ]
  },
  {
   "cell_type": "code",
   "execution_count": null,
   "id": "b5ce501e-c95e-4af3-97fc-f730b2d9bd00",
   "metadata": {},
   "outputs": [],
   "source": [
    "# Optional: run to load environment variables from a .env file.\n",
    "# This is not required if you have exported your env variables in another way or if you set it manually\n",
    "!pip3 install python-dotenv\n",
    "from dotenv import load_dotenv\n",
    "\n",
    "load_dotenv()\n",
    "\n",
    "# Set the OpenAI API key env variable manually\n",
    "# os.environ[\"OPENAI_API_KEY\"] = \"<your_api_key>\"\n",
    "# print(os.environ[\"OPENAI_API_KEY\"])"
   ]
  },
  {
   "cell_type": "markdown",
   "id": "b34b5e81-451c-4679-b5c2-3263dc9e3917",
   "metadata": {},
   "source": [
    "## Connecting to graph db\n",
    "\n",
    "Make sure your Neo4j database has the [APOC plugin](https://neo4j.com/docs/apoc/current/) installed."
   ]
  },
  {
   "cell_type": "code",
   "execution_count": 4,
   "id": "bacdd2b2-2dab-438c-8a74-1cc965931bfe",
   "metadata": {},
   "outputs": [],
   "source": [
    "# DB credentials\n",
    "url = \"bolt://localhost:7687\"\n",
    "username = \"neo4j\"\n",
    "password = \"<your_password>\""
   ]
  },
  {
   "cell_type": "code",
   "execution_count": 5,
   "id": "8e286c6d-723f-40c8-9d55-dd9f331d72a0",
   "metadata": {},
   "outputs": [],
   "source": [
    "from langchain.graphs import Neo4jGraph\n",
    "\n",
    "graph = Neo4jGraph(url=url, username=username, password=password)"
   ]
  },
  {
   "cell_type": "markdown",
   "id": "a4677f0e-58e2-4d73-a656-bbcb071aa79b",
   "metadata": {},
   "source": [
    "## Dataset\n",
    "We will use a subset of the [MovieLens dataset](https://grouplens.org/datasets/movielens/), which contains 100k ratings of 9000 movies by 600 users.\n",
    "\n",
    "We will then load this data into the graph db to be able to query it.\n",
    "\n",
    "## Loading dataset\n",
    "\n",
    "We will start by defining unique constraints for faster import"
   ]
  },
  {
   "cell_type": "code",
   "execution_count": null,
   "id": "17751f4b-3222-448e-a9ee-76778b50b5c2",
   "metadata": {},
   "outputs": [],
   "source": [
    "graph.query(\"CREATE CONSTRAINT IF NOT EXISTS FOR (m:Movie) REQUIRE m.id IS UNIQUE;\")\n",
    "graph.query(\"CREATE CONSTRAINT IF NOT EXISTS FOR (u:User) REQUIRE u.id IS UNIQUE;\")\n",
    "graph.query(\"CREATE CONSTRAINT IF NOT EXISTS FOR (p:Person) REQUIRE p.name IS UNIQUE;\")\n",
    "graph.query(\"CREATE CONSTRAINT IF NOT EXISTS FOR (g:Genre) REQUIRE g.name IS UNIQUE;\")"
   ]
  },
  {
   "cell_type": "code",
   "execution_count": null,
   "id": "2a3a9c81-8877-4d16-b64f-53406859fbe7",
   "metadata": {},
   "outputs": [],
   "source": [
    "# Import movie information\n",
    "movie_path = \"data/movies/movies.csv\"\n",
    "movie_data = pd.read_csv(movie_path)\n",
    "movies_query = \"\"\"\n",
    "UNWIND $data AS row\n",
    "CALL {\n",
    "    WITH row\n",
    "    MERGE (m:Movie {id:row.movieId})\n",
    "    SET m.released = row.released,\n",
    "        m.title = row.title\n",
    "    FOREACH (director in split(row.director, '|') | \n",
    "        MERGE (p:Person {name:trim(director)})\n",
    "        MERGE (p)-[:DIRECTED]->(m))\n",
    "    FOREACH (actor in split(row.actors, '|') | \n",
    "        MERGE (p:Person {name:trim(actor)})\n",
    "        MERGE (p)-[:ACTED_IN]->(m))\n",
    "    FOREACH (genre in split(row.genres, '|') | \n",
    "        MERGE (g:Genre {name:trim(genre)})\n",
    "        MERGE (m)-[:HAS_GENRE]->(g))\n",
    "} IN TRANSACTIONS\n",
    "\"\"\"\n",
    "\n",
    "graph.query(movies_query, params={\"data\": movie_data.to_dict(\"records\")})"
   ]
  },
  {
   "cell_type": "code",
   "execution_count": null,
   "id": "692b9c31-0bb8-421a-a2df-042be6c66942",
   "metadata": {},
   "outputs": [],
   "source": [
    "# Import rating information\n",
    "rating_path = \"data/movies/ratings.csv\"\n",
    "rating_data = pd.read_csv(rating_path)\n",
    "rating_query = \"\"\"\n",
    "UNWIND $data AS row\n",
    "CALL {\n",
    "    WITH row\n",
    "    MATCH (m:Movie {id:row.movieId})\n",
    "    MERGE (u:User {id:row.userId})\n",
    "    MERGE (u)-[r:RATED]->(m)\n",
    "    SET r.rating = row.rating,\n",
    "        r.timestamp = row.timestamp\n",
    "} IN TRANSACTIONS OF 10000 ROWS\n",
    "\"\"\"\n",
    "\n",
    "graph.query(rating_query, params={\"data\": rating_data.to_dict(\"records\")})"
   ]
  },
  {
   "cell_type": "markdown",
   "id": "9564b709-1a0c-4fa5-bc12-e34c1abb4e27",
   "metadata": {},
   "source": [
    "## Defining fulltext index\n",
    "\n",
    "The fulltext index will be used to map movies or actors from user queries to database.\n",
    "We will create a single fulltext index that covers both **Person** and **Movie** nodes."
   ]
  },
  {
   "cell_type": "code",
   "execution_count": null,
   "id": "4d2ad703-0675-483a-a1d1-3e8963836d84",
   "metadata": {},
   "outputs": [],
   "source": [
    "graph.query(\n",
    "    \"CREATE FULLTEXT INDEX movieOrPerson IF NOT EXISTS FOR (m:Person|Movie) ON EACH [m.title, m.name]\"\n",
    ")"
   ]
  },
  {
   "cell_type": "markdown",
   "id": "5241b86a-bc2f-4072-bf36-ce894a572a8a",
   "metadata": {},
   "source": [
    "## Defining tools\n",
    "\n",
    "A semantic layer consists of various tools an LLM agent can use.\n",
    "These tools are typically accessed through specific function calls, adhering to OpenAI's defined syntax and parameters, allowing the LLM to utilize advanced features and capabilities beyond basic text generation.\n",
    "This functional approach integrates diverse functionalities, enabling the LLM to perform a wide range of tasks in various domains.\n",
    "\n",
    "Int this notebook, we will implement two tools:\n",
    "* Search: Used to find various information about movies and actors\n",
    "* Recommender: Used to recommend movies based on existing preferences\n",
    "\n",
    "### Search tool\n",
    "\n",
    "Search tool uses fulltext index to map movies or actors from user input to a node in the database and return available information."
   ]
  },
  {
   "cell_type": "code",
   "execution_count": 10,
   "id": "cb7e7d3d-12a7-444d-a474-ad258ac621c6",
   "metadata": {},
   "outputs": [],
   "source": [
    "description_query = \"\"\"\n",
    "CALL db.index.fulltext.queryNodes(\"movieOrPerson\", $fulltextQuery) \n",
    "YIELD node AS m\n",
    "WITH m LIMIT 1\n",
    "MATCH (m)-[r:ACTED_IN|DIRECTED|HAS_GENRE]-(t)\n",
    "WITH m, type(r) as type, collect(coalesce(t.name, t.title)) as names\n",
    "WITH m, type+\": \"+reduce(s=\"\", n IN names | s + n + \", \") as types\n",
    "WITH m, collect(types) as contexts\n",
    "WITH m, \"type:\" + labels(m)[0] + \"\\ntitle: \"+ coalesce(m.title, m.name) + \"\\nyear: \"+coalesce(m.released,\"\") +\"\\n\" +\n",
    "       reduce(s=\"\", c in contexts | s + substring(c, 0, size(c)-2) +\"\\n\") as context\n",
    "RETURN context LIMIT 1\n",
    "\"\"\"\n",
    "\n",
    "\n",
    "def generate_full_text_query(input: str) -> str:\n",
    "    full_text_query = \"\"\n",
    "    for word in input.split():\n",
    "        full_text_query += f\" {word}~0.8 OR\"\n",
    "    full_text_query += f' \"{input}\"~7'\n",
    "    return full_text_query\n",
    "\n",
    "\n",
    "def get_information(entity: str) -> str:\n",
    "    data = graph.query(\n",
    "        description_query, params={\"fulltextQuery\": generate_full_text_query(entity)}\n",
    "    )\n",
    "    try:\n",
    "        return data[0][\"context\"]\n",
    "    except:\n",
    "        return \"No information was found about the movie or person in the database\""
   ]
  },
  {
   "cell_type": "code",
   "execution_count": 11,
   "id": "d630f9fb-7739-4836-8d00-2bd073d42580",
   "metadata": {},
   "outputs": [
    {
     "name": "stdout",
     "output_type": "stream",
     "text": [
      "type:Movie\n",
      "title: Matrix, The\n",
      "year: 1999-03-31\n",
      "DIRECTED: Lilly Wachowski, Lana Wachowski\n",
      "ACTED_IN: Carrie-Anne Moss, Keanu Reeves, Hugo Weaving, Laurence Fishburne\n",
      "HAS_GENRE: Sci-Fi, Action, Thriller\n",
      "\n"
     ]
    }
   ],
   "source": [
    "print(get_information(\"Matrix\"))"
   ]
  },
  {
   "cell_type": "markdown",
   "id": "269bcbff-8df4-4023-b707-d51638aaea34",
   "metadata": {},
   "source": [
    "### Recommendation tool\n",
    "\n",
    "In this example, we will use **user-based collaborative filtering** to recommend movies.\n",
    "User-based collaborative filtering is a recommendation technique that leverages user behavior and preferences to suggest items.\n",
    "In this method, the system identifies users with similar tastes and preferences to the active user by comparing their past behaviors, such as movie ratings or purchase history.\n",
    "Based on this similarity, the system then recommends items that these similar users have liked or interacted with but the active user has not yet encountered.\n",
    "\n",
    "Since we lack specific information about the active user's preferences, our approach will be to take the movie provided as input and recommend other movies that have been liked by users who also enjoyed this particular movie."
   ]
  },
  {
   "cell_type": "code",
   "execution_count": 12,
   "id": "f3f17a77-b5f3-432c-9263-c369b0d8af64",
   "metadata": {},
   "outputs": [],
   "source": [
    "recommendation_query = \"\"\"\n",
    "CALL db.index.fulltext.queryNodes(\"movieOrPerson\", $fulltextQuery) \n",
    "YIELD node AS m\n",
    "WHERE m:Movie\n",
    "WITH m \n",
    "LIMIT 1\n",
    "MATCH (m)<-[r1:RATED]-()-[r2:RATED]->(m1)\n",
    "WHERE r1.rating > 3.5 AND r2.rating > 3.5\n",
    "WITH m, m1, count(*) AS count\n",
    "ORDER BY count DESC LIMIT 3\n",
    "RETURN m1.title AS recommendation\n",
    "\"\"\"\n",
    "\n",
    "\n",
    "def recommend_movie(input_movie: str) -> str:\n",
    "    data = graph.query(\n",
    "        recommendation_query,\n",
    "        params={\"fulltextQuery\": generate_full_text_query(input_movie)},\n",
    "    )\n",
    "    try:\n",
    "        return \", \".join([el[\"recommendation\"] for el in data])\n",
    "    except:\n",
    "        return \"I am sorry, but no recommendations were found\""
   ]
  },
  {
   "cell_type": "code",
   "execution_count": 13,
   "id": "72d959e9-8f8c-43d9-91b8-796926831345",
   "metadata": {},
   "outputs": [
    {
     "name": "stdout",
     "output_type": "stream",
     "text": [
      "Pulp Fiction, Shawshank Redemption, The, Forrest Gump\n"
     ]
    }
   ],
   "source": [
    "print(recommend_movie(\"Matrix\"))"
   ]
  },
  {
   "cell_type": "markdown",
   "id": "5d7184f1-9ed6-4601-bf60-f5c5fbb38520",
   "metadata": {},
   "source": [
    "## Creating an agent with LangChain expression language\n",
    "\n",
    "\n",
    "Langchain Expression Language is a powerful tool for defining and manipulating language models and their outputs in complex ways.\n",
    "As a framework, Langchain is particularly useful for implementing agents, enabling more sophisticated and context-aware responses.\n",
    "Utilizing an agent within Langchain, we can interact with a semantic layer atop a graph database, allowing for intricate queries and data manipulation based on natural language inputs, thus bridging the gap between complex data structures and user-friendly interfaces."
   ]
  },
  {
   "cell_type": "code",
   "execution_count": 15,
   "id": "8dde6ffc-787c-42b7-b192-8398b158663b",
   "metadata": {},
   "outputs": [],
   "source": [
    "from langchain.agents import Tool\n",
    "from langchain.tools.render import format_tool_to_openai_function\n",
    "from langchain.chat_models import ChatOpenAI\n",
    "\n",
    "llm = ChatOpenAI(temperature=0, model=\"gpt-3.5-turbo\")\n",
    "\n",
    "tools = [\n",
    "    Tool(\n",
    "        name=\"Search\",\n",
    "        func=get_information,\n",
    "        description=(\n",
    "            \"useful for when you need to answer questions about various actors or movies. \"\n",
    "            \"The input should be particular movie or person\"\n",
    "        ),\n",
    "    ),\n",
    "    Tool(\n",
    "        name=\"Recommender\",\n",
    "        func=recommend_movie,\n",
    "        description=(\n",
    "            \"useful for when you need to recommend a movie based on existing preferences of other movies. \"\n",
    "            \"The input should be a movie title\"\n",
    "        ),\n",
    "    ),\n",
    "]\n",
    "\n",
    "llm_with_tools = llm.bind(functions=[format_tool_to_openai_function(t) for t in tools])"
   ]
  },
  {
   "cell_type": "code",
   "execution_count": 16,
   "id": "26bbb6df-30b8-4c2a-8945-0bc026ebe3e0",
   "metadata": {},
   "outputs": [],
   "source": [
    "from langchain.prompts import ChatPromptTemplate, MessagesPlaceholder\n",
    "from langchain.agents.format_scratchpad import format_to_openai_function_messages\n",
    "from langchain.agents.output_parsers import OpenAIFunctionsAgentOutputParser\n",
    "from langchain.agents import AgentExecutor\n",
    "\n",
    "\n",
    "prompt = ChatPromptTemplate.from_messages(\n",
    "    [\n",
    "        (\n",
    "            \"system\",\n",
    "            \"You are a helpful assistant that finds information about movies and recommends them\",\n",
    "        ),\n",
    "        (\"user\", \"{input}\"),\n",
    "        MessagesPlaceholder(variable_name=\"agent_scratchpad\"),\n",
    "    ]\n",
    ")\n",
    "\n",
    "agent = (\n",
    "    {\n",
    "        \"input\": lambda x: x[\"input\"],\n",
    "        \"agent_scratchpad\": lambda x: format_to_openai_function_messages(\n",
    "            x[\"intermediate_steps\"]\n",
    "        ),\n",
    "    }\n",
    "    | prompt\n",
    "    | llm_with_tools\n",
    "    | OpenAIFunctionsAgentOutputParser()\n",
    ")\n",
    "\n",
    "agent_executor = AgentExecutor(agent=agent, tools=tools, verbose=True)"
   ]
  },
  {
   "cell_type": "code",
   "execution_count": 17,
   "id": "10c1dba6-8fe4-4d23-a64b-cf39c94b42c1",
   "metadata": {},
   "outputs": [
    {
     "name": "stdout",
     "output_type": "stream",
     "text": [
      "\n",
      "\n",
      "\u001b[1m> Entering new AgentExecutor chain...\u001b[0m\n",
      "\u001b[32;1m\u001b[1;3m\n",
      "Invoking: `Search` with `pulp fiction`\n",
      "\n",
      "\n",
      "\u001b[0m\u001b[36;1m\u001b[1;3mtype:Movie\n",
      "title: Pulp Fiction\n",
      "year: 1994-10-14\n",
      "DIRECTED: Quentin Tarantino\n",
      "ACTED_IN: Laura Lovelace, John Travolta, Samuel L. Jackson, Tim Roth\n",
      "HAS_GENRE: Crime, Comedy, Thriller, Drama\n",
      "\u001b[0m\u001b[32;1m\u001b[1;3m\"Pulp Fiction\" is a movie directed by Quentin Tarantino and released on October 14, 1994. It features a star-studded cast including John Travolta, Samuel L. Jackson, Tim Roth, and Laura Lovelace. The movie falls under the genres of crime, comedy, thriller, and drama.\u001b[0m\n",
      "\n",
      "\u001b[1m> Finished chain.\u001b[0m\n"
     ]
    },
    {
     "data": {
      "text/plain": [
       "{'input': 'What do you know about pulp fiction?',\n",
       " 'output': '\"Pulp Fiction\" is a movie directed by Quentin Tarantino and released on October 14, 1994. It features a star-studded cast including John Travolta, Samuel L. Jackson, Tim Roth, and Laura Lovelace. The movie falls under the genres of crime, comedy, thriller, and drama.'}"
      ]
     },
     "execution_count": 17,
     "metadata": {},
     "output_type": "execute_result"
    }
   ],
   "source": [
    "agent_executor.invoke({\"input\": \"What do you know about pulp fiction?\"})"
   ]
  },
  {
   "cell_type": "code",
   "execution_count": 18,
   "id": "ca964caf-8113-4dd5-a48d-ee24b4022278",
   "metadata": {},
   "outputs": [
    {
     "name": "stdout",
     "output_type": "stream",
     "text": [
      "\n",
      "\n",
      "\u001b[1m> Entering new AgentExecutor chain...\u001b[0m\n",
      "\u001b[32;1m\u001b[1;3m\n",
      "Invoking: `Recommender` with `Pulp Fiction`\n",
      "\n",
      "\n",
      "\u001b[0m\u001b[33;1m\u001b[1;3mShawshank Redemption, The, Silence of the Lambs, The, Forrest Gump\u001b[0m\u001b[32;1m\u001b[1;3mI would recommend you to watch \"Shawshank Redemption\", \"Silence of the Lambs\", or \"Forrest Gump\". These movies are highly acclaimed and have a similar level of quality and storytelling as \"Pulp Fiction\". Enjoy!\u001b[0m\n",
      "\n",
      "\u001b[1m> Finished chain.\u001b[0m\n"
     ]
    },
    {
     "data": {
      "text/plain": [
       "{'input': 'I liked pulp fiction. Can you recommend me a similarly good movie?',\n",
       " 'output': 'I would recommend you to watch \"Shawshank Redemption\", \"Silence of the Lambs\", or \"Forrest Gump\". These movies are highly acclaimed and have a similar level of quality and storytelling as \"Pulp Fiction\". Enjoy!'}"
      ]
     },
     "execution_count": 18,
     "metadata": {},
     "output_type": "execute_result"
    }
   ],
   "source": [
    "agent_executor.invoke(\n",
    "    {\"input\": \"I liked pulp fiction. Can you recommend me a similarly good movie?\"}\n",
    ")"
   ]
  },
  {
   "cell_type": "markdown",
   "id": "e1eaf302-1817-4548-9520-17cc9a2c58f0",
   "metadata": {},
   "source": [
    "## Conclusion\n",
    "\n",
    "### Semantic layer\n",
    "\n",
    "In conclusion, the integration of semantic layer over a graph database represents a robust solution in the field of language model interaction and data handling.\n",
    "By moving away from the fragile and brittle method of generating database queries, and instead utilizing query templates with input parameters generated by LLM, this approach offers a more robust and adaptable solution.\n",
    "This methodology allows you complete control over the information and the format of the retrieved data, enabling the implementation of a complex retrieval strategy with diverse and multifaceted options.\n",
    "\n",
    "### Graph database\n",
    "\n",
    "A semantic layer is not unique to a graph database and can be implemented over any other database system or even APIs. However, one advantage of a graph database is that it can handle complex structured and unstructured information in a single database system.\n"
   ]
  },
  {
   "cell_type": "code",
   "execution_count": null,
   "id": "fce98ed5-0688-4ec1-8abb-c4f221c9b74c",
   "metadata": {},
   "outputs": [],
   "source": []
  }
 ],
 "metadata": {
  "kernelspec": {
   "display_name": "python310",
   "language": "python",
   "name": "python310"
  },
  "language_info": {
   "codemirror_mode": {
    "name": "ipython",
    "version": 3
   },
   "file_extension": ".py",
   "mimetype": "text/x-python",
   "name": "python",
   "nbconvert_exporter": "python",
   "pygments_lexer": "ipython3",
   "version": "3.10.13"
  }
 },
 "nbformat": 4,
 "nbformat_minor": 5
}
