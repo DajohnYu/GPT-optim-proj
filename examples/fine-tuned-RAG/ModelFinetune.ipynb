{
 "cells": [
  {
   "attachments": {},
   "cell_type": "markdown",
   "metadata": {},
   "source": [
    "# Finetuning for RAG\n",
    "\n",
    "\n",
    "\n",
    "Here, we'll take you through the process, complete with code examples, to help you fine-tune your OpenAI model for usage with RAG like a pro.\n",
    "\n",
    "\n",
    "\n",
    "To begin, we've selected a dataset where we've a guarantee that the retrieval is perfect. We've selected a subset of the [SQuAD](https://rajpurkar.github.io/SQuAD-explorer/) dataset, which is a collection of questions and answers about Wikipedia articles. We've also included samples where the answer is not present in the context, to demonstrate how RAG handles this case.\n",
    "\n",
    "## Table of Contents\n",
    "1. Setting up the Environment\n",
    "2. Data Preparation\n",
    "3. Running the Model\n",
    "4. Evaluation\n",
    "5. Fine-Tuning\n",
    "6. Comparison"
   ]
  },
  {
   "attachments": {},
   "cell_type": "markdown",
   "metadata": {},
   "source": [
    "## Setting Up\n",
    "\n",
    "### Install and Import Dependencies"
   ]
  },
  {
   "cell_type": "code",
   "execution_count": 1,
   "metadata": {},
   "outputs": [],
   "source": [
    "# !pip install pandas openai tqdm tenacity pandarallel scikit-learn tiktoken"
   ]
  },
  {
   "cell_type": "code",
   "execution_count": 2,
   "metadata": {},
   "outputs": [],
   "source": [
    "import json\n",
    "import os\n",
    "import time\n",
    "\n",
    "import pandas as pd\n",
    "import openai\n",
    "from tenacity import retry, wait_exponential\n",
    "from tqdm import tqdm\n",
    "import numpy as np\n",
    "\n",
    "tqdm.pandas()\n",
    "openai.api_key = os.getenv(\"OPENAI_API_KEY\")"
   ]
  },
  {
   "attachments": {},
   "cell_type": "markdown",
   "metadata": {},
   "source": [
    "## Loading the Data\n",
    "\n",
    "Load your data and take a quick look at the first few rows. Notice that we've included a few samples where the answer is not present in the context."
   ]
  },
  {
   "cell_type": "code",
   "execution_count": 3,
   "metadata": {},
   "outputs": [],
   "source": [
    "df = pd.read_json(\"v2_1K_Seed=37_sample.json\", lines=True)"
   ]
  },
  {
   "cell_type": "code",
   "execution_count": 4,
   "metadata": {},
   "outputs": [
    {
     "data": {
      "text/html": [
       "<div>\n",
       "<style scoped>\n",
       "    .dataframe tbody tr th:only-of-type {\n",
       "        vertical-align: middle;\n",
       "    }\n",
       "\n",
       "    .dataframe tbody tr th {\n",
       "        vertical-align: top;\n",
       "    }\n",
       "\n",
       "    .dataframe thead th {\n",
       "        text-align: right;\n",
       "    }\n",
       "</style>\n",
       "<table border=\"1\" class=\"dataframe\">\n",
       "  <thead>\n",
       "    <tr style=\"text-align: right;\">\n",
       "      <th></th>\n",
       "      <th>title</th>\n",
       "      <th>question</th>\n",
       "      <th>context</th>\n",
       "      <th>is_impossible</th>\n",
       "      <th>answers</th>\n",
       "    </tr>\n",
       "  </thead>\n",
       "  <tbody>\n",
       "    <tr>\n",
       "      <th>0</th>\n",
       "      <td>Southern_California</td>\n",
       "      <td>What is the United State's second-busiest comm...</td>\n",
       "      <td>Southern California is also home to the Port o...</td>\n",
       "      <td>True</td>\n",
       "      <td>[]</td>\n",
       "    </tr>\n",
       "    <tr>\n",
       "      <th>1</th>\n",
       "      <td>Jacksonville,_Florida</td>\n",
       "      <td>Who did Jacksonville support with supplies dur...</td>\n",
       "      <td>During the American Civil War, Jacksonville wa...</td>\n",
       "      <td>True</td>\n",
       "      <td>[]</td>\n",
       "    </tr>\n",
       "    <tr>\n",
       "      <th>2</th>\n",
       "      <td>Imperialism</td>\n",
       "      <td>colonial rule would not be considered what typ...</td>\n",
       "      <td>Imperialism is defined as \"A policy of extendi...</td>\n",
       "      <td>True</td>\n",
       "      <td>[]</td>\n",
       "    </tr>\n",
       "    <tr>\n",
       "      <th>3</th>\n",
       "      <td>Intergovernmental_Panel_on_Climate_Change</td>\n",
       "      <td>Where are dissenting opinions published?</td>\n",
       "      <td>Michael Oppenheimer, a long-time participant i...</td>\n",
       "      <td>True</td>\n",
       "      <td>[]</td>\n",
       "    </tr>\n",
       "    <tr>\n",
       "      <th>4</th>\n",
       "      <td>Southern_California</td>\n",
       "      <td>How many people does the Greater Los Angeles A...</td>\n",
       "      <td>Southern California includes the heavily built...</td>\n",
       "      <td>False</td>\n",
       "      <td>[17.5 million, over 17.5 million, 17.5 million]</td>\n",
       "    </tr>\n",
       "  </tbody>\n",
       "</table>\n",
       "</div>"
      ],
      "text/plain": [
       "                                       title  \\\n",
       "0                        Southern_California   \n",
       "1                      Jacksonville,_Florida   \n",
       "2                                Imperialism   \n",
       "3  Intergovernmental_Panel_on_Climate_Change   \n",
       "4                        Southern_California   \n",
       "\n",
       "                                            question  \\\n",
       "0  What is the United State's second-busiest comm...   \n",
       "1  Who did Jacksonville support with supplies dur...   \n",
       "2  colonial rule would not be considered what typ...   \n",
       "3           Where are dissenting opinions published?   \n",
       "4  How many people does the Greater Los Angeles A...   \n",
       "\n",
       "                                             context  is_impossible  \\\n",
       "0  Southern California is also home to the Port o...           True   \n",
       "1  During the American Civil War, Jacksonville wa...           True   \n",
       "2  Imperialism is defined as \"A policy of extendi...           True   \n",
       "3  Michael Oppenheimer, a long-time participant i...           True   \n",
       "4  Southern California includes the heavily built...          False   \n",
       "\n",
       "                                           answers  \n",
       "0                                               []  \n",
       "1                                               []  \n",
       "2                                               []  \n",
       "3                                               []  \n",
       "4  [17.5 million, over 17.5 million, 17.5 million]  "
      ]
     },
     "execution_count": 4,
     "metadata": {},
     "output_type": "execute_result"
    }
   ],
   "source": [
    "df.head()"
   ]
  },
  {
   "attachments": {},
   "cell_type": "markdown",
   "metadata": {},
   "source": [
    "## Using the OpenAI Model for Question Answering\n",
    "\n",
    "### Prompt, API Call, and Answer\n",
    "Create functions to get prompt messages and make API calls:"
   ]
  },
  {
   "cell_type": "code",
   "execution_count": 30,
   "metadata": {},
   "outputs": [],
   "source": [
    "# Function to get prompt messages\n",
    "def get_prompt(row):\n",
    "    return [\n",
    "        {\"role\": \"system\", \"content\": \"You are a helpful assistant.\"},\n",
    "        {\n",
    "            \"role\": \"user\",\n",
    "            \"content\": f\"\"\"Answer the following Question based on the Context only. Only answer from the Context. If you don't know the answer, say 'I don't know'.\n",
    "    Question: {row.question}\\n\\n\n",
    "    Context: {row.context}\\n\\n\n",
    "    Answer:\\n\"\"\",\n",
    "        },\n",
    "    ]\n",
    "\n",
    "\n",
    "# Function with tenacity for retries\n",
    "@retry(wait=wait_exponential(multiplier=1, min=2, max=6))\n",
    "def api_call(messages, model):\n",
    "    return openai.ChatCompletion.create(\n",
    "        model=model,\n",
    "        messages=messages,\n",
    "        stop=[\"\\n\\n\"],\n",
    "        max_tokens=100,\n",
    "        temperature=0.0,\n",
    "    )\n",
    "\n",
    "\n",
    "# Main function to answer question\n",
    "def answer_question(row, model=\"gpt-3.5-turbo-0613\"):\n",
    "    messages = get_prompt(row)\n",
    "    response = api_call(messages, model)\n",
    "    return response[\"choices\"][0][\"message\"][\"content\"]"
   ]
  },
  {
   "attachments": {},
   "cell_type": "markdown",
   "metadata": {},
   "source": [
    "### Running the model"
   ]
  },
  {
   "cell_type": "code",
   "execution_count": null,
   "metadata": {},
   "outputs": [],
   "source": [
    "# Use progress_apply with tqdm for progress bar\n",
    "df[\"generated_answer\"] = df.progress_apply(answer_question, axis=1)"
   ]
  },
  {
   "cell_type": "code",
   "execution_count": 8,
   "metadata": {},
   "outputs": [],
   "source": [
    "# Optionally, save the results to a JSON file\n",
    "# df.to_json(\"1K_with_generated_answers.json\", lines=True, orient=\"records\") # Save to JSON"
   ]
  },
  {
   "attachments": {},
   "cell_type": "markdown",
   "metadata": {},
   "source": [
    "## Evaluation\n",
    "\n",
    "To evaluate the model's performance, compare the predicted answer to the actual answers -- if any of the actual answers are present in the predicted answer, then it's a match. We've also created error categories to help you understand where the model is struggling.\n",
    "\n",
    "1. Expected and Right: The model responsded the correct answer. It may have also included other answers that were not in the context.\n",
    "2. Expected but \"IDK\": The model responded with \"I don't know\" (IDK) while the answer was present in the context. *This is a model error* and better than giving the wrong answer. We exclude this from the overall error rate.\n",
    "3. Expected but Wrong: The model responded with an incorrect answer. *This is a model ERROR.*\n",
    "4. Hallucination: The model responded with an answer, when \"I don't know\" was expected. **This is a model error.** \n",
    "5. Did not expect and IDK: The model responded with \"I don't know\" (IDK) and the answer was not present in the context. *This is a model WIN.*"
   ]
  },
  {
   "cell_type": "code",
   "execution_count": 5,
   "metadata": {},
   "outputs": [],
   "source": [
    "class ConfusionMatrixEvaluator:\n",
    "    def __init__(self, df, answers_column=\"generated_answer\"):\n",
    "        self.df = df\n",
    "        self.y_pred = []\n",
    "        self.labels = [\n",
    "            \"Expected and Right\",\n",
    "            \"Expected but IDK\",\n",
    "            \"Expected but Wrong\",\n",
    "            \"Hallucination\",\n",
    "            \"Did not Expect and IDK\",\n",
    "        ]\n",
    "        self.answers_column = answers_column\n",
    "\n",
    "    def _evaluate_single_row(self, row):\n",
    "        is_impossible = row[\"is_impossible\"]\n",
    "        generated_answer = row[self.answers_column].lower()\n",
    "        actual_answers = [ans.lower() for ans in row[\"answers\"]]\n",
    "\n",
    "        y_pred = (\n",
    "            \"Expected and Right\"\n",
    "            if not is_impossible\n",
    "            and any(ans in generated_answer for ans in actual_answers)\n",
    "            else \"Expected but IDK\"\n",
    "            if not is_impossible and generated_answer == \"i don't know\"\n",
    "            else \"Expected but Wrong\"\n",
    "            if not is_impossible and generated_answer not in actual_answers\n",
    "            else \"Hallucination\"\n",
    "            if is_impossible and generated_answer != \"i don't know\"\n",
    "            else \"Did not Expect and IDK\"\n",
    "        )\n",
    "        return y_pred\n",
    "\n",
    "    def evaluate_answers(self):\n",
    "        self.y_pred = self.df.apply(self._evaluate_single_row, axis=1)\n",
    "\n",
    "    def generate_matrices(self, use_percentages=False):\n",
    "        # Using value_counts to create a Series of frequencies, then reindexing to include missing labels with count 0\n",
    "        freq_series = self.y_pred.value_counts().reindex(self.labels, fill_value=0)\n",
    "        if use_percentages:\n",
    "            total = freq_series.sum()\n",
    "            freq_series = (freq_series / total * 100).apply(\"{0:.2f}%\".format)\n",
    "        return freq_series\n",
    "\n",
    "\n",
    "evaluator = ConfusionMatrixEvaluator(df, answers_column=\"generated_answer\")\n",
    "evaluator.evaluate_answers()\n",
    "error_categories = evaluator.generate_matrices(use_percentages=True)\n",
    "error_categories"
   ]
  },
  {
   "attachments": {},
   "cell_type": "markdown",
   "metadata": {},
   "source": [
    "## Fine-Tuning\n",
    "\n",
    "### Prepare the Fine-Tuning Data"
   ]
  },
  {
   "cell_type": "code",
   "execution_count": 31,
   "metadata": {},
   "outputs": [
    {
     "name": "stderr",
     "output_type": "stream",
     "text": [
      "100%|██████████| 1000/1000 [00:00<00:00, 59898.09it/s]\n"
     ]
    }
   ],
   "source": [
    "def dataframe_to_jsonl(df):\n",
    "    def create_jsonl_entry(row):\n",
    "        answer = row[\"answers\"][0] if row[\"answers\"] else \"I don't know\"\n",
    "        messages = [\n",
    "            {\"role\": \"system\", \"content\": \"You are a helpful assistant.\"},\n",
    "            {\n",
    "                \"role\": \"user\",\n",
    "                \"content\": f\"\"\"Answer the following Question based on the Context only. Only answer from the Context. If you don't know the answer, say 'I don't know'.\n",
    "            Question: {row.question}\\n\\n\n",
    "            Context: {row.context}\\n\\n\n",
    "            Answer:\\n\"\"\",\n",
    "            },\n",
    "            {\"role\": \"assistant\", \"content\": answer},\n",
    "        ]\n",
    "        return json.dumps({\"messages\": messages})\n",
    "\n",
    "    jsonl_output = df.progress_apply(create_jsonl_entry, axis=1)\n",
    "    return \"\\n\".join(jsonl_output)\n",
    "\n",
    "\n",
    "with open(\"squad-stratified-1000-ft-v2.json\", \"w\") as f:\n",
    "    f.write(dataframe_to_jsonl(df))"
   ]
  },
  {
   "attachments": {},
   "cell_type": "markdown",
   "metadata": {},
   "source": [
    "### [Optional] Verify the Fine-Tuning Data\n",
    "\n",
    "The script below will verify that the data is in the format that OpenAI expects."
   ]
  },
  {
   "cell_type": "code",
   "execution_count": 12,
   "metadata": {},
   "outputs": [],
   "source": [
    "# # We start by importing the required packages\n",
    "\n",
    "# import json\n",
    "# import os\n",
    "\n",
    "# # Next, we specify the data path and open the JSONL file\n",
    "\n",
    "# data_path = \"squad-stratified-100-ft-v1.json\"\n",
    "\n",
    "# # Load dataset\n",
    "# with open(data_path) as f:\n",
    "#     dataset = [json.loads(line) for line in f]\n",
    "\n",
    "# # We can inspect the data quickly by checking the number of examples and the first item\n",
    "\n",
    "# # Initial dataset stats\n",
    "# print(\"Num examples:\", len(dataset))\n",
    "# print(\"First example:\")\n",
    "# for message in dataset[0][\"messages\"]:\n",
    "#     print(message)\n",
    "\n",
    "# # Now that we have a sense of the data, we need to go through all the different examples and check to make sure the formatting is correct and matches the Chat completions message structure\n",
    "\n",
    "# # Format error checks\n",
    "# format_errors = defaultdict(int)\n",
    "\n",
    "# for ex in dataset:\n",
    "#     if not isinstance(ex, dict):\n",
    "#         format_errors[\"data_type\"] += 1\n",
    "#         continue\n",
    "\n",
    "#     messages = ex.get(\"messages\", None)\n",
    "#     if not messages:\n",
    "#         format_errors[\"missing_messages_list\"] += 1\n",
    "#         continue\n",
    "\n",
    "#     for message in messages:\n",
    "#         if \"role\" not in message or \"content\" not in message:\n",
    "#             format_errors[\"message_missing_key\"] += 1\n",
    "\n",
    "#         if any(k not in (\"role\", \"content\", \"name\") for k in message):\n",
    "#             format_errors[\"message_unrecognized_key\"] += 1\n",
    "\n",
    "#         if message.get(\"role\", None) not in (\"system\", \"user\", \"assistant\"):\n",
    "#             format_errors[\"unrecognized_role\"] += 1\n",
    "\n",
    "#         content = message.get(\"content\", None)\n",
    "#         if not content or not isinstance(content, str):\n",
    "#             format_errors[\"missing_content\"] += 1\n",
    "\n",
    "#     if not any(message.get(\"role\", None) == \"assistant\" for message in messages):\n",
    "#         format_errors[\"example_missing_assistant_message\"] += 1\n",
    "\n",
    "# if format_errors:\n",
    "#     print(\"Found errors:\")\n",
    "#     for k, v in format_errors.items():\n",
    "#         print(f\"{k}: {v}\")\n",
    "# else:\n",
    "#     print(\"No errors found\")\n",
    "\n",
    "# # Beyond the structure of the message, we also need to ensure that the length does not exceed the 4096 token limit.\n",
    "\n",
    "# # Token counting functions\n",
    "# encoding = tiktoken.get_encoding(\"cl100k_base\")\n",
    "\n",
    "# # not exact!\n",
    "# # simplified from https://github.com/openai/openai-cookbook/blob/main/examples/How_to_count_tokens_with_tiktoken.ipynb\n",
    "# def num_tokens_from_messages(messages, tokens_per_message=3, tokens_per_name=1):\n",
    "#     num_tokens = 0\n",
    "#     for message in messages:\n",
    "#         num_tokens += tokens_per_message\n",
    "#         for key, value in message.items():\n",
    "#             num_tokens += len(encoding.encode(value))\n",
    "#             if key == \"name\":\n",
    "#                 num_tokens += tokens_per_name\n",
    "#     num_tokens += 3\n",
    "#     return num_tokens\n",
    "\n",
    "# def num_assistant_tokens_from_messages(messages):\n",
    "#     num_tokens = 0\n",
    "#     for message in messages:\n",
    "#         if message[\"role\"] == \"assistant\":\n",
    "#             num_tokens += len(encoding.encode(message[\"content\"]))\n",
    "#     return num_tokens\n",
    "\n",
    "# def print_distribution(values, name):\n",
    "#     print(f\"\\n#### Distribution of {name}:\")\n",
    "#     print(f\"min / max: {min(values)}, {max(values)}\")\n",
    "#     print(f\"mean / median: {np.mean(values)}, {np.median(values)}\")\n",
    "#     print(f\"p5 / p95: {np.quantile(values, 0.1)}, {np.quantile(values, 0.9)}\")\n",
    "\n",
    "# # Last, we can look at the results of the different formatting operations before proceeding with creating a fine-tuning job:\n",
    "\n",
    "# # Warnings and tokens counts\n",
    "# n_missing_system = 0\n",
    "# n_missing_user = 0\n",
    "# n_messages = []\n",
    "# convo_lens = []\n",
    "# assistant_message_lens = []\n",
    "\n",
    "# for ex in dataset:\n",
    "#     messages = ex[\"messages\"]\n",
    "#     if not any(message[\"role\"] == \"system\" for message in messages):\n",
    "#         n_missing_system += 1\n",
    "#     if not any(message[\"role\"] == \"user\" for message in messages):\n",
    "#         n_missing_user += 1\n",
    "#     n_messages.append(len(messages))\n",
    "#     convo_lens.append(num_tokens_from_messages(messages))\n",
    "#     assistant_message_lens.append(num_assistant_tokens_from_messages(messages))\n",
    "\n",
    "# print(\"Num examples missing system message:\", n_missing_system)\n",
    "# print(\"Num examples missing user message:\", n_missing_user)\n",
    "# print_distribution(n_messages, \"num_messages_per_example\")\n",
    "# print_distribution(convo_lens, \"num_total_tokens_per_example\")\n",
    "# print_distribution(assistant_message_lens, \"num_assistant_tokens_per_example\")\n",
    "# n_too_long = sum(l > 4096 for l in convo_lens)\n",
    "# print(f\"\\n{n_too_long} examples may be over the 4096 token limit, they will be truncated during fine-tuning\")\n",
    "\n",
    "# # Pricing and default n_epochs estimate\n",
    "# MAX_TOKENS_PER_EXAMPLE = 4096\n",
    "\n",
    "# MIN_TARGET_EXAMPLES = 100\n",
    "# MAX_TARGET_EXAMPLES = 25000\n",
    "# TARGET_EPOCHS = 3\n",
    "# MIN_EPOCHS = 1\n",
    "# MAX_EPOCHS = 25\n",
    "\n",
    "# n_epochs = TARGET_EPOCHS\n",
    "# n_train_examples = len(dataset)\n",
    "# if n_train_examples * TARGET_EPOCHS < MIN_TARGET_EXAMPLES:\n",
    "#     n_epochs = min(MAX_EPOCHS, MIN_TARGET_EXAMPLES // n_train_examples)\n",
    "# elif n_train_examples * TARGET_EPOCHS > MAX_TARGET_EXAMPLES:\n",
    "#     n_epochs = max(MIN_EPOCHS, MAX_TARGET_EXAMPLES // n_train_examples)\n",
    "\n",
    "# n_billing_tokens_in_dataset = sum(min(MAX_TOKENS_PER_EXAMPLE, length) for length in convo_lens)\n",
    "# print(f\"Dataset has ~{n_billing_tokens_in_dataset} tokens that will be charged for during training\")\n",
    "# print(f\"By default, you'll train for {n_epochs} epochs on this dataset\")\n",
    "# print(f\"By default, you'll be charged for ~{n_epochs * n_billing_tokens_in_dataset} tokens\")\n",
    "# print(\"See pricing page to estimate total costs\")"
   ]
  },
  {
   "attachments": {},
   "cell_type": "markdown",
   "metadata": {},
   "source": [
    "### Push the Fine-Tuning data to OpenAI"
   ]
  },
  {
   "cell_type": "code",
   "execution_count": 16,
   "metadata": {},
   "outputs": [
    {
     "data": {
      "text/plain": [
       "<File file id=file-TjkDD0C39b4S1JZstMly98pv at 0x106297bd0> JSON: {\n",
       "  \"object\": \"file\",\n",
       "  \"id\": \"file-TjkDD0C39b4S1JZstMly98pv\",\n",
       "  \"purpose\": \"fine-tune\",\n",
       "  \"filename\": \"file\",\n",
       "  \"bytes\": 131291,\n",
       "  \"created_at\": 1693836561,\n",
       "  \"status\": \"uploaded\",\n",
       "  \"status_details\": null\n",
       "}"
      ]
     },
     "execution_count": 16,
     "metadata": {},
     "output_type": "execute_result"
    }
   ],
   "source": [
    "file_object = openai.File.create(\n",
    "    file=open(\"squad-stratified-100-ft-v1.json\", \"r\"),\n",
    "    purpose=\"fine-tune\",\n",
    ")\n",
    "\n",
    "while file_object[\"status\"] != \"processed\":\n",
    "    file_object = openai.File.retrieve(file_object[\"id\"])\n",
    "    time.sleep(5)"
   ]
  },
  {
   "attachments": {},
   "cell_type": "markdown",
   "metadata": {},
   "source": [
    "### Create Fine Tuning Job"
   ]
  },
  {
   "cell_type": "code",
   "execution_count": 19,
   "metadata": {},
   "outputs": [],
   "source": [
    "ft_job = openai.FineTuningJob.create(\n",
    "    training_file=file_object[\"id\"], model=\"gpt-3.5-turbo\", suffix=\"v1\"\n",
    ")\n",
    "while openai.FineTuningJob.retrieve(ft_job[\"id\"]).fine_tuned_model is None:\n",
    "    time.sleep(10)"
   ]
  },
  {
   "cell_type": "code",
   "execution_count": 26,
   "metadata": {},
   "outputs": [],
   "source": [
    "model_id = openai.FineTuningJob.retrieve(ft_job[\"id\"]).fine_tuned_model"
   ]
  },
  {
   "attachments": {},
   "cell_type": "markdown",
   "metadata": {},
   "source": [
    "### Try out the Fine-Tuned Model"
   ]
  },
  {
   "cell_type": "code",
   "execution_count": 29,
   "metadata": {},
   "outputs": [
    {
     "name": "stdout",
     "output_type": "stream",
     "text": [
      "{\n",
      "  \"role\": \"assistant\",\n",
      "  \"content\": \"I don't know\"\n",
      "}\n"
     ]
    }
   ],
   "source": [
    "completion = openai.ChatCompletion.create(\n",
    "    model=model_id,\n",
    "    messages=[\n",
    "        {\"role\": \"system\", \"content\": \"You are a helpful assistant.\"},\n",
    "        {\"role\": \"user\", \"content\": \"Hello!\"},\n",
    "        {\"role\": \"assistant\", \"content\": \"Hi, how can I help you today?\"},\n",
    "        {\n",
    "            \"role\": \"user\",\n",
    "            \"content\": \"Can you answer the following question based on the given context? If not, say, I don't know:\\n\\nQuestion: What is the capital of France?\\n\\nContext: The capital of Mars is Gaia. Answer:\",\n",
    "        },\n",
    "    ],\n",
    ")\n",
    "\n",
    "print(completion.choices[0].message)"
   ]
  },
  {
   "attachments": {},
   "cell_type": "markdown",
   "metadata": {},
   "source": [
    "## Comparison\n",
    "\n",
    "### Get Answers from the Fine-Tuned Model"
   ]
  },
  {
   "cell_type": "code",
   "execution_count": 32,
   "metadata": {},
   "outputs": [
    {
     "name": "stderr",
     "output_type": "stream",
     "text": [
      "100%|██████████| 1000/1000 [12:14<00:00,  1.36it/s] \n"
     ]
    }
   ],
   "source": [
    "df[\"ft_generated_answer\"] = df.progress_apply(answer_question, model=model_id, axis=1)"
   ]
  },
  {
   "cell_type": "code",
   "execution_count": 38,
   "metadata": {},
   "outputs": [
    {
     "data": {
      "text/plain": [
       "Expected and Right        30.10%\n",
       "Expected but IDK          15.20%\n",
       "Expected but Wrong         5.00%\n",
       "Hallucination              7.10%\n",
       "Did not Expect and IDK    42.60%\n",
       "Name: count, dtype: object"
      ]
     },
     "execution_count": 38,
     "metadata": {},
     "output_type": "execute_result"
    }
   ],
   "source": [
    "# Initialize the evaluator\n",
    "finetuned_model_evaluator = ConfusionMatrixEvaluator(\n",
    "    df, answers_column=\"ft_generated_answer\"\n",
    ")\n",
    "\n",
    "# Run the evaluation\n",
    "finetuned_model_evaluator.evaluate_answers()\n",
    "finetuned_model_error_categories = finetuned_model_evaluator.generate_matrices(\n",
    "    use_percentages=True\n",
    ")\n",
    "finetuned_model_error_categories"
   ]
  },
  {
   "cell_type": "code",
   "execution_count": 2,
   "metadata": {},
   "outputs": [],
   "source": [
    "# Optionally, save the results to a JSON file\n",
    "# df.to_json(\"1K_with_ft_generated_answers.json\", lines=True, orient=\"records\")"
   ]
  },
  {
   "attachments": {},
   "cell_type": "markdown",
   "metadata": {},
   "source": [
    "### Plotting the Results"
   ]
  },
  {
   "cell_type": "code",
   "execution_count": 8,
   "metadata": {},
   "outputs": [
    {
     "data": {
      "image/png": "[encoded data removed]",
      "text/plain": [
       "<Figure size 640x480 with 1 Axes>"
      ]
     },
     "metadata": {},
     "output_type": "display_data"
    }
   ],
   "source": [
    "# Importing required libraries for plotting\n",
    "import matplotlib.pyplot as plt\n",
    "import numpy as np\n",
    "\n",
    "\n",
    "def evaluate_matrix(df, answers_column):\n",
    "    \"\"\"\n",
    "    Evaluate the confusion matrix for a given DataFrame and answer column.\n",
    "    \"\"\"\n",
    "    evaluator = ConfusionMatrixEvaluator(df, answers_column=answers_column)\n",
    "    evaluator.evaluate_answers()\n",
    "    matrix = evaluator.generate_matrices(use_percentages=True)\n",
    "    return matrix\n",
    "\n",
    "\n",
    "def plot_overall_error(matrix1, matrix2, label1, label2):\n",
    "    \"\"\"\n",
    "    Plot a bar chart showing only the overall error between two confusion matrices.\n",
    "    \"\"\"\n",
    "    # Calculate overall error\n",
    "    error_categories = [\"Expected but Wrong\", \"Hallucination\"]\n",
    "    matrix1_error = sum(\n",
    "        [float(matrix1.loc[cat].replace(\"%\", \"\")) for cat in error_categories]\n",
    "    )\n",
    "    matrix2_error = sum(\n",
    "        [float(matrix2.loc[cat].replace(\"%\", \"\")) for cat in error_categories]\n",
    "    )\n",
    "\n",
    "    labels = [\"Overall Error\"]\n",
    "    matrix1_values = [matrix1_error]\n",
    "    matrix2_values = [matrix2_error]\n",
    "\n",
    "    x = np.arange(len(labels))\n",
    "    width = 0.35\n",
    "\n",
    "    fig, ax = plt.subplots()\n",
    "    ax.bar(x - width / 2, matrix1_values, width, label=label1)\n",
    "    ax.bar(x + width / 2, matrix2_values, width, label=label2)\n",
    "\n",
    "    ax.set_ylabel(\"Error (%) - Lower is Better\")\n",
    "    ax.set_title(\"Comparison between {} and {}\".format(label1, label2))\n",
    "    ax.set_xticks(x)\n",
    "    ax.set_xticklabels(labels)\n",
    "    ax.legend()\n",
    "\n",
    "    fig.tight_layout()\n",
    "    plt.show()\n",
    "\n",
    "\n",
    "matrix_plain = evaluate_matrix(df, \"generated_answer\")\n",
    "matrix_ft = evaluate_matrix(df, \"ft_generated_answer\")\n",
    "# Plot only the overall error\n",
    "plot_overall_error(matrix_plain, matrix_ft, \"gpt-3.5-turbo-0613\", \"Fine Tuned\")"
   ]
  },
  {
   "attachments": {},
   "cell_type": "markdown",
   "metadata": {},
   "source": [
    "# Few Shot Learning with Qdrant to Improve RAG\n",
    "\n",
    "So far, we've been using the OpenAI model to answer questions where the answer is present in the context. But what if we want to answer questions where the answer is not present in the context? This is where few-shot learning comes in. Few-shot learning is a type of transfer learning that allows us to answer questions where the answer is not present in the context. We can do this by providing a few examples of the answer we're looking for, and the model will learn to answer questions where the answer is not present in the context."
   ]
  },
  {
   "attachments": {},
   "cell_type": "markdown",
   "metadata": {},
   "source": [
    "## Few Shot Prompting\n",
    "\n",
    "We'll select a few examples from the dataset, including cases where the answer is not present in the context. We'll then use these examples to create a prompt that we can use to fine-tune the model.\n",
    "\n",
    "We'll measure the baseline on our previous 1K dataset, and then we'll fine-tune the model on the new dataset. We'll then measure the performance of the fine-tuned model on the same 1K dataset.\n",
    "\n",
    "### Get the Training Data"
   ]
  },
  {
   "cell_type": "code",
   "execution_count": 1,
   "metadata": {},
   "outputs": [],
   "source": [
    "# !wget https://rajpurkar.github.io/SQuAD-explorer/dataset/train-v2.0.json -O train.json"
   ]
  },
  {
   "cell_type": "code",
   "execution_count": 2,
   "metadata": {},
   "outputs": [
    {
     "data": {
      "text/html": [
       "<div>\n",
       "<style scoped>\n",
       "    .dataframe tbody tr th:only-of-type {\n",
       "        vertical-align: middle;\n",
       "    }\n",
       "\n",
       "    .dataframe tbody tr th {\n",
       "        vertical-align: top;\n",
       "    }\n",
       "\n",
       "    .dataframe thead th {\n",
       "        text-align: right;\n",
       "    }\n",
       "</style>\n",
       "<table border=\"1\" class=\"dataframe\">\n",
       "  <thead>\n",
       "    <tr style=\"text-align: right;\">\n",
       "      <th></th>\n",
       "      <th>title</th>\n",
       "      <th>question</th>\n",
       "      <th>context</th>\n",
       "      <th>is_impossible</th>\n",
       "      <th>answers</th>\n",
       "    </tr>\n",
       "  </thead>\n",
       "  <tbody>\n",
       "    <tr>\n",
       "      <th>0</th>\n",
       "      <td>Beyoncé</td>\n",
       "      <td>When did Beyonce start becoming popular?</td>\n",
       "      <td>Beyoncé Giselle Knowles-Carter (/biːˈjɒnseɪ/ b...</td>\n",
       "      <td>False</td>\n",
       "      <td>[in the late 1990s]</td>\n",
       "    </tr>\n",
       "    <tr>\n",
       "      <th>1</th>\n",
       "      <td>Beyoncé</td>\n",
       "      <td>What areas did Beyonce compete in when she was...</td>\n",
       "      <td>Beyoncé Giselle Knowles-Carter (/biːˈjɒnseɪ/ b...</td>\n",
       "      <td>False</td>\n",
       "      <td>[singing and dancing]</td>\n",
       "    </tr>\n",
       "    <tr>\n",
       "      <th>2</th>\n",
       "      <td>Beyoncé</td>\n",
       "      <td>When did Beyonce leave Destiny's Child and bec...</td>\n",
       "      <td>Beyoncé Giselle Knowles-Carter (/biːˈjɒnseɪ/ b...</td>\n",
       "      <td>False</td>\n",
       "      <td>[2003]</td>\n",
       "    </tr>\n",
       "    <tr>\n",
       "      <th>3</th>\n",
       "      <td>Beyoncé</td>\n",
       "      <td>In what city and state did Beyonce  grow up?</td>\n",
       "      <td>Beyoncé Giselle Knowles-Carter (/biːˈjɒnseɪ/ b...</td>\n",
       "      <td>False</td>\n",
       "      <td>[Houston, Texas]</td>\n",
       "    </tr>\n",
       "    <tr>\n",
       "      <th>4</th>\n",
       "      <td>Beyoncé</td>\n",
       "      <td>In which decade did Beyonce become famous?</td>\n",
       "      <td>Beyoncé Giselle Knowles-Carter (/biːˈjɒnseɪ/ b...</td>\n",
       "      <td>False</td>\n",
       "      <td>[late 1990s]</td>\n",
       "    </tr>\n",
       "  </tbody>\n",
       "</table>\n",
       "</div>"
      ],
      "text/plain": [
       "     title                                           question  \\\n",
       "0  Beyoncé           When did Beyonce start becoming popular?   \n",
       "1  Beyoncé  What areas did Beyonce compete in when she was...   \n",
       "2  Beyoncé  When did Beyonce leave Destiny's Child and bec...   \n",
       "3  Beyoncé       In what city and state did Beyonce  grow up?   \n",
       "4  Beyoncé         In which decade did Beyonce become famous?   \n",
       "\n",
       "                                             context  is_impossible  \\\n",
       "0  Beyoncé Giselle Knowles-Carter (/biːˈjɒnseɪ/ b...          False   \n",
       "1  Beyoncé Giselle Knowles-Carter (/biːˈjɒnseɪ/ b...          False   \n",
       "2  Beyoncé Giselle Knowles-Carter (/biːˈjɒnseɪ/ b...          False   \n",
       "3  Beyoncé Giselle Knowles-Carter (/biːˈjɒnseɪ/ b...          False   \n",
       "4  Beyoncé Giselle Knowles-Carter (/biːˈjɒnseɪ/ b...          False   \n",
       "\n",
       "                 answers  \n",
       "0    [in the late 1990s]  \n",
       "1  [singing and dancing]  \n",
       "2                 [2003]  \n",
       "3       [Houston, Texas]  \n",
       "4           [late 1990s]  "
      ]
     },
     "execution_count": 2,
     "metadata": {},
     "output_type": "execute_result"
    }
   ],
   "source": [
    "import pandas as pd\n",
    "import json\n",
    "\n",
    "\n",
    "def json_to_dataframe_with_titles(json_data):\n",
    "    qas = []\n",
    "    context = []\n",
    "    is_impossible = []\n",
    "    answers = []\n",
    "    titles = []\n",
    "\n",
    "    for article in json_data[\"data\"]:\n",
    "        title = article[\"title\"]\n",
    "        for paragraph in article[\"paragraphs\"]:\n",
    "            for qa in paragraph[\"qas\"]:\n",
    "                qas.append(qa[\"question\"].strip())\n",
    "                context.append(paragraph[\"context\"])\n",
    "                is_impossible.append(qa[\"is_impossible\"])\n",
    "\n",
    "                ans_list = []\n",
    "                for ans in qa[\"answers\"]:\n",
    "                    ans_list.append(ans[\"text\"])\n",
    "                answers.append(ans_list)\n",
    "                titles.append(title)\n",
    "\n",
    "    df = pd.DataFrame(\n",
    "        {\n",
    "            \"title\": titles,\n",
    "            \"question\": qas,\n",
    "            \"context\": context,\n",
    "            \"is_impossible\": is_impossible,\n",
    "            \"answers\": answers,\n",
    "        }\n",
    "    )\n",
    "    return df\n",
    "\n",
    "\n",
    "train_df = json_to_dataframe_with_titles(json.load(open(\"train.json\", \"r\")))\n",
    "train_df.head()"
   ]
  },
  {
   "attachments": {},
   "cell_type": "markdown",
   "metadata": {},
   "source": [
    "### Embed the Training Data"
   ]
  },
  {
   "cell_type": "code",
   "execution_count": 21,
   "metadata": {},
   "outputs": [],
   "source": [
    "import os\n",
    "from qdrant_client import QdrantClient\n",
    "from qdrant_client.http import models\n",
    "from qdrant_client.http.models import PointStruct\n",
    "from qdrant_client.http.models import Distance, VectorParams"
   ]
  },
  {
   "cell_type": "code",
   "execution_count": 6,
   "metadata": {},
   "outputs": [
    {
     "data": {
      "text/plain": [
       "True"
      ]
     },
     "execution_count": 6,
     "metadata": {},
     "output_type": "execute_result"
    }
   ],
   "source": [
    "qdrant_client = QdrantClient(\n",
    "    url=os.getenv(\"QDRANT_URL\"), api_key=os.getenv(\"QDRANT_API_KEY\")\n",
    ")\n",
    "\n",
    "collection_name = \"cookbook\"  # An arbitrary name for the collection\n",
    "\n",
    "\n",
    "# Create the collection\n",
    "qdrant_client.recreate_collection(\n",
    "    collection_name=collection_name,\n",
    "    vectors_config=VectorParams(size=384, distance=Distance.COSINE),\n",
    ")"
   ]
  },
  {
   "cell_type": "code",
   "execution_count": 17,
   "metadata": {},
   "outputs": [
    {
     "name": "stdout",
     "output_type": "stream",
     "text": [
      "Requirement already satisfied: fastembed in /opt/homebrew/Caskroom/miniconda/base/envs/fst/lib/python3.9/site-packages (0.0.4)\n",
      "Requirement already satisfied: onnxruntime<2.0.0,>=1.15.1 in /opt/homebrew/Caskroom/miniconda/base/envs/fst/lib/python3.9/site-packages (from fastembed) (1.15.1)\n",
      "Requirement already satisfied: onnxruntime-silicon<2.0.0,>=1.15.0 in /opt/homebrew/Caskroom/miniconda/base/envs/fst/lib/python3.9/site-packages (from fastembed) (1.15.0)\n",
      "Requirement already satisfied: requests<3.0.0,>=2.31.0 in /opt/homebrew/Caskroom/miniconda/base/envs/fst/lib/python3.9/site-packages (from fastembed) (2.31.0)\n",
      "Requirement already satisfied: tokenizers<0.14.0,>=0.13.3 in /opt/homebrew/Caskroom/miniconda/base/envs/fst/lib/python3.9/site-packages (from fastembed) (0.13.3)\n",
      "Requirement already satisfied: tqdm<5.0.0,>=4.65.0 in /opt/homebrew/Caskroom/miniconda/base/envs/fst/lib/python3.9/site-packages (from fastembed) (4.65.0)\n",
      "Requirement already satisfied: coloredlogs in /opt/homebrew/Caskroom/miniconda/base/envs/fst/lib/python3.9/site-packages (from onnxruntime<2.0.0,>=1.15.1->fastembed) (15.0.1)\n",
      "Requirement already satisfied: flatbuffers in /opt/homebrew/Caskroom/miniconda/base/envs/fst/lib/python3.9/site-packages (from onnxruntime<2.0.0,>=1.15.1->fastembed) (23.5.26)\n",
      "Requirement already satisfied: numpy>=1.21.6 in /opt/homebrew/Caskroom/miniconda/base/envs/fst/lib/python3.9/site-packages (from onnxruntime<2.0.0,>=1.15.1->fastembed) (1.24.4)\n",
      "Requirement already satisfied: packaging in /opt/homebrew/Caskroom/miniconda/base/envs/fst/lib/python3.9/site-packages (from onnxruntime<2.0.0,>=1.15.1->fastembed) (23.1)\n",
      "Requirement already satisfied: protobuf in /opt/homebrew/Caskroom/miniconda/base/envs/fst/lib/python3.9/site-packages (from onnxruntime<2.0.0,>=1.15.1->fastembed) (4.23.4)\n",
      "Requirement already satisfied: sympy in /opt/homebrew/Caskroom/miniconda/base/envs/fst/lib/python3.9/site-packages (from onnxruntime<2.0.0,>=1.15.1->fastembed) (1.12)\n",
      "Requirement already satisfied: charset-normalizer<4,>=2 in /opt/homebrew/Caskroom/miniconda/base/envs/fst/lib/python3.9/site-packages (from requests<3.0.0,>=2.31.0->fastembed) (3.2.0)\n",
      "Requirement already satisfied: idna<4,>=2.5 in /opt/homebrew/Caskroom/miniconda/base/envs/fst/lib/python3.9/site-packages (from requests<3.0.0,>=2.31.0->fastembed) (3.4)\n",
      "Requirement already satisfied: urllib3<3,>=1.21.1 in /opt/homebrew/Caskroom/miniconda/base/envs/fst/lib/python3.9/site-packages (from requests<3.0.0,>=2.31.0->fastembed) (1.26.16)\n",
      "Requirement already satisfied: certifi>=2017.4.17 in /opt/homebrew/Caskroom/miniconda/base/envs/fst/lib/python3.9/site-packages (from requests<3.0.0,>=2.31.0->fastembed) (2023.5.7)\n",
      "Requirement already satisfied: humanfriendly>=9.1 in /opt/homebrew/Caskroom/miniconda/base/envs/fst/lib/python3.9/site-packages (from coloredlogs->onnxruntime<2.0.0,>=1.15.1->fastembed) (10.0)\n",
      "Requirement already satisfied: mpmath>=0.19 in /opt/homebrew/Caskroom/miniconda/base/envs/fst/lib/python3.9/site-packages (from sympy->onnxruntime<2.0.0,>=1.15.1->fastembed) (1.3.0)\n"
     ]
    }
   ],
   "source": [
    "# !pip install fastembed"
   ]
  },
  {
   "cell_type": "code",
   "execution_count": 19,
   "metadata": {},
   "outputs": [],
   "source": [
    "from fastembed.embedding import DefaultEmbedding\n",
    "from typing import List\n",
    "import numpy as np\n",
    "import pandas as pd\n",
    "from tqdm.notebook import tqdm\n",
    "\n",
    "tqdm.pandas()\n",
    "\n",
    "embedding_model = DefaultEmbedding()"
   ]
  },
  {
   "cell_type": "code",
   "execution_count": 14,
   "metadata": {},
   "outputs": [
    {
     "data": {
      "application/vnd.jupyter.widget-view+json": {
       "model_id": "b626be2da7bb4b659b37ab54f094d0f1",
       "version_major": 2,
       "version_minor": 0
      },
      "text/plain": [
       "Generating embeddings:   0%|          | 0/1000 [00:00<?, ?it/s]"
      ]
     },
     "metadata": {},
     "output_type": "display_data"
    },
    {
     "name": "stderr",
     "output_type": "stream",
     "text": [
      "\n",
      "\u001b[A"
     ]
    },
    {
     "data": {
      "application/vnd.jupyter.widget-view+json": {
       "model_id": "043c9a44119f40a1b171edc45c21c6f8",
       "version_major": 2,
       "version_minor": 0
      },
      "text/plain": [
       "  0%|          | 0/1000 [00:00<?, ?it/s]"
      ]
     },
     "metadata": {},
     "output_type": "display_data"
    }
   ],
   "source": [
    "def generate_points_from_dataframe(df: pd.DataFrame) -> List[PointStruct]:\n",
    "    questions = df[\"question\"].tolist()\n",
    "    pbar = tqdm(total=len(questions), desc=\"Generating embeddings\")\n",
    "\n",
    "    # Generate embeddings for each question and update tqdm progress bar\n",
    "    embeddings = []\n",
    "    for question in questions:\n",
    "        embedding = list(embedding_model.embed([question]))[0]\n",
    "        embeddings.append(embedding)\n",
    "        pbar.update(1)\n",
    "    pbar.close()\n",
    "\n",
    "    # Convert embeddings to list of lists\n",
    "    embeddings_list = [embedding.tolist() for embedding in embeddings]\n",
    "\n",
    "    # Create a temporary DataFrame to hold the embeddings and existing DataFrame columns\n",
    "    temp_df = df.copy()\n",
    "    temp_df[\"embeddings\"] = embeddings_list\n",
    "    temp_df[\"id\"] = temp_df.index\n",
    "\n",
    "    # Generate PointStruct objects using DataFrame apply method\n",
    "    points = temp_df.progress_apply(\n",
    "        lambda row: PointStruct(\n",
    "            id=row[\"id\"],\n",
    "            vector=row[\"embeddings\"],\n",
    "            payload={\n",
    "                \"question\": row[\"question\"],\n",
    "                \"title\": row[\"title\"],\n",
    "                \"context\": row[\"context\"],\n",
    "                \"is_impossible\": row[\"is_impossible\"],\n",
    "                \"answers\": row[\"answers\"],\n",
    "            },\n",
    "        ),\n",
    "        axis=1,\n",
    "    ).tolist()\n",
    "\n",
    "    return points\n",
    "\n",
    "\n",
    "small_df = train_df.sample(1000, random_state=37)\n",
    "points = generate_points_from_dataframe(small_df)"
   ]
  },
  {
   "cell_type": "code",
   "execution_count": 15,
   "metadata": {},
   "outputs": [
    {
     "name": "stdout",
     "output_type": "stream",
     "text": [
      "operation_id=0 status=<UpdateStatus.COMPLETED: 'completed'>\n"
     ]
    }
   ],
   "source": [
    "operation_info = qdrant_client.upsert(\n",
    "    collection_name=collection_name, wait=True, points=points\n",
    ")\n",
    "print(operation_info)"
   ]
  },
  {
   "cell_type": "code",
   "execution_count": 17,
   "metadata": {},
   "outputs": [],
   "source": [
    "df = pd.read_json(\"1K_with_ft_generated_answers.json\", lines=True, orient=\"records\")"
   ]
  },
  {
   "cell_type": "code",
   "execution_count": 71,
   "metadata": {},
   "outputs": [
    {
     "data": {
      "application/vnd.jupyter.widget-view+json": {
       "model_id": "70cad3cd68264543a5b90e0a4142f006",
       "version_major": 2,
       "version_minor": 0
      },
      "text/plain": [
       "  0%|          | 0/1000 [00:00<?, ?it/s]"
      ]
     },
     "metadata": {},
     "output_type": "display_data"
    }
   ],
   "source": [
    "def get_few_shot_prompt(row):\n",
    "\n",
    "    query, row_context = row[\"question\"], row[\"context\"]\n",
    "\n",
    "    embeddings = list(embedding_model.embed([query]))\n",
    "    query_embedding = embeddings[0].tolist()\n",
    "\n",
    "    num_of_qa_to_retrieve = 6\n",
    "\n",
    "    # Pick the most similar question from the collection\n",
    "    q1 = qdrant_client.search(\n",
    "        collection_name=collection_name,\n",
    "        query_vector=query_embedding,\n",
    "        with_payload=True,\n",
    "        limit=num_of_qa_to_retrieve,\n",
    "        query_filter=models.Filter(\n",
    "            must=[\n",
    "                models.FieldCondition(\n",
    "                    key=\"is_impossible\",\n",
    "                    match=models.MatchValue(\n",
    "                        value=False,\n",
    "                    ),\n",
    "                ),\n",
    "            ],\n",
    "        )\n",
    "    )\n",
    "\n",
    "    # Pick the next best question which has same title but impossible answer/I don't know answer\n",
    "    q2 = qdrant_client.search(\n",
    "        collection_name=collection_name,\n",
    "        query_vector=query_embedding,\n",
    "        query_filter=models.Filter(\n",
    "            must=[\n",
    "                models.FieldCondition(\n",
    "                    key=\"is_impossible\",\n",
    "                    match=models.MatchValue(\n",
    "                        value=True,\n",
    "                    ),\n",
    "                ),\n",
    "            ]\n",
    "        ),\n",
    "        with_payload=True,\n",
    "        limit=num_of_qa_to_retrieve,\n",
    "    )\n",
    "\n",
    "\n",
    "    instruction = \"\"\"Answer the following Question based on the Context only. Only answer from the Context. If you don't know the answer, say 'I don't know'.\\n\\n\"\"\"\n",
    "    # If there is a next best question, add it to the prompt\n",
    "    \n",
    "    def q_to_prompt(q):\n",
    "        question, context = q.payload[\"question\"], q.payload[\"context\"]\n",
    "        answer = q.payload[\"answers\"][0] if len(q.payload[\"answers\"]) > 0 else \"I don't know\"\n",
    "        return [\n",
    "            {\n",
    "                \"role\": \"user\", \n",
    "                \"content\": f\"\"\"Question: {question}\\n\\nContext: {context}\\n\\nAnswer:\"\"\"\n",
    "            },\n",
    "            {\"role\": \"assistant\", \"content\": answer},\n",
    "        ]\n",
    "\n",
    "    rag_prompt = []\n",
    "    if len(q1) >= 1:\n",
    "        rag_prompt += q_to_prompt(q1[0])\n",
    "    # If the next best question is not the same as the question, add it to the prompt\n",
    "    if len(q2) >= 1 and (q2[0].payload[\"question\"] != q1[0].payload[\"question\"]):\n",
    "        rag_prompt += q_to_prompt(q2[0])\n",
    "\n",
    "    rag_prompt += [\n",
    "        {\n",
    "            \"role\": \"user\",\n",
    "            \"content\": f\"\"\"Question: {query}\\n\\nContext: {row_context}\\n\\nAnswer:\"\"\"\n",
    "        },\n",
    "    ]\n",
    "\n",
    "    rag_prompt = [{\"role\": \"system\", \"content\": instruction}] + rag_prompt\n",
    "    return rag_prompt\n",
    "\n",
    "df[\"few_shot_prompt_1K\"] = df.progress_apply(get_few_shot_prompt, axis=1)"
   ]
  },
  {
   "attachments": {},
   "cell_type": "markdown",
   "metadata": {},
   "source": [
    "\n",
    "\n",
    "## Finetuning and Inference Changes\n",
    "We will use the same dataset as before, but this time we will only provide a few examples of the answer we're looking for. We will also provide a few examples of the answer we're not looking for. This will allow the model to learn to handle questions where the answer is not present in the context. \n",
    "\n",
    "We assumed perfect retrieval in the previous section, but we will not assume perfect retrieval here. Instead, we will use a vector search engine to find similar questions and answers, and then use those to finetuning the model. We will use [Qdrant](https://qdrant.tech/), an open-source vector search engine. We will use Qdrant to find similar questions and answers, and then use those to finetuning the model."
   ]
  }
 ],
 "metadata": {
  "kernelspec": {
   "display_name": "fst",
   "language": "python",
   "name": "python3"
  },
  "language_info": {
   "codemirror_mode": {
    "name": "ipython",
    "version": 3
   },
   "file_extension": ".py",
   "mimetype": "text/x-python",
   "name": "python",
   "nbconvert_exporter": "python",
   "pygments_lexer": "ipython3",
   "version": "3.9.17"
  },
  "orig_nbformat": 4
 },
 "nbformat": 4,
 "nbformat_minor": 2
}
