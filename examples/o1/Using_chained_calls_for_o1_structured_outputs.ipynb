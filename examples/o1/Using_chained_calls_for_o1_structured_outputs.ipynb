{
 "cells": [
  {
   "cell_type": "markdown",
   "metadata": {},
   "source": [
    "# Using chained calls for reasoning structured outputs"
   ]
  },
  {
   "cell_type": "markdown",
   "metadata": {},
   "source": [
    "The initially released versions (September 2024) of [o1](https://openai.com/index/introducing-openai-o1-preview/) reasoning models have advanced capabilities but do not have [structured outputs](https://platform.openai.com/docs/guides/structured-outputs/examples) support. \n",
    "\n",
    "This means that requests with o1 don't have reliable type-safety and rely on the prompt itself to return a useful JSON. \n",
    "\n",
    "In this guide, we'll explore two methods to prompt o1 models, specifically `o1-preview`, to return a valid JSON format when using the OpenAI API."
   ]
  },
  {
   "cell_type": "markdown",
   "metadata": {},
   "source": [
    "# Prompting\n",
    "\n",
    "The simplest way to return a JSON response using `o1-preview` is to explicitly prompt it. \n",
    "\n",
    "Let's run through an example of:\n",
    "- Fetching a wikipedia page of companies\n",
    "- Determining which could benefit the most from AI capabilities\n",
    "- Returning them in a JSON format, which could then be ingested by other systems"
   ]
  },
  {
   "cell_type": "code",
   "execution_count": 2,
   "metadata": {},
   "outputs": [
    {
     "name": "stdout",
     "output_type": "stream",
     "text": [
      "{\n",
      "    \"companies\": [\n",
      "        {\n",
      "            \"company_name\": \"Nvidia\",\n",
      "            \"page_link\": \"https://en.wikipedia.org/wiki/Nvidia\",\n",
      "            \"reason\": \"As a leading producer of GPUs and AI hardware, Nvidia stands to benefit greatly from the growth of AI technology, as their products are essential for AI computation and development.\"\n",
      "        },\n",
      "        {\n",
      "            \"company_name\": \"Microsoft\",\n",
      "            \"page_link\": \"https://en.wikipedia.org/wiki/Microsoft\",\n",
      "            \"reason\": \"Microsoft can leverage AI technology across its products and services, including cloud computing (Azure AI), productivity software, and through its partnership with OpenAI.\"\n",
      "        },\n",
      "        {\n",
      "            \"company_name\": \"Amazon\",\n",
      "            \"page_link\": \"https://en.wikipedia.org/wiki/Amazon_(company)\",\n",
      "            \"reason\": \"Amazon can utilize AI to improve its retail operations with better logistics and personalization, and enhance its cloud computing services (AWS) with AI offerings.\"\n",
      "        }\n",
      "    ]\n",
      "}\n"
     ]
    }
   ],
   "source": [
    "import requests\n",
    "from openai import OpenAI\n",
    "\n",
    "client = OpenAI()\n",
    "\n",
    "def fetch_html(url):\n",
    "    response = requests.get(url)\n",
    "    if response.status_code == 200:\n",
    "        return response.text\n",
    "    else:\n",
    "        return None\n",
    "\n",
    "url = \"https://en.wikipedia.org/wiki/List_of_largest_companies_in_the_United_States_by_revenue\"\n",
    "html_content = fetch_html(url)\n",
    "\n",
    "json_format = \"\"\"\n",
    "{\n",
    "    companies: [\n",
    "        {\n",
    "            \\\"company_name\\\": \\\"OpenAI\\\",\n",
    "            \\\"page_link\\\": \\\"https://en.wikipedia.org/wiki/OpenAI\\\",\n",
    "            \\\"reason\\\": \\\"OpenAI would benefit because they are an AI company...\\\"\n",
    "        }\n",
    "    ]\n",
    "}\n",
    "\"\"\"\n",
    "\n",
    "o1_response = client.chat.completions.create(\n",
    "    model=\"o1-preview\",\n",
    "    messages=[\n",
    "        {\n",
    "            \"role\": \"user\", \n",
    "            \"content\": f\"\"\"\n",
    "You are a business analyst designed to understand how AI technology could be used across large corporations.\n",
    "\n",
    "Read the following html and return which companies would benefit from using AI technology: {html_content}. Rank these propects by opportunity by comparing them and show me the top 3. Return only as a JSON with the following format: {json_format}\"\n",
    "\"\"\"\n",
    "        }\n",
    "    ]\n",
    ")\n",
    "\n",
    "print(o1_response.choices[0].message.content)"
   ]
  },
  {
   "cell_type": "markdown",
   "metadata": {},
   "source": [
    "Note that the response is already quite good - it returns the JSON with the appropriate responses. However, it runs into the same pitfalls as existing use-cases of prompt-only JSON inference: \n",
    "- You must manually process this JSON into your type-safe structure\n",
    "- Model refusals are not [explicitly returned from the API as a separate structure](https://platform.openai.com/docs/guides/structured-outputs/refusals)"
   ]
  },
  {
   "cell_type": "markdown",
   "metadata": {},
   "source": [
    "# Structured Outputs"
   ]
  },
  {
   "cell_type": "markdown",
   "metadata": {},
   "source": [
    "Let's now do this with [structured outputs.](https://platform.openai.com/docs/guides/structured-outputs). To enable this functionality, we'll chain our `o1-preview` response, with a `gpt-4o-mini` response that can effectively handle the data returned from the original `o1-preview` response. "
   ]
  },
  {
   "cell_type": "code",
   "execution_count": 10,
   "metadata": {},
   "outputs": [
    {
     "name": "stdout",
     "output_type": "stream",
     "text": [
      "CompaniesData(\n",
      "    companies=[\n",
      "        CompanyData(\n",
      "            company_name='Nvidia',\n",
      "            page_link='https://en.wikipedia.org/wiki/Nvidia',\n",
      "            reason=(\n",
      "                'As a leading producer of GPUs and AI hardware, Nvidia stands to benefit greatly from the growth of AI'\n",
      "                ' technology, as their products are essential for AI computation and development.'\n",
      "            ),\n",
      "        ),\n",
      "        CompanyData(\n",
      "            company_name='Microsoft',\n",
      "            page_link='https://en.wikipedia.org/wiki/Microsoft',\n",
      "            reason=(\n",
      "                'Microsoft can leverage AI technology across its products and services, including cloud computing (Azu'\n",
      "                're AI), productivity software, and through its partnership with OpenAI.'\n",
      "            ),\n",
      "        ),\n",
      "        CompanyData(\n",
      "            company_name='Amazon',\n",
      "            page_link='https://en.wikipedia.org/wiki/Amazon_(company)',\n",
      "            reason=(\n",
      "                'Amazon can utilize AI to improve its retail operations with better logistics and personalization, and'\n",
      "                ' enhance its cloud computing services (AWS) with AI offerings.'\n",
      "            ),\n",
      "        ),\n",
      "    ],\n",
      ")\n"
     ]
    }
   ],
   "source": [
    "from pydantic import BaseModel\n",
    "from devtools import pprint\n",
    "\n",
    "class CompanyData(BaseModel):\n",
    "    company_name: str\n",
    "    page_link: str\n",
    "    reason: str\n",
    "\n",
    "class CompaniesData(BaseModel):\n",
    "    companies: list[CompanyData]\n",
    "\n",
    "o1_response_content = o1_response.choices[0].message.content\n",
    "\n",
    "response = client.beta.chat.completions.parse(\n",
    "    model=\"gpt-4o-mini\",\n",
    "    messages=[\n",
    "        {\n",
    "            \"role\": \"user\", \n",
    "            \"content\": f\"\"\"\n",
    "Given the following data, format it with the given response format: {o1_response_content}\n",
    "\"\"\"\n",
    "        }\n",
    "    ],\n",
    "    response_format=CompaniesData,\n",
    ")\n",
    "\n",
    "pprint(response.choices[0].message.parsed)"
   ]
  },
  {
   "cell_type": "markdown",
   "metadata": {},
   "source": [
    "# Conclusion\n",
    "\n",
    "Structured outputs allow your code to have reliable type-safety and simpler prompting. In addition, it allows you to re-use your object schemas for easier integration into your existing workflows.\n",
    "\n",
    "The o1 class of models currently doesn't have structured outputs support, but we can re-use existing structured outputs functionality from `gpt-4o-mini` by chaining two requests together. This flow currently requires two calls, but the second `gpt-4o-mini` call cost should be minimal compared to the `o1-preview`/`o1-mini` calls."
   ]
  }
 ],
 "metadata": {
  "kernelspec": {
   "display_name": "Python 3",
   "language": "python",
   "name": "python3"
  },
  "language_info": {
   "codemirror_mode": {
    "name": "ipython",
    "version": 3
   },
   "file_extension": ".py",
   "mimetype": "text/x-python",
   "name": "python",
   "nbconvert_exporter": "python",
   "pygments_lexer": "ipython3",
   "version": "3.12.6"
  }
 },
 "nbformat": 4,
 "nbformat_minor": 2
}
