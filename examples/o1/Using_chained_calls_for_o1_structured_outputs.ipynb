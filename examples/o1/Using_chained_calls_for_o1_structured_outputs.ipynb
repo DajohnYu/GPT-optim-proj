{
 "cells": [
  {
   "cell_type": "markdown",
   "metadata": {},
   "source": [
    "# Using chained calls for reasoning structured outputs"
   ]
  },
  {
   "cell_type": "markdown",
   "metadata": {},
   "source": [
    "The initially released versions (September 2024) of [o1](https://openai.com/index/introducing-openai-o1-preview/) reasoning models have advanced capabilities but do not have [structured outputs](https://platform.openai.com/docs/guides/structured-outputs/examples) support. \n",
    "\n",
    "This means that requests with o1 don't have reliable type-safety and rely on the prompt itself to return a useful JSON. \n",
    "\n",
    "In this guide, we'll explore two methods to prompt o1 models, specifically `o1-preview`, to return a valid JSON format when using the OpenAI API."
   ]
  },
  {
   "cell_type": "markdown",
   "metadata": {},
   "source": [
    "# Prompting\n",
    "\n",
    "The simplest way to return a JSON response using `o1-preview` is to explicitly prompt it. \n",
    "\n",
    "Let's run through an example of:\n",
    "- Fetching a wikipedia page of companies\n",
    "- Determining which could benefit the most from AI capabilities\n",
    "- Returning them in a JSON format, which could then be ingested by other systems"
   ]
  },
  {
   "cell_type": "code",
   "execution_count": 11,
   "metadata": {},
   "outputs": [
    {
     "name": "stdout",
     "output_type": "stream",
     "text": [
      "{\n",
      "    \"companies\": [\n",
      "        {\n",
      "            \"company_name\": \"Walmart\",\n",
      "            \"page_link\": \"https://en.wikipedia.org/wiki/Walmart\",\n",
      "            \"reason\": \"As the largest retailer, Walmart can benefit from AI technology by enhancing supply chain management, optimizing inventory levels, improving customer experience through personalized recommendations, and streamlining operations for increased efficiency.\"\n",
      "        },\n",
      "        {\n",
      "            \"company_name\": \"UnitedHealth Group\",\n",
      "            \"page_link\": \"https://en.wikipedia.org/wiki/UnitedHealth_Group\",\n",
      "            \"reason\": \"UnitedHealth Group can leverage AI for predictive analytics, personalized healthcare plans, improved diagnostics, and automating administrative tasks, leading to better patient outcomes and operational efficiency.\"\n",
      "        },\n",
      "        {\n",
      "            \"company_name\": \"JPMorgan Chase\",\n",
      "            \"page_link\": \"https://en.wikipedia.org/wiki/JPMorgan_Chase\",\n",
      "            \"reason\": \"JPMorgan Chase can utilize AI for fraud detection, risk management, personalized financial services, and automating customer service through chatbots, enhancing both security and customer experience.\"\n",
      "        }\n",
      "    ]\n",
      "}\n"
     ]
    }
   ],
   "source": [
    "import requests\n",
    "from openai import OpenAI\n",
    "\n",
    "client = OpenAI()\n",
    "\n",
    "def fetch_html(url):\n",
    "    response = requests.get(url)\n",
    "    if response.status_code == 200:\n",
    "        return response.text\n",
    "    else:\n",
    "        return None\n",
    "\n",
    "url = \"https://en.wikipedia.org/wiki/List_of_largest_companies_in_the_United_States_by_revenue\"\n",
    "html_content = fetch_html(url)\n",
    "\n",
    "json_format = \"\"\"\n",
    "{\n",
    "    companies: [\n",
    "        {\n",
    "            \\\"company_name\\\": \\\"OpenAI\\\",\n",
    "            \\\"page_link\\\": \\\"https://en.wikipedia.org/wiki/OpenAI\\\",\n",
    "            \\\"reason\\\": \\\"OpenAI would benefit because they are an AI company...\\\"\n",
    "        }\n",
    "    ]\n",
    "}\n",
    "\"\"\"\n",
    "\n",
    "response = client.chat.completions.create(\n",
    "    model=\"o1-preview\",\n",
    "    messages=[\n",
    "        {\n",
    "            \"role\": \"user\", \n",
    "            \"content\": f\"\"\"\n",
    "You are a business analyst designed to understand how AI technology could be used across large corporations.\n",
    "\n",
    "Read the following html and return which companies would benefit from using AI technology: {html_content}. Rank these propects by opportunity by comparing them and show me the top 3. Return only as a JSON with the following format: {json_format}\"\n",
    "\"\"\"\n",
    "        }\n",
    "    ]\n",
    ")\n",
    "\n",
    "print(response.choices[0].message.content)"
   ]
  },
  {
   "cell_type": "markdown",
   "metadata": {},
   "source": [
    "```\n",
    "{\n",
    "    \"companies\": [\n",
    "        {\n",
    "            \"company_name\": \"Walmart\",\n",
    "            \"page_link\": \"https://en.wikipedia.org/wiki/Walmart\",\n",
    "            \"reason\": \"Walmart could leverage AI technology to optimize supply chain management, improve inventory forecasting, enhance customer experience through personalized recommendations, and streamline operations across its vast retail network.\"\n",
    "        },\n",
    "        {\n",
    "            \"company_name\": \"JPMorgan Chase\",\n",
    "            \"page_link\": \"https://en.wikipedia.org/wiki/JPMorgan_Chase\",\n",
    "            \"reason\": \"JPMorgan Chase could benefit from AI by implementing advanced fraud detection systems, automating customer service with chatbots, enhancing risk management, and providing personalized financial advisory services using predictive analytics.\"\n",
    "        },\n",
    "        {\n",
    "            \"company_name\": \"UnitedHealth Group\",\n",
    "            \"page_link\": \"https://en.wikipedia.org/wiki/UnitedHealth_Group\",\n",
    "            \"reason\": \"UnitedHealth Group could utilize AI to improve patient care through predictive analytics, automate administrative tasks, enhance diagnostic accuracy, and develop personalized treatment plans, thus increasing efficiency and patient satisfaction.\"\n",
    "        }\n",
    "    ]\n",
    "}\n",
    "```\n",
    "\n",
    "Note that the response is already quite good - it returns the JSON with the appropriate responses. However, it runs into the same pitfalls as existing use-cases of prompt-only JSON inference: \n",
    "- You must manually process this JSON into your type-safe structure\n",
    "- Model refusals are not [explicitly returned from the API as a separate structure](https://platform.openai.com/docs/guides/structured-outputs/refusals)"
   ]
  },
  {
   "cell_type": "markdown",
   "metadata": {},
   "source": [
    "# Structured Outputs"
   ]
  },
  {
   "cell_type": "markdown",
   "metadata": {},
   "source": [
    "Let's now do this with [structured outputs.](https://platform.openai.com/docs/guides/structured-outputs). To enable this functionality, we'll chain our o1 response, with a 4o response that can effectively handle the data returned from the original o1 response. "
   ]
  },
  {
   "cell_type": "code",
   "execution_count": 9,
   "metadata": {},
   "outputs": [
    {
     "name": "stdout",
     "output_type": "stream",
     "text": [
      "companies=[CompanyData(company_name='Walmart', page_link='https://en.wikipedia.org/wiki/Walmart', reason='As the largest retailer, Walmart can leverage AI for supply chain optimization, inventory management, personalized customer experiences, and operational efficiency.'), CompanyData(company_name='ExxonMobil', page_link='https://en.wikipedia.org/wiki/ExxonMobil', reason='ExxonMobil can benefit from AI in predictive maintenance, optimizing exploration and drilling, analyzing geological data, and enhancing safety measures.'), CompanyData(company_name='UnitedHealth Group', page_link='https://en.wikipedia.org/wiki/UnitedHealth_Group', reason='UnitedHealth Group can utilize AI to improve patient data analysis, diagnostics, personalize treatment plans, detect fraud, and increase operational efficiency.')]\n"
     ]
    }
   ],
   "source": [
    "import requests\n",
    "from pydantic import BaseModel\n",
    "from openai import OpenAI\n",
    "\n",
    "client = OpenAI()\n",
    "\n",
    "def fetch_html(url):\n",
    "    response = requests.get(url)\n",
    "    if response.status_code == 200:\n",
    "        return response.text\n",
    "    else:\n",
    "        return None\n",
    "\n",
    "url = \"https://en.wikipedia.org/wiki/List_of_largest_companies_in_the_United_States_by_revenue\"\n",
    "html_content = fetch_html(url)\n",
    "\n",
    "class CompanyData(BaseModel):\n",
    "    company_name: str\n",
    "    page_link: str\n",
    "    reason: str\n",
    "\n",
    "class CompaniesData(BaseModel):\n",
    "    companies: list[CompanyData]\n",
    "\n",
    "json_format = \"\"\"\n",
    "{\n",
    "    \\\"company_name\\\": \\\"OpenAI\\\",\n",
    "    \\\"page_link\\\": \\\"https://en.wikipedia.org/wiki/OpenAI\\\",\n",
    "    \\\"reason\\\": \\\"OpenAI would benefit because they are an AI company...\\\"}\"\n",
    "\"\"\"\n",
    "\n",
    "o1_response = client.chat.completions.create(\n",
    "    model=\"o1-preview\",\n",
    "    messages=[\n",
    "        {\n",
    "            \"role\": \"user\", \n",
    "            \"content\": f\"\"\"\n",
    "You are a business analyst designed to understand how AI technology could be used across large corporations.\n",
    "\n",
    "Read the following html and return which companies would benefit from using AI technology: {html_content}. Rank these propects by opportunity by comparing them and show me the top 3. Return each company with the following information: {CompanyData.model_fields.keys()}\"\n",
    "\"\"\"\n",
    "        }\n",
    "    ]\n",
    ")\n",
    "\n",
    "o1_response_content = o1_response.choices[0].message.content\n",
    "\n",
    "response = client.beta.chat.completions.parse(\n",
    "    model=\"gpt-4o-2024-08-06\",\n",
    "    messages=[\n",
    "        {\n",
    "            \"role\": \"user\", \n",
    "            \"content\": f\"\"\"\n",
    "Given the following data, format it with the given response format: {o1_response_content}\n",
    "\"\"\"\n",
    "        }\n",
    "    ],\n",
    "    response_format=CompaniesData,\n",
    ")\n",
    "\n",
    "print(response.choices[0].message.parsed)"
   ]
  },
  {
   "cell_type": "markdown",
   "metadata": {},
   "source": [
    "# Conclusion\n",
    "\n",
    "The o1 models don't currently have structured outputs support, but we can use the existing structured outputs functionality from `gpt-4o`/`gpt-4o-mini` by chaining two requests together. \n",
    "\n",
    "This currently requires two calls, but it can allow your functionality to be type-safe and align with how you use the structured outputs already. "
   ]
  }
 ],
 "metadata": {
  "kernelspec": {
   "display_name": "Python 3",
   "language": "python",
   "name": "python3"
  },
  "language_info": {
   "codemirror_mode": {
    "name": "ipython",
    "version": 3
   },
   "file_extension": ".py",
   "mimetype": "text/x-python",
   "name": "python",
   "nbconvert_exporter": "python",
   "pygments_lexer": "ipython3",
   "version": "3.12.6"
  }
 },
 "nbformat": 4,
 "nbformat_minor": 2
}
