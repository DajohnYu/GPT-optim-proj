{
 "cells": [
  {
   "cell_type": "markdown",
   "metadata": {},
   "source": [
    "## Visualizing Open AI Embeddings in Atlas\n",
    "\n",
    "In this example, we will upload food review embeddings to [Atlas](https://atlas.nomic.ai) to visualize the embeddings."
   ]
  },
  {
   "attachments": {},
   "cell_type": "markdown",
   "metadata": {},
   "source": [
    "## What is Atlas?\n",
    "\n",
    "[Atlas](https://atlas.nomic.ai) is a machine learning tool used to visualize massive datasets of embeddings in your web browser. Upload millions of embeddings to Atlas and interact with them in your web browser or jupyter notebook."
   ]
  },
  {
   "cell_type": "markdown",
   "metadata": {},
   "source": [
    "### 1. Login to Atlas.\n"
   ]
  },
  {
   "cell_type": "code",
   "execution_count": 1,
   "outputs": [
    {
     "name": "stdout",
     "output_type": "stream",
     "text": [
      "Requirement already satisfied: nomic in /home/andriy/PycharmProjects/nomic/nomic (1.0.42)\r\n",
      "Requirement already satisfied: click in /home/andriy/.local/lib/python3.8/site-packages (from nomic) (8.1.3)\r\n",
      "Requirement already satisfied: jsonlines in /home/andriy/.local/lib/python3.8/site-packages (from nomic) (3.1.0)\r\n",
      "Requirement already satisfied: loguru in /home/andriy/.local/lib/python3.8/site-packages (from nomic) (0.6.0)\r\n",
      "Requirement already satisfied: rich in /home/andriy/.local/lib/python3.8/site-packages (from nomic) (12.5.1)\r\n",
      "Requirement already satisfied: requests in /home/andriy/.local/lib/python3.8/site-packages (from nomic) (2.28.1)\r\n",
      "Requirement already satisfied: numpy in /home/andriy/.local/lib/python3.8/site-packages (from nomic) (1.23.0)\r\n",
      "Requirement already satisfied: pydantic in /home/andriy/.local/lib/python3.8/site-packages (from nomic) (1.9.1)\r\n",
      "Requirement already satisfied: wonderwords in /home/andriy/.local/lib/python3.8/site-packages (from nomic) (2.2.0)\r\n",
      "Requirement already satisfied: tqdm in /home/andriy/.local/lib/python3.8/site-packages (from nomic) (4.64.0)\r\n",
      "Requirement already satisfied: cohere in /home/andriy/.local/lib/python3.8/site-packages (from nomic) (2.0.0)\r\n",
      "Requirement already satisfied: pyarrow in /home/andriy/.local/lib/python3.8/site-packages (from nomic) (8.0.0)\r\n",
      "Requirement already satisfied: attrs>=19.2.0 in /home/andriy/.local/lib/python3.8/site-packages (from jsonlines->nomic) (21.4.0)\r\n",
      "Requirement already satisfied: commonmark<0.10.0,>=0.9.0 in /home/andriy/.local/lib/python3.8/site-packages (from rich->nomic) (0.9.1)\r\n",
      "Requirement already satisfied: typing-extensions<5.0,>=4.0.0; python_version < \"3.9\" in /home/andriy/.local/lib/python3.8/site-packages (from rich->nomic) (4.2.0)\r\n",
      "Requirement already satisfied: pygments<3.0.0,>=2.6.0 in /home/andriy/.local/lib/python3.8/site-packages (from rich->nomic) (2.12.0)\r\n",
      "Requirement already satisfied: urllib3<1.27,>=1.21.1 in /home/andriy/.local/lib/python3.8/site-packages (from requests->nomic) (1.26.13)\r\n",
      "Requirement already satisfied: certifi>=2017.4.17 in /usr/lib/python3/dist-packages (from requests->nomic) (2019.11.28)\r\n",
      "Requirement already satisfied: charset-normalizer<3,>=2 in /home/andriy/.local/lib/python3.8/site-packages (from requests->nomic) (2.1.0)\r\n",
      "Requirement already satisfied: idna<4,>=2.5 in /usr/lib/python3/dist-packages (from requests->nomic) (2.8)\r\n"
     ]
    }
   ],
   "source": [
    "!pip install nomic"
   ],
   "metadata": {
    "collapsed": false
   }
  },
  {
   "cell_type": "code",
   "execution_count": 3,
   "metadata": {},
   "outputs": [],
   "source": [
    "import pandas as pd\n",
    "import numpy as np\n",
    "\n",
    "# Load the embeddings\n",
    "datafile_path = \"data/fine_food_reviews_with_embeddings_1k.csv\"\n",
    "df = pd.read_csv(datafile_path)\n",
    "\n",
    "# Convert to a list of lists of floats\n",
    "embeddings = np.array(df.embedding.apply(eval).to_list())\n",
    "df = df.drop('embedding', axis=1)\n",
    "df = df.rename(columns={'Unnamed: 0': 'id'})\n"
   ]
  },
  {
   "cell_type": "code",
   "execution_count": 8,
   "metadata": {},
   "outputs": [
    {
     "name": "stderr",
     "output_type": "stream",
     "text": [
      "2023-02-21 23:39:00.792 | INFO     | nomic.project:_create_project:884 - Creating project `meek-laborer` in organization `Atlas Demo`\n",
      "2023-02-21 23:39:01.687 | INFO     | nomic.atlas:map_embeddings:93 - Uploading embeddings to Atlas.\n",
      "100%|██████████| 1/1 [00:07<00:00,  7.10s/it]\n",
      "2023-02-21 23:39:08.802 | INFO     | nomic.atlas:map_embeddings:112 - Embedding upload succeeded.\n",
      "2023-02-21 23:39:09.766 | INFO     | nomic.project:create_index:1192 - Created map `meek-laborer` in project `meek-laborer`: https://atlas.nomic.ai/map/fddc0e07-97c5-477c-827c-96bca44519aa/463f4614-7689-47e4-b55b-1da0cc679559\n",
      "2023-02-21 23:39:09.767 | INFO     | nomic.atlas:map_embeddings:125 - meek-laborer: https://atlas.nomic.ai/map/fddc0e07-97c5-477c-827c-96bca44519aa/463f4614-7689-47e4-b55b-1da0cc679559\n"
     ]
    }
   ],
   "source": [
    "import nomic\n",
    "from nomic import atlas\n",
    "nomic.login('7xDPkYXSYDc1_ErdTPIcoAR9RNd8YDlkS3nVNXcVoIMZ6') #demo account\n",
    "\n",
    "data = df.to_dict('records')\n",
    "project = atlas.map_embeddings(embeddings=embeddings, data=data,\n",
    "                               id_field='id',\n",
    "                               colorable_fields=['Score'])\n",
    "map = project.maps[0]"
   ]
  },
  {
   "cell_type": "markdown",
   "metadata": {},
   "source": [
    "### 2. Interact with your embeddings in Jupyter"
   ]
  },
  {
   "cell_type": "code",
   "execution_count": 10,
   "outputs": [
    {
     "data": {
      "text/plain": "meek-laborer: https://atlas.nomic.ai/map/fddc0e07-97c5-477c-827c-96bca44519aa/463f4614-7689-47e4-b55b-1da0cc679559",
      "text/html": "\n            <h3>Project: meek-laborer</h3>\n            <script>\n            destroy = function() {\n                document.getElementById(\"iframe463f4614-7689-47e4-b55b-1da0cc679559\").remove()\n            }\n        </script>\n\n        <h4>Projection ID: 463f4614-7689-47e4-b55b-1da0cc679559</h4>\n        <div class=\"actions\">\n            <div id=\"hide\" class=\"action\" onclick=\"destroy()\">Hide embedded project</div>\n            <div class=\"action\" id=\"out\">\n                <a href=\"https://atlas.nomic.ai/map/fddc0e07-97c5-477c-827c-96bca44519aa/463f4614-7689-47e4-b55b-1da0cc679559\" target=\"_blank\">Explore on atlas.nomic.ai</a>\n            </div>\n        </div>\n        \n        <iframe class=\"iframe\" id=\"iframe463f4614-7689-47e4-b55b-1da0cc679559\" allow=\"clipboard-read; clipboard-write\" src=\"https://atlas.nomic.ai/map/fddc0e07-97c5-477c-827c-96bca44519aa/463f4614-7689-47e4-b55b-1da0cc679559\">\n        </iframe>\n\n        <style>\n            .iframe {\n                /* vh can be **very** large in vscode ipynb. */\n                height: min(75vh, 66vw);\n                width: 100%;\n            }\n        </style>\n        \n        <style>\n            .actions {\n              display: block;\n            }\n            .action {\n              min-height: 18px;\n              margin: 5px;\n              transition: all 500ms ease-in-out;\n            }\n            .action:hover {\n              cursor: pointer;\n            }\n            #hide:hover::after {\n                content: \" X\";\n            }\n            #out:hover::after {\n                content: \"\";\n            }\n        </style>\n        \n            "
     },
     "execution_count": 10,
     "metadata": {},
     "output_type": "execute_result"
    }
   ],
   "source": [
    "map"
   ],
   "metadata": {
    "collapsed": false
   }
  },
  {
   "cell_type": "code",
   "execution_count": null,
   "outputs": [],
   "source": [],
   "metadata": {
    "collapsed": false
   }
  }
 ],
 "metadata": {
  "kernelspec": {
   "display_name": "Python 3 (ipykernel)",
   "language": "python",
   "name": "python3"
  },
  "language_info": {
   "codemirror_mode": {
    "name": "ipython",
    "version": 3
   },
   "file_extension": ".py",
   "mimetype": "text/x-python",
   "name": "python",
   "nbconvert_exporter": "python",
   "pygments_lexer": "ipython3",
   "version": "3.9.15"
  },
  "vscode": {
   "interpreter": {
    "hash": "365536dcbde60510dc9073d6b991cd35db2d9bac356a11f5b64279a5e6708b97"
   }
  }
 },
 "nbformat": 4,
 "nbformat_minor": 4
}
