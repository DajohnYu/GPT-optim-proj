{
 "cells": [
  {
   "cell_type": "markdown",
   "metadata": {},
   "source": [
    "# Using logprobs for classification and retrieval evaluation\n",
    "\n",
    "This notebook illustrates how to use the `logprobs` parameter in the Chat Completions API. \n",
    "With `logprobs` enabled, Chat Completions returns the log probabilities of each output token, and a limited number of the most likely tokens at each token position (along with their log probabilities). This can help with assessing the confidence of the model in its output, or to examine alternative responses the model may have given.<br><br> While there are a wide array of use cases for logprobs, this notebook will focus on using `logprobs` for:<br>\n",
    "1. Classification tasks\n",
    "2. Retrieval (Q&A) evaluation\n",
    "\n",
    "LLMs are quite strong at many classification tasks, but accurately measuring the model's confidence in its outputs can be difficult. Using `logprobs` can give an associated probability to each class prediction, which allows users to set their own classification thresholds.\n",
    "\n",
    "Further, `logprobs` can help with self-evaluation in retrieval applications. In the Q&A example, the model outputs a contrived 'sufficient_context_for_answer' boolean, which can be used as a confidence score of whether the answer is contained in the retrieved content. Evaluations of this type can help signficiantly with reducing RAG hallucinations and improving accuracy."
   ]
  },
  {
   "cell_type": "markdown",
   "metadata": {},
   "source": [
    "## 0. Imports and utils"
   ]
  },
  {
   "cell_type": "code",
   "execution_count": 1,
   "metadata": {},
   "outputs": [],
   "source": [
    "from openai import OpenAI\n",
    "from math import exp\n",
    "import numpy as np\n",
    "client= OpenAI()\n"
   ]
  },
  {
   "cell_type": "code",
   "execution_count": 2,
   "metadata": {},
   "outputs": [],
   "source": [
    "def get_completion(\n",
    "    messages: list[dict[str, str]],\n",
    "    model: str = \"gpt-4\",\n",
    "    max_tokens=500,\n",
    "    temperature=1.0,\n",
    "    stop=None,\n",
    "    functions=None,\n",
    "    logprobs=None,\n",
    "    top_logprobs=None\n",
    ") -> str:\n",
    "    params = {\n",
    "        'model': model,\n",
    "        'messages': messages,\n",
    "        'max_tokens': max_tokens,\n",
    "        'temperature': temperature,\n",
    "        'stop': stop,\n",
    "        'logprobs': logprobs,\n",
    "        'top_logprobs':top_logprobs\n",
    "    }\n",
    "    if functions:\n",
    "        params['functions'] = functions\n",
    "\n",
    "    completion = client.chat.completions.create(**params)\n",
    "    return completion\n",
    "\n"
   ]
  },
  {
   "cell_type": "markdown",
   "metadata": {},
   "source": [
    "## 1. Classification"
   ]
  },
  {
   "cell_type": "markdown",
   "metadata": {},
   "source": [
    "Let's say we want to create a system to classify news articles into a set of categories. Without `logprobs`, we can use Chat Completions to do this, but it is much more difficult to assess how confident the model is in its classifications. <br><br>\n",
    "Now, with `logprobs` enabled, we can see just how confident the model is in its predictions, which is crucial for creating an accurate and trustworthy classifier."
   ]
  },
  {
   "cell_type": "markdown",
   "metadata": {},
   "source": [
    "We can begin with a prompt that gives the model four categories: **Technology, Politics, Sports, and Arts**, and asks the model to classify articles into those categories based on headlines alone."
   ]
  },
  {
   "cell_type": "code",
   "execution_count": 3,
   "metadata": {},
   "outputs": [],
   "source": [
    "CLASSIFICATION_PROMPT = \"\"\"You will be given a headline of a news article. Classify the article into one of the following categories: Technology, Politics, Sports, and Art.\n",
    "Return only the name of the category, and nothing else. MAKE SURE your output is one of the four categories stated. Article headline: {headline}\"\"\"\n"
   ]
  },
  {
   "cell_type": "markdown",
   "metadata": {},
   "source": [
    "Let's look at three sample headlines, and first begin with a standard Chat Completions output, without `logprobs`"
   ]
  },
  {
   "cell_type": "code",
   "execution_count": 4,
   "metadata": {},
   "outputs": [],
   "source": [
    "headlines = [\"Tech Giant Unveils Latest Smartphone Model with Advanced Photo-Editing Features.\",\n",
    "             \"Local Mayor Launches Initiative to Enhance Urban Public Transport.\",\n",
    "\"Tennis Champions Showcase Hidden Talents in Symphony Orchestra Debut\"]\n"
   ]
  },
  {
   "cell_type": "code",
   "execution_count": 5,
   "metadata": {},
   "outputs": [
    {
     "name": "stdout",
     "output_type": "stream",
     "text": [
      "Tech Giant Unveils Latest Smartphone Model with Advanced Photo-Editing Features.\n",
      "Technology \n",
      "\n",
      "Local Mayor Launches Initiative to Enhance Urban Public Transport.\n",
      "Politics \n",
      "\n",
      "Tennis Champions Showcase Hidden Talents in Symphony Orchestra Debut\n",
      "Sports \n",
      "\n"
     ]
    }
   ],
   "source": [
    "for headline in headlines:\n",
    "  print(headline)\n",
    "  API_RESPONSE = get_completion([{'role':'user','content':CLASSIFICATION_PROMPT.format(headline=headline)}],model='gpt-4')\n",
    "  print(API_RESPONSE.choices[0].message.content,'\\n')\n"
   ]
  },
  {
   "cell_type": "markdown",
   "metadata": {},
   "source": [
    "Here we can see the selected category for each headline. However, we have no visibility into the confidence of the model in its predictions. Let's rerun the same prompt but with `logprobs` enabled, and `top_logprobs` set to 2 (this will show us the 2 most likely output tokens for each token). Additionally we can also output the linear probability of each output token, in order to convert the log probability to the more easily interprable scale of 0-100%. \n"
   ]
  },
  {
   "cell_type": "code",
   "execution_count": 6,
   "metadata": {},
   "outputs": [
    {
     "name": "stdout",
     "output_type": "stream",
     "text": [
      "Tech Giant Unveils Latest Smartphone Model with Advanced Photo-Editing Features.\n",
      "\u001b[96mOutput token:\u001b[0m Technology, \u001b[93mlogprobs:\u001b[0m -3.1737043e-06, \u001b[95mlinear probability:\u001b[0m 100.0%\n",
      "\u001b[96mNext most likely token:\u001b[0m Techn, \u001b[93mlogprobs:\u001b[0m -13.390628, \u001b[95mlinear probability:\u001b[0m 0.0%\n",
      "\n",
      "\n",
      "Local Mayor Launches Initiative to Enhance Urban Public Transport.\n",
      "\u001b[96mOutput token:\u001b[0m Politics, \u001b[93mlogprobs:\u001b[0m -2.9352968e-06, \u001b[95mlinear probability:\u001b[0m 100.0%\n",
      "\u001b[96mNext most likely token:\u001b[0m Technology, \u001b[93mlogprobs:\u001b[0m -13.859378, \u001b[95mlinear probability:\u001b[0m 0.0%\n",
      "\n",
      "\n",
      "Tennis Champions Showcase Hidden Talents in Symphony Orchestra Debut\n",
      "\u001b[96mOutput token:\u001b[0m Sports, \u001b[93mlogprobs:\u001b[0m -0.30504292, \u001b[95mlinear probability:\u001b[0m 73.71%\n",
      "\u001b[96mNext most likely token:\u001b[0m Art, \u001b[93mlogprobs:\u001b[0m -1.336293, \u001b[95mlinear probability:\u001b[0m 26.28%\n",
      "\n",
      "\n"
     ]
    }
   ],
   "source": [
    "for headline in headlines:\n",
    "      print(headline)\n",
    "      API_RESPONSE = get_completion([{'role':'user','content':CLASSIFICATION_PROMPT.format(headline=headline)}],model='gpt-4',logprobs=True, top_logprobs=2)\n",
    "      first, second = API_RESPONSE.choices[0].logprobs.content[0].top_logprobs\n",
    "      print(f\"\\033[96mOutput token:\\033[0m {first.token}, \\033[93mlogprobs:\\033[0m {first.logprob}, \\033[95mlinear probability:\\033[0m {np.round(np.exp(first.logprob)*100,2)}%\")\n",
    "      print(f\"\\033[96mNext most likely token:\\033[0m {second.token}, \\033[93mlogprobs:\\033[0m {second.logprob}, \\033[95mlinear probability:\\033[0m {np.round(np.exp(second.logprob)*100,2)}%\")\n",
    "\n",
    "      print('\\n')\n"
   ]
  },
  {
   "cell_type": "markdown",
   "metadata": {},
   "source": [
    "As expected from the first two headlines, `gpt-4` is nearly 100% confident in its classifications, as the content is clearly technology and politics focused respectively. However, the third headline combines both sports and art-related themes, so we see the model is significantly less confident in its selection, with a ~30% probability of selecting Sports instead of Art. <br><br> \n",
    "This shows how important using `logprobs` can be, as if we are using LLMs for classification tasks we can set confidence theshholds, or output several potential output tokens if the log probability of the selected output is not sufficiently high. For instance, if we are creating a recommendation engine to tag articles, we can automatically classify headlines crossing a certain threshold, and send the less certain headlines for manual review."
   ]
  },
  {
   "cell_type": "markdown",
   "metadata": {},
   "source": [
    "## 2. Retrieval confidence scoring"
   ]
  },
  {
   "cell_type": "markdown",
   "metadata": {},
   "source": [
    "To reduce hallucinations, and the performance of our Q&A RAG system, we can use `logprobs` to evaluate how confident the model is in its retrieval."
   ]
  },
  {
   "cell_type": "markdown",
   "metadata": {},
   "source": [
    "Let's say we have built a retrieval system using RAG for Q&A, but are struggling with hallucinated answers to our questions. *Note:* we will use a hardcoded article for this example, but see other entries in the cookbook for tutorials on using RAG for Q&A."
   ]
  },
  {
   "cell_type": "code",
   "execution_count": 7,
   "metadata": {},
   "outputs": [],
   "source": [
    "#Article retrieved\n",
    "ada_lovelace_article = \"\"\"Augusta Ada King, Countess of Lovelace (née Byron; 10 December 1815 – 27 November 1852) was an English mathematician and writer, chiefly known for her work on Charles Babbage's proposed mechanical general-purpose computer, the Analytical Engine. She was the first to recognise that the machine had applications beyond pure calculation.\n",
    "Ada Byron was the only legitimate child of poet Lord Byron and reformer Lady Byron. All Lovelace's half-siblings, Lord Byron's other children, were born out of wedlock to other women. Byron separated from his wife a month after Ada was born and left England forever. He died in Greece when Ada was eight. Her mother was anxious about her upbringing and promoted Ada's interest in mathematics and logic in an effort to prevent her from developing her father's perceived insanity. Despite this, Ada remained interested in him, naming her two sons Byron and Gordon. Upon her death, she was buried next to him at her request. Although often ill in her childhood, Ada pursued her studies assiduously. She married William King in 1835. King was made Earl of Lovelace in 1838, Ada thereby becoming Countess of Lovelace.\n",
    "Her educational and social exploits brought her into contact with scientists such as Andrew Crosse, Charles Babbage, Sir David Brewster, Charles Wheatstone, Michael Faraday, and the author Charles Dickens, contacts which she used to further her education. Ada described her approach as \"poetical science\" and herself as an \"Analyst (& Metaphysician)\".\n",
    "When she was eighteen, her mathematical talents led her to a long working relationship and friendship with fellow British mathematician Charles Babbage, who is known as \"the father of computers\". She was in particular interested in Babbage's work on the Analytical Engine. Lovelace first met him in June 1833, through their mutual friend, and her private tutor, Mary Somerville.\n",
    "Between 1842 and 1843, Ada translated an article by the military engineer Luigi Menabrea (later Prime Minister of Italy) about the Analytical Engine, supplementing it with an elaborate set of seven notes, simply called \"Notes\".\n",
    "Lovelace's notes are important in the early history of computers, especially since the seventh one contained what many consider to be the first computer program—that is, an algorithm designed to be carried out by a machine. Other historians reject this perspective and point out that Babbage's personal notes from the years 1836/1837 contain the first programs for the engine. She also developed a vision of the capability of computers to go beyond mere calculating or number-crunching, while many others, including Babbage himself, focused only on those capabilities. Her mindset of \"poetical science\" led her to ask questions about the Analytical Engine (as shown in her notes) examining how individuals and society relate to technology as a collaborative tool.\n",
    "\"\"\"\n",
    "\n",
    "#Questions that can be easily answered given the article\n",
    "easy_questions = [\"What nationality was Ada Lovelace?\", \"What was an important finding from Lovelace's seventh note?\"]\n",
    "\n",
    "#Questions that are not fully covered in the article\n",
    "medium_questions =[\"Did Lovelace collaborate with Charles Dickens\",\"What concepts did Lovelace build with Charles Babbage\"]\n"
   ]
  },
  {
   "cell_type": "markdown",
   "metadata": {},
   "source": [
    "Now, what we can do is ask the model to respond to the question, but then also evaluate its response. Specifically, we will ask the model to output a boolean 'sufficient_context_for_answer'. We can then evaluate the `logprobs` to see just how confident the model is that its answer was contained in the provided context"
   ]
  },
  {
   "cell_type": "code",
   "execution_count": 8,
   "metadata": {},
   "outputs": [],
   "source": [
    "PROMPT = \"\"\"You retrieved this article: {article}. The question is: {question}. Before even answering the question, consider whether you have sufficient information in the article to answer the question fully.\n",
    "Your output should JUST be the boolean true or false, of if you have sufficient information in the article to answer the question.\n",
    "Respond with just one word, the boolean true or false. You must output the word 'True', or the word 'False', nothing else.\n",
    "\"\"\"\n"
   ]
  },
  {
   "cell_type": "code",
   "execution_count": 9,
   "metadata": {},
   "outputs": [
    {
     "data": {
      "text/plain": [
       "'Sports'"
      ]
     },
     "execution_count": 9,
     "metadata": {},
     "output_type": "execute_result"
    }
   ],
   "source": [
    "API_RESPONSE.choices[0].logprobs.content[0].token\n"
   ]
  },
  {
   "cell_type": "code",
   "execution_count": 10,
   "metadata": {},
   "outputs": [
    {
     "name": "stdout",
     "output_type": "stream",
     "text": [
      "\u001b[1mQuestions clearly answered in article\u001b[0m\n",
      "\n",
      "\u001b[92mQuestion:\u001b[0m What nationality was Ada Lovelace?\n",
      "\u001b[96msufficient_context_for_answer:\u001b[0m True, \u001b[93mlogprobs:\u001b[0m -1.9361265e-07, \u001b[95mlinear probability:\u001b[0m 100.0% \n",
      "\n",
      "\u001b[92mQuestion:\u001b[0m What was an important finding from Lovelace's seventh note?\n",
      "\u001b[96msufficient_context_for_answer:\u001b[0m True, \u001b[93mlogprobs:\u001b[0m -1.0280384e-06, \u001b[95mlinear probability:\u001b[0m 100.0% \n",
      "\n",
      "\n",
      "\n",
      "\u001b[1mQuestions only partially covered in the article\u001b[0m\n",
      "\n",
      "\u001b[92mQuestion:\u001b[0m Did Lovelace collaborate with Charles Dickens\n",
      "ChatCompletion(id='chatcmpl-8XcDe8MxlcZxWYdKnbeseh0S7xaqr', choices=[Choice(finish_reason='stop', index=0, logprobs=ChoiceLogprobs(content=[ChatCompletionTokenLogprob(token='False', bytes=[70, 97, 108, 115, 101], logprob=-0.3132625, top_logprobs=[TopLogprob(token='False', bytes=[70, 97, 108, 115, 101], logprob=-0.3132625), TopLogprob(token='True', bytes=[84, 114, 117, 101], logprob=-1.3132625), TopLogprob(token='false', bytes=[102, 97, 108, 115, 101], logprob=-14.563263)])]), message=ChatCompletionMessage(content='False', role='assistant', function_call=None, tool_calls=None))], created=1703022430, model='gpt-4-0613', object='chat.completion', system_fingerprint=None, usage=CompletionUsage(completion_tokens=1, prompt_tokens=700, total_tokens=701))\n",
      "\u001b[96msufficient_context_for_answer:\u001b[0m False, \u001b[93mlogprobs:\u001b[0m -0.3132625, \u001b[95mlinear probability:\u001b[0m 73.11% \n",
      "\n",
      "\u001b[92mQuestion:\u001b[0m What concepts did Lovelace build with Charles Babbage\n",
      "ChatCompletion(id='chatcmpl-8XcDe1TcrR2CQdeedieSnetUxqMHH', choices=[Choice(finish_reason='stop', index=0, logprobs=ChoiceLogprobs(content=[ChatCompletionTokenLogprob(token='False', bytes=[70, 97, 108, 115, 101], logprob=-1.179743, top_logprobs=[TopLogprob(token='True', bytes=[84, 114, 117, 101], logprob=-0.36724302), TopLogprob(token='False', bytes=[70, 97, 108, 115, 101], logprob=-1.179743), TopLogprob(token='false', bytes=[102, 97, 108, 115, 101], logprob=-14.789118)])]), message=ChatCompletionMessage(content='False', role='assistant', function_call=None, tool_calls=None))], created=1703022430, model='gpt-4-0613', object='chat.completion', system_fingerprint=None, usage=CompletionUsage(completion_tokens=1, prompt_tokens=703, total_tokens=704))\n",
      "\u001b[96msufficient_context_for_answer:\u001b[0m False, \u001b[93mlogprobs:\u001b[0m -1.179743, \u001b[95mlinear probability:\u001b[0m 30.74% \n",
      "\n"
     ]
    }
   ],
   "source": [
    "import numpy as np\n",
    "\n",
    "print('\\033[1mQuestions clearly answered in article\\033[0m\\n')  # Blue text\n",
    "\n",
    "for question in easy_questions:\n",
    "    API_RESPONSE = get_completion([{'role':'user','content':PROMPT.format(article=ada_lovelace_article,\n",
    "    question=question)}], model='gpt-4', logprobs=True)\n",
    "    print('\\033[92mQuestion:\\033[0m', question)  # Green text\n",
    "    for logprob in API_RESPONSE.choices[0].logprobs.content:\n",
    "        print(f\"\\033[96msufficient_context_for_answer:\\033[0m {logprob.token}, \\033[93mlogprobs:\\033[0m {logprob.logprob}, \\033[95mlinear probability:\\033[0m {np.round(np.exp(logprob.logprob)*100,2)}%\", '\\n')\n",
    "\n",
    "print('\\n\\n\\033[1mQuestions only partially covered in the article\\033[0m\\n')  # Blue text\n",
    "\n",
    "for question in medium_questions:\n",
    "    API_RESPONSE = get_completion([{'role':'user','content':PROMPT.format(article=ada_lovelace_article,\n",
    "    question=question)}], model='gpt-4', logprobs=True,top_logprobs=3)\n",
    "    print('\\033[92mQuestion:\\033[0m', question)  # Green text\n",
    "    print(API_RESPONSE)\n",
    "    for logprob in API_RESPONSE.choices[0].logprobs.content:\n",
    "        print(f\"\\033[96msufficient_context_for_answer:\\033[0m {logprob.token}, \\033[93mlogprobs:\\033[0m {logprob.logprob}, \\033[95mlinear probability:\\033[0m {np.round(np.exp(logprob.logprob)*100,2)}%\", '\\n')\n"
   ]
  },
  {
   "cell_type": "markdown",
   "metadata": {},
   "source": [
    "For the first two questions, our evaluator knows with (near) 100% confidence that the article has sufficient context to answer the posed questions.<br><br>\n",
    "On the other hand, for the more tricky questions which are less clearly answered in the article, the model is signfiicantly less confident that it has sufficient context. This is a great guardrail to help ensure our retrieved content is sufficient.<br><br>\n",
    "This self-evaluation can help reduce hallucinations, as you can restrict answers or re-prompt the user when your `sufficient_context_for_answer` log probability is below a certain threshold. Methods like this have been shown to significantly reduce RAG for Q&A hallucinations and errors ([Example]((https://jfan001.medium.com/how-we-cut-the-rate-of-gpt-hallucinations-from-20-to-less-than-2-f3bfcc10e4ec)))"
   ]
  },
  {
   "cell_type": "markdown",
   "metadata": {},
   "source": [
    "## 3. Autocomplete"
   ]
  },
  {
   "cell_type": "markdown",
   "metadata": {},
   "source": [
    "Another use case for `logprobs` are autocomplete systems. Without creating the entire autocomplete engine end-to-end, let's demonstrate how `logprobs` could help us decide when we to suggest a sentence completion as a user is typing."
   ]
  },
  {
   "cell_type": "markdown",
   "metadata": {},
   "source": [
    "First, let's come up with a sample sentence: \"My least favorite TV show is Breaking Bad.\" Let's say we are building an autocomplete sentence, and we want it to dynamically recommend the next word or token as we are typing the sentence, but *only* if the model is quite sure of what the next word will be. To demonstrate this, let's break up the sentence into sequential components."
   ]
  },
  {
   "cell_type": "code",
   "execution_count": 11,
   "metadata": {},
   "outputs": [],
   "source": [
    "sentence_list = [\"My\",\"My least\", \"My least favorite\",\"My least favorite TV\",\"My least favorite TV show\",\n",
    "\"My least favorite TV show is\",\"My least favorite TV show is Breaking Bad\"]\n"
   ]
  },
  {
   "cell_type": "markdown",
   "metadata": {},
   "source": [
    "Now, we can ask `gpt-3.5-turbo` to act as an autocomplete engine with whatever context the model is given. We can enable `logprobs` and can see how confident the model is in its prediction."
   ]
  },
  {
   "cell_type": "code",
   "execution_count": 12,
   "metadata": {},
   "outputs": [
    {
     "name": "stdout",
     "output_type": "stream",
     "text": [
      "Sentence: My\n",
      "\u001b[96mPredicted next token:\u001b[0m favorite, \u001b[93mlogprobs:\u001b[0m -0.32095337, \u001b[95mlinear probability:\u001b[0m 72.55%\n",
      "\u001b[96mPredicted next token:\u001b[0m dog, \u001b[93mlogprobs:\u001b[0m -2.1003017, \u001b[95mlinear probability:\u001b[0m 12.24%\n",
      "\u001b[96mPredicted next token:\u001b[0m ap, \u001b[93mlogprobs:\u001b[0m -2.814785, \u001b[95mlinear probability:\u001b[0m 5.99%\n",
      "\n",
      "\n",
      "Sentence: My least\n",
      "\u001b[96mPredicted next token:\u001b[0m favorite, \u001b[93mlogprobs:\u001b[0m -0.013642592, \u001b[95mlinear probability:\u001b[0m 98.65%\n",
      "\u001b[96mPredicted next token:\u001b[0m My, \u001b[93mlogprobs:\u001b[0m -4.3126197, \u001b[95mlinear probability:\u001b[0m 1.34%\n",
      "\u001b[96mPredicted next token:\u001b[0m  favorite, \u001b[93mlogprobs:\u001b[0m -9.684484, \u001b[95mlinear probability:\u001b[0m 0.01%\n",
      "\n",
      "\n",
      "Sentence: My least favorite\n",
      "\u001b[96mPredicted next token:\u001b[0m food, \u001b[93mlogprobs:\u001b[0m -0.9481721, \u001b[95mlinear probability:\u001b[0m 38.74%\n",
      "\u001b[96mPredicted next token:\u001b[0m My, \u001b[93mlogprobs:\u001b[0m -1.3447137, \u001b[95mlinear probability:\u001b[0m 26.06%\n",
      "\u001b[96mPredicted next token:\u001b[0m color, \u001b[93mlogprobs:\u001b[0m -1.3887696, \u001b[95mlinear probability:\u001b[0m 24.94%\n",
      "\n",
      "\n",
      "Sentence: My least favorite TV\n",
      "\u001b[96mPredicted next token:\u001b[0m show, \u001b[93mlogprobs:\u001b[0m -0.0007898556, \u001b[95mlinear probability:\u001b[0m 99.92%\n",
      "\u001b[96mPredicted next token:\u001b[0m My, \u001b[93mlogprobs:\u001b[0m -7.711523, \u001b[95mlinear probability:\u001b[0m 0.04%\n",
      "\u001b[96mPredicted next token:\u001b[0m series, \u001b[93mlogprobs:\u001b[0m -9.348547, \u001b[95mlinear probability:\u001b[0m 0.01%\n",
      "\n",
      "\n",
      "Sentence: My least favorite TV show\n",
      "\u001b[96mPredicted next token:\u001b[0m is, \u001b[93mlogprobs:\u001b[0m -0.18717362, \u001b[95mlinear probability:\u001b[0m 82.93%\n",
      "\u001b[96mPredicted next token:\u001b[0m of, \u001b[93mlogprobs:\u001b[0m -2.0721738, \u001b[95mlinear probability:\u001b[0m 12.59%\n",
      "\u001b[96mPredicted next token:\u001b[0m My, \u001b[93mlogprobs:\u001b[0m -3.2663133, \u001b[95mlinear probability:\u001b[0m 3.81%\n",
      "\n",
      "\n",
      "Sentence: My least favorite TV show is\n",
      "\u001b[96mPredicted next token:\u001b[0m \"My, \u001b[93mlogprobs:\u001b[0m -0.69349754, \u001b[95mlinear probability:\u001b[0m 49.98%\n",
      "\u001b[96mPredicted next token:\u001b[0m \"The, \u001b[93mlogprobs:\u001b[0m -1.2899293, \u001b[95mlinear probability:\u001b[0m 27.53%\n",
      "\u001b[96mPredicted next token:\u001b[0m My, \u001b[93mlogprobs:\u001b[0m -2.4170141, \u001b[95mlinear probability:\u001b[0m 8.92%\n",
      "\n",
      "\n",
      "Sentence: My least favorite TV show is Breaking Bad\n",
      "\u001b[96mPredicted next token:\u001b[0m because, \u001b[93mlogprobs:\u001b[0m -0.17786823, \u001b[95mlinear probability:\u001b[0m 83.71%\n",
      "\u001b[96mPredicted next token:\u001b[0m ,, \u001b[93mlogprobs:\u001b[0m -2.3946173, \u001b[95mlinear probability:\u001b[0m 9.12%\n",
      "\u001b[96mPredicted next token:\u001b[0m ., \u001b[93mlogprobs:\u001b[0m -3.1861975, \u001b[95mlinear probability:\u001b[0m 4.13%\n",
      "\n",
      "\n"
     ]
    }
   ],
   "source": [
    "high_prob_completions = {}\n",
    "low_prob_completions = {}\n",
    "\n",
    "for sentence in sentence_list:\n",
    "  PROMPT = \"\"\"Complete this sentence. You are acting as auto-complete. Simply complete the sentence to the best of your ability, make sure it is just ONE sentence: {sentence}\"\"\"\n",
    "  API_RESPONSE = get_completion([{'role':'user','content':PROMPT.format(sentence=sentence)}],model='gpt-3.5-turbo',logprobs=True,top_logprobs=3)\n",
    "#  for next_token in API_RESPONSE.choices[0].logprobs.content[0]:\n",
    "  print('Sentence:',sentence)\n",
    "  first_token = True\n",
    "  for token in API_RESPONSE.choices[0].logprobs.content[0].top_logprobs:\n",
    "    print(f\"\\033[96mPredicted next token:\\033[0m {token.token}, \\033[93mlogprobs:\\033[0m {token.logprob}, \\033[95mlinear probability:\\033[0m {np.round(np.exp(token.logprob)*100,2)}%\")\n",
    "    if first_token:\n",
    "      if np.exp(token.logprob)>0.95:\n",
    "        high_prob_completions[sentence]=token.token\n",
    "      if np.exp(token.logprob)<0.60:\n",
    "        low_prob_completions[sentence]=token.token\n",
    "    first_token=False\n",
    "  print('\\n')\n"
   ]
  },
  {
   "cell_type": "markdown",
   "metadata": {},
   "source": [
    "Let's look at the high confidence autocompletions:"
   ]
  },
  {
   "cell_type": "code",
   "execution_count": 13,
   "metadata": {},
   "outputs": [
    {
     "data": {
      "text/plain": [
       "{'My least': 'favorite', 'My least favorite TV': 'show'}"
      ]
     },
     "execution_count": 13,
     "metadata": {},
     "output_type": "execute_result"
    }
   ],
   "source": [
    "high_prob_completions\n"
   ]
  },
  {
   "cell_type": "markdown",
   "metadata": {},
   "source": [
    "These look reasonable! We can feel confident in those suggestions. It's pretty likely you want to write 'show' after writing 'My least favorite TV'! Now let's look at the autocompletion suggestions the model was less confident about:"
   ]
  },
  {
   "cell_type": "code",
   "execution_count": 14,
   "metadata": {},
   "outputs": [
    {
     "data": {
      "text/plain": [
       "{'My least favorite': 'food', 'My least favorite TV show is': '\"My'}"
      ]
     },
     "execution_count": 14,
     "metadata": {},
     "output_type": "execute_result"
    }
   ],
   "source": [
    "low_prob_completions\n"
   ]
  },
  {
   "cell_type": "markdown",
   "metadata": {},
   "source": [
    "These are logical as well. It's pretty unclear what the user is going to say with just the prefix 'my least favorite', and it's really anyone's guess what the author's favorite TV show is. <br><br>\n",
    "So, using `gpt-3.5-turbo`, we can create the root of a dynamic autocompletion engine with `logprobs`!"
   ]
  },
  {
   "cell_type": "markdown",
   "metadata": {},
   "source": [
    "## 4. Highlighter and bytes parameter"
   ]
  },
  {
   "cell_type": "markdown",
   "metadata": {},
   "source": [
    "Let's quickly touch on creating a simple token highlighter with `logprobs`, and using the bytes parameter. First, we can create a function that counts and highlights each token. While this doesn't use the log probabilities, it uses the built in tokenization that comes with enabling `logprobs`."
   ]
  },
  {
   "cell_type": "code",
   "execution_count": 15,
   "metadata": {},
   "outputs": [],
   "source": [
    "PROMPT = \"\"\"What's the longest word in the English language?\"\"\"\n",
    "API_RESPONSE = get_completion([{'role':'user','content':PROMPT}],model='gpt-4',logprobs=True,top_logprobs=5)\n",
    "\n",
    "#Function to highlight each token\n",
    "def highlight_text(api_response):\n",
    "    colors = ['\\033[95m', '\\033[92m', '\\033[93m', '\\033[91m', '\\033[94m']  # ANSI codes for purple, green, orange, red, blue\n",
    "    reset_color = '\\033[0m'\n",
    "    tokens = api_response.choices[0].logprobs.content\n",
    "\n",
    "    color_idx = 0\n",
    "    for t in tokens:\n",
    "        token_str = bytes(t.bytes).decode('utf-8')\n",
    "        print(f\"{colors[color_idx]}{token_str}{reset_color}\", end=\"\")\n",
    "\n",
    "        # Move to the next color in the sequence, wrapping around if necessary\n",
    "        color_idx = (color_idx + 1) % len(colors)\n",
    "    print()  # for readability\n",
    "    print(f\"Total number of tokens: {len(tokens)}\")\n",
    "\n"
   ]
  },
  {
   "cell_type": "code",
   "execution_count": 16,
   "metadata": {},
   "outputs": [
    {
     "name": "stdout",
     "output_type": "stream",
     "text": [
      "\u001b[95mThe\u001b[0m\u001b[92m longest\u001b[0m\u001b[93m word\u001b[0m\u001b[91m published\u001b[0m\u001b[94m in\u001b[0m\u001b[95m an\u001b[0m\u001b[92m English\u001b[0m\u001b[93m dictionary\u001b[0m\u001b[91m is\u001b[0m\u001b[94m '\u001b[0m\u001b[95mp\u001b[0m\u001b[92mne\u001b[0m\u001b[93mum\u001b[0m\u001b[91mon\u001b[0m\u001b[94moul\u001b[0m\u001b[95mtram\u001b[0m\u001b[92micro\u001b[0m\u001b[93msc\u001b[0m\u001b[91mop\u001b[0m\u001b[94mics\u001b[0m\u001b[95mil\u001b[0m\u001b[92mic\u001b[0m\u001b[93mov\u001b[0m\u001b[91mol\u001b[0m\u001b[94mcano\u001b[0m\u001b[95mcon\u001b[0m\u001b[92miosis\u001b[0m\u001b[93m',\u001b[0m\u001b[91m a\u001b[0m\u001b[94m lung\u001b[0m\u001b[95m disease\u001b[0m\u001b[92m caused\u001b[0m\u001b[93m by\u001b[0m\u001b[91m the\u001b[0m\u001b[94m inhal\u001b[0m\u001b[95mation\u001b[0m\u001b[92m of\u001b[0m\u001b[93m very\u001b[0m\u001b[91m fine\u001b[0m\u001b[94m sil\u001b[0m\u001b[95micate\u001b[0m\u001b[92m or\u001b[0m\u001b[93m quartz\u001b[0m\u001b[91m dust\u001b[0m\u001b[94m.\u001b[0m\u001b[95m It\u001b[0m\u001b[92m has\u001b[0m\u001b[93m \u001b[0m\u001b[91m45\u001b[0m\u001b[94m letters\u001b[0m\u001b[95m.\u001b[0m\n",
      "Total number of tokens: 51\n"
     ]
    }
   ],
   "source": [
    "highlight_text(API_RESPONSE)\n"
   ]
  },
  {
   "cell_type": "markdown",
   "metadata": {},
   "source": [
    "Cool, token highlighters like this can be used in various UIs. Next, let's reconstruct a sentence using the bytes parameter. With `logprobs` enabled, we are given both each token and the ASCII (decimal utf-8) values of the token string. These ASCII values can be helpful when handling tokens of or containing emojis or special characters."
   ]
  },
  {
   "cell_type": "code",
   "execution_count": 17,
   "metadata": {},
   "outputs": [
    {
     "name": "stdout",
     "output_type": "stream",
     "text": [
      "Token: \\xf0\\x9f\\x92\n",
      "Log prob: -0.00012130453\n",
      "Linear prob: 99.99 %\n",
      "Bytes: [240, 159, 146] \n",
      "\n",
      "Token: \\x99\n",
      "Log prob: 0.0\n",
      "Linear prob: 100.0 %\n",
      "Bytes: [153] \n",
      "\n",
      "Token:  -\n",
      "Log prob: -0.002962131\n",
      "Linear prob: 99.7 %\n",
      "Bytes: [32, 45] \n",
      "\n",
      "Token:  Blue\n",
      "Log prob: -0.00017660404\n",
      "Linear prob: 99.98 %\n",
      "Bytes: [32, 66, 108, 117, 101] \n",
      "\n",
      "Token:  Heart\n",
      "Log prob: -4.441817e-05\n",
      "Linear prob: 100.0 %\n",
      "Bytes: [32, 72, 101, 97, 114, 116] \n",
      "\n",
      "Bytes array: [240, 159, 146, 153, 32, 45, 32, 66, 108, 117, 101, 32, 72, 101, 97, 114, 116]\n",
      "Decoded bytes: 💙 - Blue Heart\n",
      "Joint prob: 99.67 %\n"
     ]
    }
   ],
   "source": [
    "PROMPT = \"\"\"Output the blue heart emoji and its name.\"\"\"\n",
    "API_RESPONSE = get_completion([{'role':'user','content':PROMPT}],model='gpt-4',logprobs=True)\n",
    "\n",
    "aggregated_bytes = []\n",
    "joint_logprob = 0.0\n",
    "for token in API_RESPONSE.choices[0].logprobs.content:\n",
    "    print('Token:',token.token)\n",
    "    print('Log prob:',token.logprob)\n",
    "    print('Linear prob:',np.round(exp(token.logprob)*100,2),'%')\n",
    "    print('Bytes:',token.bytes,'\\n')\n",
    "    aggregated_bytes += token.bytes\n",
    "    joint_logprob += token.logprob\n",
    "\n",
    "\n",
    "message_content = API_RESPONSE.choices[0].message.content\n",
    "aggregated_text = bytes(aggregated_bytes).decode('utf-8')\n",
    "\n",
    "assert message_content == aggregated_text\n",
    "print('Bytes array:',aggregated_bytes)\n",
    "print(f\"Decoded bytes: {aggregated_text}\")\n",
    "print('Joint prob:',np.round(exp(joint_logprob)*100,2),'%')\n",
    "\n"
   ]
  },
  {
   "cell_type": "markdown",
   "metadata": {},
   "source": [
    "Here, we see that while the first token was `\\xf0\\x9f\\x92'`, we can get its ASCII value and append it to a bytes array. Then, we can easily decode this array into a full sentence, and validate with our assert statement that the decoded bytes is the same as our completion message! <br><br>\n",
    "Additionally, we can get the joint probability of the entire completion, which is the exponentiated product of each token's log probability. This gives us how `likely` this given completion is given the prompt. Since, our prompt is quite directive (asking for a certain emoji and its name), the joint probability of this output is high! If we ask for a random output however, we'll see a much lower joint probability."
   ]
  },
  {
   "cell_type": "markdown",
   "metadata": {},
   "source": [
    "## 5. Conclusions"
   ]
  },
  {
   "cell_type": "markdown",
   "metadata": {},
   "source": [
    "Nice! We were able to use the `logprobs` parameter to build a more robust classifier, evaluate our retrieval for Q&A system, and encode and decode each 'byte' of our tokens! `Logprobs` adds useful information and signal to our completions output, and we are excited to see how you incorporate them to improve your applications!"
   ]
  },
  {
   "cell_type": "markdown",
   "metadata": {},
   "source": [
    "## 5. Extensions"
   ]
  },
  {
   "cell_type": "markdown",
   "metadata": {},
   "source": [
    "There are many other use cases for `logprobs` that are not covered in this notebook. We can use `logprobs` for:\n",
    "  - Evaluations (e.g.: calculate `perplexity` of outputs, which is the evaluation metric of uncertainty or surprise of the model at its outcomes)\n",
    "  - Moderation\n",
    "  - Keyword selection\n",
    "  - and more!\n",
    "\n",
    "    "
   ]
  }
 ],
 "metadata": {
  "kernelspec": {
   "display_name": "openai",
   "language": "python",
   "name": "python3"
  },
  "language_info": {
   "codemirror_mode": {
    "name": "ipython",
    "version": 3
   },
   "file_extension": ".py",
   "mimetype": "text/x-python",
   "name": "python",
   "nbconvert_exporter": "python",
   "pygments_lexer": "ipython3",
   "version": "3.9.16"
  }
 },
 "nbformat": 4,
 "nbformat_minor": 2
}
