{
 "cells": [
  {
   "cell_type": "markdown",
   "metadata": {},
   "source": [
    "# Application Information "
   ]
  },
  {
   "cell_type": "markdown",
   "metadata": {},
   "source": [
    "- Description: Convert a user’s place / landmark into a weather forecast & answer the user’s question\n",
    "- Application Website: https://www.weather.gov/  \n",
    "- Application API Documentation: https://www.weather.gov/documentation/services-web-api  "
   ]
  },
  {
   "cell_type": "markdown",
   "metadata": {},
   "source": [
    "# Application Prerequisites"
   ]
  },
  {
   "cell_type": "markdown",
   "metadata": {},
   "source": [
    "None"
   ]
  },
  {
   "cell_type": "markdown",
   "metadata": {},
   "source": [
    "# Custom GPT Instructions "
   ]
  },
  {
   "cell_type": "code",
   "execution_count": null,
   "metadata": {
    "vscode": {
     "languageId": "plaintext"
    }
   },
   "outputs": [],
   "source": [
    "```\n",
    "**Context**: A user needs information related to a weather forecast of a specific location.\n",
    "\n",
    "**Instructions**:\n",
    "1. The user will provide a lat-long point or a general location or landmark (e.g. New York City, the White House). If the user does not provide one, ask for the relevant location\n",
    "2. If the user provides a general location or landmark, convert that into a lat-long coordinate. If required, browse the web to look up the lat-long point. \n",
    "3. Run the \"getPointData\" API action and retrieve back the gridId, gridX, and gridY parameters.\n",
    "4. Apply those variables as the office, gridX, and gridY variables in the \"getGridpointForecast\" API action to retrieve back a forecast\n",
    "5. Use that forecast to answer the user's question \n",
    "\n",
    "**Additional Notes**: \n",
    "- Assume the user uses US weather units (e.g. Farenheit) unless otherwise specified\n",
    "- If the user says \"Let's get started\" or \"What do I do?\", explain the purpose of this Custom GPT\n",
    "```"
   ]
  },
  {
   "cell_type": "markdown",
   "metadata": {},
   "source": [
    "\n",
    "OpenAPI Schema \n",
    "openapi: 3.1.0\n",
    "info:\n",
    "  title: NWS Weather API\n",
    "  description: Access to weather data including forecasts, alerts, and observations.\n",
    "  version: 1.0.0\n",
    "servers:\n",
    "  - url: https://api.weather.gov\n",
    "    description: Main API Server\n",
    "paths:\n",
    "  /points/{latitude},{longitude}:\n",
    "    get:\n",
    "      operationId: getPointData\n",
    "      summary: Get forecast grid endpoints for a specific location\n",
    "      parameters:\n",
    "        - name: latitude\n",
    "          in: path\n",
    "          required: true\n",
    "          schema:\n",
    "            type: number\n",
    "            format: float\n",
    "          description: Latitude of the point\n",
    "        - name: longitude\n",
    "          in: path\n",
    "          required: true\n",
    "          schema:\n",
    "            type: number\n",
    "            format: float\n",
    "          description: Longitude of the point\n",
    "      responses:\n",
    "        '200':\n",
    "          description: Successfully retrieved grid endpoints\n",
    "          content:\n",
    "            application/json:\n",
    "              schema:\n",
    "                type: object\n",
    "                properties:\n",
    "                  properties:\n",
    "                    type: object\n",
    "                    properties:\n",
    "                      forecast:\n",
    "                        type: string\n",
    "                        format: uri\n",
    "                      forecastHourly:\n",
    "                        type: string\n",
    "                        format: uri\n",
    "                      forecastGridData:\n",
    "                        type: string\n",
    "                        format: uri\n",
    "\n",
    "  /gridpoints/{office}/{gridX},{gridY}/forecast:\n",
    "    get:\n",
    "      operationId: getGridpointForecast\n",
    "      summary: Get forecast for a given grid point\n",
    "      parameters:\n",
    "        - name: office\n",
    "          in: path\n",
    "          required: true\n",
    "          schema:\n",
    "            type: string\n",
    "          description: Weather Forecast Office ID\n",
    "        - name: gridX\n",
    "          in: path\n",
    "          required: true\n",
    "          schema:\n",
    "            type: integer\n",
    "          description: X coordinate of the grid\n",
    "        - name: gridY\n",
    "          in: path\n",
    "          required: true\n",
    "          schema:\n",
    "            type: integer\n",
    "          description: Y coordinate of the grid\n",
    "      responses:\n",
    "        '200':\n",
    "          description: Successfully retrieved gridpoint forecast\n",
    "          content:\n",
    "            application/json:\n",
    "              schema:\n",
    "                type: object\n",
    "                properties:\n",
    "                  properties:\n",
    "                    type: object\n",
    "                    properties:\n",
    "                      periods:\n",
    "                        type: array\n",
    "                        items:\n",
    "                          type: object\n",
    "                          properties:\n",
    "                            number:\n",
    "                              type: integer\n",
    "                            name:\n",
    "                              type: string\n",
    "                            startTime:\n",
    "                              type: string\n",
    "                              format: date-time\n",
    "                            endTime:\n",
    "                              type: string\n",
    "                              format: date-time\n",
    "                            temperature:\n",
    "                              type: integer\n",
    "                            temperatureUnit:\n",
    "                              type: string\n",
    "                            windSpeed:\n",
    "                              type: string\n",
    "                            windDirection:\n",
    "                              type: string\n",
    "                            icon:\n",
    "                              type: string\n",
    "                              format: uri\n",
    "                            shortForecast:\n",
    "                              type: string\n",
    "                            detailedForecast:\n",
    "                              type: string\n",
    "Authentication Instructions\n",
    "Pre-Action Steps\n",
    "None\n",
    "In ChatGPT\n",
    "None\n",
    "Post-Action Steps\n",
    "None\n",
    "FAQ & Troubleshooting\n",
    "Are there integrations that you’d like us to prioritize? Are there errors in our integrations? File a PR or issue in our github, and we’ll take a look. \n"
   ]
  }
 ],
 "metadata": {
  "language_info": {
   "name": "python"
  }
 },
 "nbformat": 4,
 "nbformat_minor": 2
}
